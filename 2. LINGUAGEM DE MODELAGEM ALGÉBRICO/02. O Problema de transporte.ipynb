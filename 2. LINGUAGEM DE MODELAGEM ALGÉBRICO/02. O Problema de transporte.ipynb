{
 "cells": [
  {
   "cell_type": "markdown",
   "metadata": {},
   "source": [
    "## Exemplo 02. O problema de transporte\n",
    "\n",
    "### Custos de transporte por tonelada, produção e Demanda\n",
    "\n",
    "| SID/FAB|Farmington [$-Ton]|Detroit [$-Ton]|Lansing [$-Ton]|Winsor [$-Ton]| St. Louis [$-Ton] | Fremont [$-Ton]| Lafayette [$-Ton]| **Produção [Ton]**|\n",
    "|:----:|:------:|:------:|:------:|:------:|:------:|:------:|:------:| :------:|\n",
    "|Gary| 39 | 14 | 11 | 14 | 16 | 82 | 8 | 1400 |\n",
    "|Cleveland| 27 | 9 | 12 | 9 | 26 | 95 | 17 | 2600 |\n",
    "|Pittsburg| 24 | 14 | 17 | 13 | 28 | 99 | 20 | 2900 |\n",
    "|**Demanda [Ton]**| 900 | 1200 | 600 | 400 | 1700 | 1100 | 1100 | $ \\sum{6900}$ |\n",
    "\n",
    "![Transporte](../Figuras/1.2.png)"
   ]
  },
  {
   "cell_type": "markdown",
   "metadata": {},
   "source": [
    "## Formulação General\n",
    "\n",
    "### Conjuntos\n",
    "- $ S: \\text{Conjunto de siderúrgicas.}$\n",
    "- $ F: \\text{Conjunto de fábricas.}$\n",
    "\n",
    "### Parâmetros\n",
    "- $ c_{s,f} : \\text{Custo de tranporte por tonelada da siderúrgica s para a fábrica f.} $\n",
    "- $ p_{s} : \\text{Produção da siderúrgica en toneladas.} $\n",
    "- $ d_{f} : \\text{Demanda da fábrica f em toneladas.} $\n",
    "\n",
    "### Variáveis de decisão\n",
    "\n",
    "- $x_{s,f} : \\text{Toneladas transportadas da siderúrgica s para a fábrica f.}$ \n",
    "\n",
    "### Função objetivo \n",
    "\n",
    "- $ \\mathrm{Min} \\sum\\limits_{s \\in S} \\sum\\limits_{f \\in F} c_{s,f} \\text{ } x _{s,f}$\n",
    "\n",
    "### Restrições \n",
    "\n",
    "- $ \\sum\\limits_{f \\in F} x_{s,f} = p_{s}  \\;\\;\\;\\;\\;\\; ;\\forall s \\in S $\n",
    "- $ \\sum\\limits_{s \\in S} x_{s,f} = d_{f} \\;\\;\\;\\;\\;\\; ;\\forall f \\in F $\n",
    "- $ x_{s,f} \\geq 0 \\;\\; ;\\forall s \\in S \\text{, } f \\in F $\n",
    "\n"
   ]
  },
  {
   "cell_type": "markdown",
   "metadata": {},
   "source": [
    "## Preparação dos dados de entrada"
   ]
  },
  {
   "cell_type": "code",
   "execution_count": 2,
   "metadata": {},
   "outputs": [],
   "source": [
    "import pandas as pd"
   ]
  },
  {
   "cell_type": "code",
   "execution_count": 3,
   "metadata": {},
   "outputs": [
    {
     "name": "stdout",
     "output_type": "stream",
     "text": [
      "           Farmington  Detroit  Lansing  Winsor  St. Louis  Fremont  Lafayette\n",
      "Gary               39       14       11      14         16       82          8\n",
      "Cleveland          27        9       12       9         26       95         17\n",
      "Pittsburg          24       14       17      13         28       99         20\n"
     ]
    }
   ],
   "source": [
    "df = pd.read_excel('../Datos/1.2.xlsx','Datos', header=0, index_col=0)\n",
    "print(df)"
   ]
  },
  {
   "cell_type": "code",
   "execution_count": 4,
   "metadata": {},
   "outputs": [
    {
     "name": "stdout",
     "output_type": "stream",
     "text": [
      "           Producao\n",
      "Gary           1400\n",
      "Cleveland      2600\n",
      "Pittsburg      2900\n"
     ]
    }
   ],
   "source": [
    "df_2 = pd.read_excel('../Datos/1.2.xlsx','Prod', header=0, index_col=0)\n",
    "print(df_2)"
   ]
  },
  {
   "cell_type": "code",
   "execution_count": 5,
   "metadata": {},
   "outputs": [
    {
     "name": "stdout",
     "output_type": "stream",
     "text": [
      "            Demanda\n",
      "Farmington      900\n",
      "Detroit        1200\n",
      "Lansing         600\n",
      "Winsor          400\n",
      "St. Louis      1700\n",
      "Fremont        1100\n",
      "Lafayette      1000\n"
     ]
    }
   ],
   "source": [
    "df_3 = pd.read_excel('../Datos/1.2.xlsx','Dem', header=0, index_col=0)\n",
    "print(df_3)"
   ]
  },
  {
   "cell_type": "markdown",
   "metadata": {},
   "source": [
    "### Listas e dictionarios"
   ]
  },
  {
   "cell_type": "code",
   "execution_count": 6,
   "metadata": {},
   "outputs": [
    {
     "name": "stdout",
     "output_type": "stream",
     "text": [
      "['Gary', 'Cleveland', 'Pittsburg'] ['Farmington', 'Detroit', 'Lansing', 'Winsor', 'St. Louis', 'Fremont', 'Lafayette']\n"
     ]
    }
   ],
   "source": [
    "SID = list(df.index.map(str))\n",
    "FAB = list(df.columns.map(str))\n",
    "print(SID, FAB)"
   ]
  },
  {
   "cell_type": "code",
   "execution_count": 7,
   "metadata": {},
   "outputs": [],
   "source": [
    "costos = {(s,f):df.at[s,f] for s in SID for f in FAB}"
   ]
  },
  {
   "cell_type": "code",
   "execution_count": 8,
   "metadata": {},
   "outputs": [],
   "source": [
    "producao = df_2.to_dict()['Producao']"
   ]
  },
  {
   "cell_type": "code",
   "execution_count": 9,
   "metadata": {},
   "outputs": [],
   "source": [
    "demanda = df_3.to_dict()['Demanda']"
   ]
  },
  {
   "cell_type": "code",
   "execution_count": 10,
   "metadata": {},
   "outputs": [
    {
     "name": "stdout",
     "output_type": "stream",
     "text": [
      "['Gary', 'Cleveland', 'Pittsburg']\n",
      "['Farmington', 'Detroit', 'Lansing', 'Winsor', 'St. Louis', 'Fremont', 'Lafayette']\n"
     ]
    }
   ],
   "source": [
    "print(SID)\n",
    "print(FAB)"
   ]
  },
  {
   "cell_type": "code",
   "execution_count": 11,
   "metadata": {},
   "outputs": [
    {
     "name": "stdout",
     "output_type": "stream",
     "text": [
      "{'Gary': 1400, 'Cleveland': 2600, 'Pittsburg': 2900}\n",
      "{'Farmington': 900, 'Detroit': 1200, 'Lansing': 600, 'Winsor': 400, 'St. Louis': 1700, 'Fremont': 1100, 'Lafayette': 1000}\n",
      "{('Gary', 'Farmington'): 39, ('Gary', 'Detroit'): 14, ('Gary', 'Lansing'): 11, ('Gary', 'Winsor'): 14, ('Gary', 'St. Louis'): 16, ('Gary', 'Fremont'): 82, ('Gary', 'Lafayette'): 8, ('Cleveland', 'Farmington'): 27, ('Cleveland', 'Detroit'): 9, ('Cleveland', 'Lansing'): 12, ('Cleveland', 'Winsor'): 9, ('Cleveland', 'St. Louis'): 26, ('Cleveland', 'Fremont'): 95, ('Cleveland', 'Lafayette'): 17, ('Pittsburg', 'Farmington'): 24, ('Pittsburg', 'Detroit'): 14, ('Pittsburg', 'Lansing'): 17, ('Pittsburg', 'Winsor'): 13, ('Pittsburg', 'St. Louis'): 28, ('Pittsburg', 'Fremont'): 99, ('Pittsburg', 'Lafayette'): 20}\n"
     ]
    }
   ],
   "source": [
    "print(producao)\n",
    "print(demanda)\n",
    "print(costos)"
   ]
  },
  {
   "cell_type": "markdown",
   "metadata": {},
   "source": [
    "## Modelo computacional no Pyomo"
   ]
  },
  {
   "cell_type": "code",
   "execution_count": 12,
   "metadata": {},
   "outputs": [],
   "source": [
    "from pyomo.environ import *\n",
    "model = ConcreteModel(name='Transporte')"
   ]
  },
  {
   "cell_type": "markdown",
   "metadata": {},
   "source": [
    "### Conjuntos\n",
    "\n",
    "- $ S: \\text{Conjunto de siderúrgicas.}$\n",
    "- $ F: \\text{Conjunto de fábricas.}$"
   ]
  },
  {
   "cell_type": "code",
   "execution_count": 24,
   "metadata": {},
   "outputs": [
    {
     "name": "stdout",
     "output_type": "stream",
     "text": [
      "['Gary', 'Cleveland', 'Pittsburg']\n"
     ]
    }
   ],
   "source": [
    "S = (SID)\n",
    "F = (FAB)\n",
    "print(S)"
   ]
  },
  {
   "cell_type": "markdown",
   "metadata": {},
   "source": [
    "### Parâmetros\n",
    "\n",
    "- $ c_{s,f} : \\text{Custo de tranporte por tonelada da siderúrgica s para a fábrica f.} $\n",
    "- $ p_{s} : \\text{Produção da siderúrgica en toneladas.} $\n",
    "- $ d_{f} : \\text{Demanda da fábrica f em toneladas.} $"
   ]
  },
  {
   "cell_type": "code",
   "execution_count": 23,
   "metadata": {},
   "outputs": [
    {
     "name": "stdout",
     "output_type": "stream",
     "text": [
      "{('Gary', 'Farmington'): 39, ('Gary', 'Detroit'): 14, ('Gary', 'Lansing'): 11, ('Gary', 'Winsor'): 14, ('Gary', 'St. Louis'): 16, ('Gary', 'Fremont'): 82, ('Gary', 'Lafayette'): 8, ('Cleveland', 'Farmington'): 27, ('Cleveland', 'Detroit'): 9, ('Cleveland', 'Lansing'): 12, ('Cleveland', 'Winsor'): 9, ('Cleveland', 'St. Louis'): 26, ('Cleveland', 'Fremont'): 95, ('Cleveland', 'Lafayette'): 17, ('Pittsburg', 'Farmington'): 24, ('Pittsburg', 'Detroit'): 14, ('Pittsburg', 'Lansing'): 17, ('Pittsburg', 'Winsor'): 13, ('Pittsburg', 'St. Louis'): 28, ('Pittsburg', 'Fremont'): 99, ('Pittsburg', 'Lafayette'): 20}\n"
     ]
    }
   ],
   "source": [
    "c = (costos)\n",
    "p = (producao)\n",
    "d = (demanda)\n",
    "print(c)"
   ]
  },
  {
   "cell_type": "markdown",
   "metadata": {},
   "source": [
    "### Variáveis de decisão\n",
    "\n",
    "- $x_{s,f} : \\text{Toneladas transportadas da siderúrgica s para a fábrica f.}$ \n",
    "- $ x_{s,f} \\geq 0 \\;\\; ;\\forall s \\in S \\text{, } f \\in F $"
   ]
  },
  {
   "cell_type": "code",
   "execution_count": 15,
   "metadata": {},
   "outputs": [],
   "source": [
    "model.x = Var(S,F, domain = NonNegativeReals)"
   ]
  },
  {
   "cell_type": "markdown",
   "metadata": {},
   "source": [
    "### Função objetivo\n",
    "\n",
    "- $ \\mathrm{Min} \\sum\\limits_{s \\in S} \\sum\\limits_{f \\in F} c_{s,f} \\text{ } x _{s,f}$\n",
    "\n"
   ]
  },
  {
   "cell_type": "code",
   "execution_count": 16,
   "metadata": {},
   "outputs": [],
   "source": [
    "def obj_rule(m):\n",
    "    return sum(c[s,f]*m.x[s,f] for s in S for f in F)\n",
    "model.obj = Objective(rule = obj_rule, sense = minimize)"
   ]
  },
  {
   "cell_type": "markdown",
   "metadata": {},
   "source": [
    "### Restrições\n",
    "\n",
    "- $ \\sum\\limits_{f \\in F} x_{s,f} = p_{s}  \\;\\;\\;\\;\\;\\; ;\\forall s \\in S $\n",
    "- $ \\sum\\limits_{s \\in S} x_{s,f} = d_{f} \\;\\;\\;\\;\\;\\; ;\\forall f \\in F $"
   ]
  },
  {
   "cell_type": "code",
   "execution_count": 17,
   "metadata": {},
   "outputs": [],
   "source": [
    "def pro_cost_rule(m,s):\n",
    "    return sum(m.x[s,f] for f in F) == p[s]\n",
    "model.restricao_1 = Constraint(S, rule=pro_cost_rule)"
   ]
  },
  {
   "cell_type": "code",
   "execution_count": 18,
   "metadata": {},
   "outputs": [],
   "source": [
    "def dem_cost_rule(m,f):\n",
    "    return sum(m.x[s,f] for s in S) == d[f]\n",
    "model.restricao_2 = Constraint(F, rule=dem_cost_rule)"
   ]
  },
  {
   "cell_type": "code",
   "execution_count": 19,
   "metadata": {},
   "outputs": [
    {
     "name": "stdout",
     "output_type": "stream",
     "text": [
      "5 Set Declarations\n",
      "    restricao_1_index : Size=1, Index=None, Ordered=Insertion\n",
      "        Key  : Dimen : Domain : Size : Members\n",
      "        None :     1 :    Any :    3 : {'Gary', 'Cleveland', 'Pittsburg'}\n",
      "    restricao_2_index : Size=1, Index=None, Ordered=Insertion\n",
      "        Key  : Dimen : Domain : Size : Members\n",
      "        None :     1 :    Any :    7 : {'Farmington', 'Detroit', 'Lansing', 'Winsor', 'St. Louis', 'Fremont', 'Lafayette'}\n",
      "    x_index : Size=1, Index=None, Ordered=True\n",
      "        Key  : Dimen : Domain              : Size : Members\n",
      "        None :     2 : x_index_0*x_index_1 :   21 : {('Gary', 'Farmington'), ('Gary', 'Detroit'), ('Gary', 'Lansing'), ('Gary', 'Winsor'), ('Gary', 'St. Louis'), ('Gary', 'Fremont'), ('Gary', 'Lafayette'), ('Cleveland', 'Farmington'), ('Cleveland', 'Detroit'), ('Cleveland', 'Lansing'), ('Cleveland', 'Winsor'), ('Cleveland', 'St. Louis'), ('Cleveland', 'Fremont'), ('Cleveland', 'Lafayette'), ('Pittsburg', 'Farmington'), ('Pittsburg', 'Detroit'), ('Pittsburg', 'Lansing'), ('Pittsburg', 'Winsor'), ('Pittsburg', 'St. Louis'), ('Pittsburg', 'Fremont'), ('Pittsburg', 'Lafayette')}\n",
      "    x_index_0 : Size=1, Index=None, Ordered=Insertion\n",
      "        Key  : Dimen : Domain : Size : Members\n",
      "        None :     1 :    Any :    3 : {'Gary', 'Cleveland', 'Pittsburg'}\n",
      "    x_index_1 : Size=1, Index=None, Ordered=Insertion\n",
      "        Key  : Dimen : Domain : Size : Members\n",
      "        None :     1 :    Any :    7 : {'Farmington', 'Detroit', 'Lansing', 'Winsor', 'St. Louis', 'Fremont', 'Lafayette'}\n",
      "\n",
      "1 Var Declarations\n",
      "    x : Size=21, Index=x_index\n",
      "        Key                         : Lower : Value : Upper : Fixed : Stale : Domain\n",
      "           ('Cleveland', 'Detroit') :     0 :  None :  None : False :  True : NonNegativeReals\n",
      "        ('Cleveland', 'Farmington') :     0 :  None :  None : False :  True : NonNegativeReals\n",
      "           ('Cleveland', 'Fremont') :     0 :  None :  None : False :  True : NonNegativeReals\n",
      "         ('Cleveland', 'Lafayette') :     0 :  None :  None : False :  True : NonNegativeReals\n",
      "           ('Cleveland', 'Lansing') :     0 :  None :  None : False :  True : NonNegativeReals\n",
      "         ('Cleveland', 'St. Louis') :     0 :  None :  None : False :  True : NonNegativeReals\n",
      "            ('Cleveland', 'Winsor') :     0 :  None :  None : False :  True : NonNegativeReals\n",
      "                ('Gary', 'Detroit') :     0 :  None :  None : False :  True : NonNegativeReals\n",
      "             ('Gary', 'Farmington') :     0 :  None :  None : False :  True : NonNegativeReals\n",
      "                ('Gary', 'Fremont') :     0 :  None :  None : False :  True : NonNegativeReals\n",
      "              ('Gary', 'Lafayette') :     0 :  None :  None : False :  True : NonNegativeReals\n",
      "                ('Gary', 'Lansing') :     0 :  None :  None : False :  True : NonNegativeReals\n",
      "              ('Gary', 'St. Louis') :     0 :  None :  None : False :  True : NonNegativeReals\n",
      "                 ('Gary', 'Winsor') :     0 :  None :  None : False :  True : NonNegativeReals\n",
      "           ('Pittsburg', 'Detroit') :     0 :  None :  None : False :  True : NonNegativeReals\n",
      "        ('Pittsburg', 'Farmington') :     0 :  None :  None : False :  True : NonNegativeReals\n",
      "           ('Pittsburg', 'Fremont') :     0 :  None :  None : False :  True : NonNegativeReals\n",
      "         ('Pittsburg', 'Lafayette') :     0 :  None :  None : False :  True : NonNegativeReals\n",
      "           ('Pittsburg', 'Lansing') :     0 :  None :  None : False :  True : NonNegativeReals\n",
      "         ('Pittsburg', 'St. Louis') :     0 :  None :  None : False :  True : NonNegativeReals\n",
      "            ('Pittsburg', 'Winsor') :     0 :  None :  None : False :  True : NonNegativeReals\n",
      "\n",
      "1 Objective Declarations\n",
      "    obj : Size=1, Index=None, Active=True\n",
      "        Key  : Active : Sense    : Expression\n",
      "        None :   True : minimize : 39*x[Gary,Farmington] + 14*x[Gary,Detroit] + 11*x[Gary,Lansing] + 14*x[Gary,Winsor] + 16*x[Gary,'St. Louis'] + 82*x[Gary,Fremont] + 8*x[Gary,Lafayette] + 27*x[Cleveland,Farmington] + 9*x[Cleveland,Detroit] + 12*x[Cleveland,Lansing] + 9*x[Cleveland,Winsor] + 26*x[Cleveland,'St. Louis'] + 95*x[Cleveland,Fremont] + 17*x[Cleveland,Lafayette] + 24*x[Pittsburg,Farmington] + 14*x[Pittsburg,Detroit] + 17*x[Pittsburg,Lansing] + 13*x[Pittsburg,Winsor] + 28*x[Pittsburg,'St. Louis'] + 99*x[Pittsburg,Fremont] + 20*x[Pittsburg,Lafayette]\n",
      "\n",
      "2 Constraint Declarations\n",
      "    restricao_1 : Size=3, Index=restricao_1_index, Active=True\n",
      "        Key       : Lower  : Body                                                                                                                                                                   : Upper  : Active\n",
      "        Cleveland : 2600.0 : x[Cleveland,Farmington] + x[Cleveland,Detroit] + x[Cleveland,Lansing] + x[Cleveland,Winsor] + x[Cleveland,'St. Louis'] + x[Cleveland,Fremont] + x[Cleveland,Lafayette] : 2600.0 :   True\n",
      "             Gary : 1400.0 :                                    x[Gary,Farmington] + x[Gary,Detroit] + x[Gary,Lansing] + x[Gary,Winsor] + x[Gary,'St. Louis'] + x[Gary,Fremont] + x[Gary,Lafayette] : 1400.0 :   True\n",
      "        Pittsburg : 2900.0 : x[Pittsburg,Farmington] + x[Pittsburg,Detroit] + x[Pittsburg,Lansing] + x[Pittsburg,Winsor] + x[Pittsburg,'St. Louis'] + x[Pittsburg,Fremont] + x[Pittsburg,Lafayette] : 2900.0 :   True\n",
      "    restricao_2 : Size=7, Index=restricao_2_index, Active=True\n",
      "        Key        : Lower  : Body                                                                      : Upper  : Active\n",
      "           Detroit : 1200.0 :             x[Gary,Detroit] + x[Cleveland,Detroit] + x[Pittsburg,Detroit] : 1200.0 :   True\n",
      "        Farmington :  900.0 :    x[Gary,Farmington] + x[Cleveland,Farmington] + x[Pittsburg,Farmington] :  900.0 :   True\n",
      "           Fremont : 1100.0 :             x[Gary,Fremont] + x[Cleveland,Fremont] + x[Pittsburg,Fremont] : 1100.0 :   True\n",
      "         Lafayette : 1000.0 :       x[Gary,Lafayette] + x[Cleveland,Lafayette] + x[Pittsburg,Lafayette] : 1000.0 :   True\n",
      "           Lansing :  600.0 :             x[Gary,Lansing] + x[Cleveland,Lansing] + x[Pittsburg,Lansing] :  600.0 :   True\n",
      "         St. Louis : 1700.0 : x[Gary,'St. Louis'] + x[Cleveland,'St. Louis'] + x[Pittsburg,'St. Louis'] : 1700.0 :   True\n",
      "            Winsor :  400.0 :                x[Gary,Winsor] + x[Cleveland,Winsor] + x[Pittsburg,Winsor] :  400.0 :   True\n",
      "\n",
      "9 Declarations: x_index_0 x_index_1 x_index x obj restricao_1_index restricao_1 restricao_2_index restricao_2\n"
     ]
    }
   ],
   "source": [
    "model.pprint()"
   ]
  },
  {
   "cell_type": "markdown",
   "metadata": {},
   "source": [
    "### Solução"
   ]
  },
  {
   "cell_type": "code",
   "execution_count": 20,
   "metadata": {},
   "outputs": [],
   "source": [
    "Resultado = SolverFactory('cbc', executable='C:/Solvers/cbc.exe').solve(model)"
   ]
  },
  {
   "cell_type": "code",
   "execution_count": 21,
   "metadata": {},
   "outputs": [
    {
     "name": "stdout",
     "output_type": "stream",
     "text": [
      "Model Transporte\n",
      "\n",
      "  Variables:\n",
      "    x : Size=21, Index=x_index\n",
      "        Key                         : Lower : Value  : Upper : Fixed : Stale : Domain\n",
      "           ('Cleveland', 'Detroit') :     0 : 1200.0 :  None : False : False : NonNegativeReals\n",
      "        ('Cleveland', 'Farmington') :     0 :    0.0 :  None : False : False : NonNegativeReals\n",
      "           ('Cleveland', 'Fremont') :     0 :    0.0 :  None : False : False : NonNegativeReals\n",
      "         ('Cleveland', 'Lafayette') :     0 :  400.0 :  None : False : False : NonNegativeReals\n",
      "           ('Cleveland', 'Lansing') :     0 :  600.0 :  None : False : False : NonNegativeReals\n",
      "         ('Cleveland', 'St. Louis') :     0 :    0.0 :  None : False : False : NonNegativeReals\n",
      "            ('Cleveland', 'Winsor') :     0 :  400.0 :  None : False : False : NonNegativeReals\n",
      "                ('Gary', 'Detroit') :     0 :    0.0 :  None : False : False : NonNegativeReals\n",
      "             ('Gary', 'Farmington') :     0 :    0.0 :  None : False : False : NonNegativeReals\n",
      "                ('Gary', 'Fremont') :     0 : 1100.0 :  None : False : False : NonNegativeReals\n",
      "              ('Gary', 'Lafayette') :     0 :  300.0 :  None : False : False : NonNegativeReals\n",
      "                ('Gary', 'Lansing') :     0 :    0.0 :  None : False : False : NonNegativeReals\n",
      "              ('Gary', 'St. Louis') :     0 :    0.0 :  None : False : False : NonNegativeReals\n",
      "                 ('Gary', 'Winsor') :     0 :    0.0 :  None : False : False : NonNegativeReals\n",
      "           ('Pittsburg', 'Detroit') :     0 :    0.0 :  None : False : False : NonNegativeReals\n",
      "        ('Pittsburg', 'Farmington') :     0 :  900.0 :  None : False : False : NonNegativeReals\n",
      "           ('Pittsburg', 'Fremont') :     0 :    0.0 :  None : False : False : NonNegativeReals\n",
      "         ('Pittsburg', 'Lafayette') :     0 :  300.0 :  None : False : False : NonNegativeReals\n",
      "           ('Pittsburg', 'Lansing') :     0 :    0.0 :  None : False : False : NonNegativeReals\n",
      "         ('Pittsburg', 'St. Louis') :     0 : 1700.0 :  None : False : False : NonNegativeReals\n",
      "            ('Pittsburg', 'Winsor') :     0 :    0.0 :  None : False : False : NonNegativeReals\n",
      "\n",
      "  Objectives:\n",
      "    obj : Size=1, Index=None, Active=True\n",
      "        Key  : Active : Value\n",
      "        None :   True : 196200.0\n",
      "\n",
      "  Constraints:\n",
      "    restricao_1 : Size=3\n",
      "        Key       : Lower  : Body   : Upper\n",
      "        Cleveland : 2600.0 : 2600.0 : 2600.0\n",
      "             Gary : 1400.0 : 1400.0 : 1400.0\n",
      "        Pittsburg : 2900.0 : 2900.0 : 2900.0\n",
      "    restricao_2 : Size=7\n",
      "        Key        : Lower  : Body   : Upper\n",
      "           Detroit : 1200.0 : 1200.0 : 1200.0\n",
      "        Farmington :  900.0 :  900.0 :  900.0\n",
      "           Fremont : 1100.0 : 1100.0 : 1100.0\n",
      "         Lafayette : 1000.0 : 1000.0 : 1000.0\n",
      "           Lansing :  600.0 :  600.0 :  600.0\n",
      "         St. Louis : 1700.0 : 1700.0 : 1700.0\n",
      "            Winsor :  400.0 :  400.0 :  400.0\n"
     ]
    }
   ],
   "source": [
    "model.display()"
   ]
  },
  {
   "cell_type": "code",
   "execution_count": 22,
   "metadata": {},
   "outputs": [
    {
     "name": "stdout",
     "output_type": "stream",
     "text": [
      "De Gary, para Fremont vai transportar 1100.0 toneladas\n",
      "De Gary, para Lafayette vai transportar 300.0 toneladas\n",
      "De Cleveland, para Detroit vai transportar 1200.0 toneladas\n",
      "De Cleveland, para Lansing vai transportar 600.0 toneladas\n",
      "De Cleveland, para Winsor vai transportar 400.0 toneladas\n",
      "De Cleveland, para Lafayette vai transportar 400.0 toneladas\n",
      "De Pittsburg, para Farmington vai transportar 900.0 toneladas\n",
      "De Pittsburg, para St. Louis vai transportar 1700.0 toneladas\n",
      "De Pittsburg, para Lafayette vai transportar 300.0 toneladas\n"
     ]
    }
   ],
   "source": [
    "for s in S:\n",
    "    for f in F:\n",
    "        quantidade = model.x[s,f]()\n",
    "        if quantidade > 0:\n",
    "            print(f'De {s}, para {f} vai transportar {quantidade} toneladas')"
   ]
  }
 ],
 "metadata": {
  "kernelspec": {
   "display_name": "Python 3",
   "language": "python",
   "name": "python3"
  },
  "language_info": {
   "codemirror_mode": {
    "name": "ipython",
    "version": 3
   },
   "file_extension": ".py",
   "mimetype": "text/x-python",
   "name": "python",
   "nbconvert_exporter": "python",
   "pygments_lexer": "ipython3",
   "version": "3.11.4"
  },
  "orig_nbformat": 4
 },
 "nbformat": 4,
 "nbformat_minor": 2
}
