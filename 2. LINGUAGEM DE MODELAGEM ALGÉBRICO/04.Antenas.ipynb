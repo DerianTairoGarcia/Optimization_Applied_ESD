{
 "cells": [
  {
   "cell_type": "markdown",
   "metadata": {},
   "source": [
    "### Exemplo 4. Localização de antenas para a leitura de medidores.\n",
    "\n",
    "- Uma companhia de serviços públicos está implantando uma nova tecnologia que permite diminuir os custos de leitura dos consumos de seus clientes.-A tecnologia utiliza um sistema que transmite via radio frequência os consumos desde os medidores de cada domicilio para antenas centrais que logo retransmitem a leitura para a oficina central da companhia para gerar as faturas.\n",
    "- Uma antena central pode ler mais de um medidor.Para assegurar uma leitura confiável usando esta nova tecnologia, é necessário que uma antena central de leitura esteja no máximo a 520 metros de um medidor.\n",
    "- A tabela apresenta a informação de um pequeno exemplo com 10 medidores já instalados e 8 possíveis lugares de localização das antenas.Qual é onúmero mínimo de antenas que se requerem, e quais são? de forma a obter a leitura de todos os medidores.\n",
    "\n",
    "\n",
    "\n",
    "| Medidores | L-1 | L_2 | L_3 | L_4 | L_5 | L_6 | L_7 | L_8 |\n",
    "| :-- | :----: | :---: | :----: | :---: | :----: | :---: | :----: | :---: |\n",
    "| Med_1 | 172 | 629 | 629 | 614 | 628 | 231 | 542 | 451 | \n",
    "| Med_2 | 247 | 469 | 629 | 538 | 794 | 727 | 495 | 640 | \n",
    "| Med_3 | 1   | 82  | 671 | 633 | 55  | 709 | 583 | 720 | \n",
    "| Med_4 | 744 | 639 | 698 | 513 | 629 | 418 | 280 | 252 | \n",
    "| Med_5 | 636 | 699 | 3   | 560 | 506 | 762 | 165 | 635 | \n",
    "| Med_6 | 695 | 675 | 438 | 707 | 60  | 748 | 511 | 698 | \n",
    "| Med_7 | 568 | 646 | 361 | 245 | 743 | 89  | 592 | 512 | \n",
    "| Med_8 | 519 | 769 | 600 | 615 | 458 | 613 | 663 | 23  | \n",
    "| Med_9 | 579 | 170 | 597 | 172 | 623 | 405 | 319 | 506 | \n",
    "| Med_10| 545 | 529 | 765 | 219 | 526 | 569 | 506 | 512 | \n",
    "\n"
   ]
  },
  {
   "cell_type": "markdown",
   "metadata": {},
   "source": [
    "## Formulação General\n",
    "\n",
    "### Conjuntos\n",
    "- $ M: \\text{Conjunto de medidores.}$\n",
    "- $ A: \\text{Conjunto de antenas.}$\n",
    "- $ B: \\text{Conjunto de bairros.}$\n",
    "\n",
    "### Parâmetros\n",
    "- $ d_{m,a} : \\text{Matriz da distancia do medidor m para a antenas a.} $\n",
    "- $ c_{a} : \\text{Custo de instalação e operação.} $\n",
    "- $ b_{a} : \\text{Bairro.} $\n",
    "- $ dmax : \\text{Distancia maxima de leitura.} $\n",
    "\n",
    "\n",
    "### Variáveis de decisão\n",
    "\n",
    "- $x_{a} : \\text{Localização de antenas.}$ \n",
    "- $y_{m,a} : \\text{Matriz de covertura.}$\n",
    "\n",
    "### Função objetivo \n",
    "\n",
    "- $ \\mathrm{Min} \\sum\\limits_{a \\in a} c_{a} \\text{ } x _{a}$\n",
    "\n",
    "### Restrições \n",
    "\n",
    "- $ y_{m,a} \\leq x_{a} \\;\\; ;\\forall \\;\\; m\\in M \\text{, } a \\in A $\n",
    "- $ d_{m,a} \\leq dmax \\;\\; ;\\forall \\;\\;  m\\in M \\text{, } a \\in A $\n",
    "\n",
    "- $ \\sum\\limits_{a \\in A} y_{m,a} \\geq 2  \\;\\;\\;\\;\\;\\; ;\\forall m \\in M $\n",
    "- $ \\sum\\limits_{a \\in A} x_{a} \\geq 1  \\;\\;\\;\\;\\;\\; ;\\forall b \\in B $\n",
    "\n"
   ]
  },
  {
   "cell_type": "markdown",
   "metadata": {},
   "source": [
    "## Preparação dos dados de entrada"
   ]
  },
  {
   "cell_type": "code",
   "execution_count": 141,
   "metadata": {},
   "outputs": [],
   "source": [
    "import pandas as pd"
   ]
  },
  {
   "cell_type": "code",
   "execution_count": 142,
   "metadata": {},
   "outputs": [
    {
     "name": "stdout",
     "output_type": "stream",
     "text": [
      "        Ant-1  Ant-2  Ant-3  Ant-4  Ant-5  Ant-6  Ant-7  Ant-8\n",
      "Med_1     172    629    629    614    628    231    542    451\n",
      "Med_2     247    469    629    538    794    727    495    640\n",
      "Med_3       1     82    671    633     55    709    583    720\n",
      "Med_4     744    639    698    513    629    418    280    252\n",
      "Med_5     636    699      3    560    506    762    165    635\n",
      "Med_6     695    675    438    707     60    748    511    698\n",
      "Med_7     568    646    361    245    743     89    592    512\n",
      "Med_8     519    769    600    615    458    613    663     23\n",
      "Med_9     579    170    597    172    623    405    319    506\n",
      "Med_10    545    529    765    219    526    569    506    512\n"
     ]
    }
   ],
   "source": [
    "df = pd.read_excel('../Datos/1.4.xlsx','Distancia', header=0, index_col=0)\n",
    "print(df)"
   ]
  },
  {
   "cell_type": "code",
   "execution_count": 143,
   "metadata": {},
   "outputs": [
    {
     "name": "stdout",
     "output_type": "stream",
     "text": [
      "       Custo  Bairro\n",
      "Ant-1    1.5       1\n",
      "Ant-2    0.8       1\n",
      "Ant-3    1.2       2\n",
      "Ant-4    1.7       2\n",
      "Ant-5    0.9       3\n",
      "Ant-6    1.1       3\n",
      "Ant-7    0.6       4\n",
      "Ant-8    1.0       4\n"
     ]
    }
   ],
   "source": [
    "df_2 = pd.read_excel('../Datos/1.4.xlsx','Custo', header=0, index_col=0)\n",
    "print(df_2)"
   ]
  },
  {
   "cell_type": "markdown",
   "metadata": {},
   "source": [
    "### Listas e dictionarios"
   ]
  },
  {
   "cell_type": "code",
   "execution_count": 144,
   "metadata": {},
   "outputs": [],
   "source": [
    "MEDIDORES = list(df.index.map(str))\n",
    "ANTENAS = list(df.columns.map(str))"
   ]
  },
  {
   "cell_type": "code",
   "execution_count": 145,
   "metadata": {},
   "outputs": [],
   "source": [
    "distancia = {(m,a):df.at[m,a] for m in MEDIDORES for a in ANTENAS}"
   ]
  },
  {
   "cell_type": "code",
   "execution_count": 146,
   "metadata": {},
   "outputs": [],
   "source": [
    "custos = df_2.to_dict()['Custo']"
   ]
  },
  {
   "cell_type": "code",
   "execution_count": 162,
   "metadata": {},
   "outputs": [
    {
     "name": "stdout",
     "output_type": "stream",
     "text": [
      "{'Ant-1': 1.5, 'Ant-2': 0.8, 'Ant-3': 1.2, 'Ant-4': 1.7, 'Ant-5': 0.9, 'Ant-6': 1.1, 'Ant-7': 0.6, 'Ant-8': 1.0}\n",
      "{('Med_1', 'Ant-1'): 172, ('Med_1', 'Ant-2'): 629, ('Med_1', 'Ant-3'): 629, ('Med_1', 'Ant-4'): 614, ('Med_1', 'Ant-5'): 628, ('Med_1', 'Ant-6'): 231, ('Med_1', 'Ant-7'): 542, ('Med_1', 'Ant-8'): 451, ('Med_2', 'Ant-1'): 247, ('Med_2', 'Ant-2'): 469, ('Med_2', 'Ant-3'): 629, ('Med_2', 'Ant-4'): 538, ('Med_2', 'Ant-5'): 794, ('Med_2', 'Ant-6'): 727, ('Med_2', 'Ant-7'): 495, ('Med_2', 'Ant-8'): 640, ('Med_3', 'Ant-1'): 1, ('Med_3', 'Ant-2'): 82, ('Med_3', 'Ant-3'): 671, ('Med_3', 'Ant-4'): 633, ('Med_3', 'Ant-5'): 55, ('Med_3', 'Ant-6'): 709, ('Med_3', 'Ant-7'): 583, ('Med_3', 'Ant-8'): 720, ('Med_4', 'Ant-1'): 744, ('Med_4', 'Ant-2'): 639, ('Med_4', 'Ant-3'): 698, ('Med_4', 'Ant-4'): 513, ('Med_4', 'Ant-5'): 629, ('Med_4', 'Ant-6'): 418, ('Med_4', 'Ant-7'): 280, ('Med_4', 'Ant-8'): 252, ('Med_5', 'Ant-1'): 636, ('Med_5', 'Ant-2'): 699, ('Med_5', 'Ant-3'): 3, ('Med_5', 'Ant-4'): 560, ('Med_5', 'Ant-5'): 506, ('Med_5', 'Ant-6'): 762, ('Med_5', 'Ant-7'): 165, ('Med_5', 'Ant-8'): 635, ('Med_6', 'Ant-1'): 695, ('Med_6', 'Ant-2'): 675, ('Med_6', 'Ant-3'): 438, ('Med_6', 'Ant-4'): 707, ('Med_6', 'Ant-5'): 60, ('Med_6', 'Ant-6'): 748, ('Med_6', 'Ant-7'): 511, ('Med_6', 'Ant-8'): 698, ('Med_7', 'Ant-1'): 568, ('Med_7', 'Ant-2'): 646, ('Med_7', 'Ant-3'): 361, ('Med_7', 'Ant-4'): 245, ('Med_7', 'Ant-5'): 743, ('Med_7', 'Ant-6'): 89, ('Med_7', 'Ant-7'): 592, ('Med_7', 'Ant-8'): 512, ('Med_8', 'Ant-1'): 519, ('Med_8', 'Ant-2'): 769, ('Med_8', 'Ant-3'): 600, ('Med_8', 'Ant-4'): 615, ('Med_8', 'Ant-5'): 458, ('Med_8', 'Ant-6'): 613, ('Med_8', 'Ant-7'): 663, ('Med_8', 'Ant-8'): 23, ('Med_9', 'Ant-1'): 579, ('Med_9', 'Ant-2'): 170, ('Med_9', 'Ant-3'): 597, ('Med_9', 'Ant-4'): 172, ('Med_9', 'Ant-5'): 623, ('Med_9', 'Ant-6'): 405, ('Med_9', 'Ant-7'): 319, ('Med_9', 'Ant-8'): 506, ('Med_10', 'Ant-1'): 545, ('Med_10', 'Ant-2'): 529, ('Med_10', 'Ant-3'): 765, ('Med_10', 'Ant-4'): 219, ('Med_10', 'Ant-5'): 526, ('Med_10', 'Ant-6'): 569, ('Med_10', 'Ant-7'): 506, ('Med_10', 'Ant-8'): 512}\n"
     ]
    }
   ],
   "source": [
    "print(custos)\n",
    "print(distancia)"
   ]
  },
  {
   "cell_type": "markdown",
   "metadata": {},
   "source": [
    "## Modelo computacional no Pyomo"
   ]
  },
  {
   "cell_type": "code",
   "execution_count": 149,
   "metadata": {},
   "outputs": [],
   "source": [
    "from pyomo.environ import *\n",
    "model = ConcreteModel(name='Antenas e Medidores')"
   ]
  },
  {
   "cell_type": "markdown",
   "metadata": {},
   "source": [
    "### Conjuntos\n",
    "\n",
    "- $ M: \\text{Conjunto de medidores.}$\n",
    "- $ A: \\text{Conjunto de antenas.}$"
   ]
  },
  {
   "cell_type": "code",
   "execution_count": 161,
   "metadata": {},
   "outputs": [
    {
     "name": "stdout",
     "output_type": "stream",
     "text": [
      "['Med_1', 'Med_2', 'Med_3', 'Med_4', 'Med_5', 'Med_6', 'Med_7', 'Med_8', 'Med_9', 'Med_10']\n",
      "['Ant-1', 'Ant-2', 'Ant-3', 'Ant-4', 'Ant-5', 'Ant-6', 'Ant-7', 'Ant-8']\n",
      "AbstractFiniteScalarRangeSet\n"
     ]
    }
   ],
   "source": [
    "M = (MEDIDORES)\n",
    "A = (ANTENAS)\n",
    "print(M)\n",
    "print(A)"
   ]
  },
  {
   "cell_type": "markdown",
   "metadata": {},
   "source": [
    "### Parâmetros\n",
    "\n",
    "- $ d_{m,a} : \\text{Matriz da distancia do medidor m para a antenas a.} $\n",
    "- $ c_{a} : \\text{Custo de instalação e operação.} $\n",
    "- $ dmax : \\text{Distancia maxima de leitura.} $"
   ]
  },
  {
   "cell_type": "code",
   "execution_count": 151,
   "metadata": {},
   "outputs": [
    {
     "name": "stdout",
     "output_type": "stream",
     "text": [
      "{('Med_1', 'Ant-1'): 172, ('Med_1', 'Ant-2'): 629, ('Med_1', 'Ant-3'): 629, ('Med_1', 'Ant-4'): 614, ('Med_1', 'Ant-5'): 628, ('Med_1', 'Ant-6'): 231, ('Med_1', 'Ant-7'): 542, ('Med_1', 'Ant-8'): 451, ('Med_2', 'Ant-1'): 247, ('Med_2', 'Ant-2'): 469, ('Med_2', 'Ant-3'): 629, ('Med_2', 'Ant-4'): 538, ('Med_2', 'Ant-5'): 794, ('Med_2', 'Ant-6'): 727, ('Med_2', 'Ant-7'): 495, ('Med_2', 'Ant-8'): 640, ('Med_3', 'Ant-1'): 1, ('Med_3', 'Ant-2'): 82, ('Med_3', 'Ant-3'): 671, ('Med_3', 'Ant-4'): 633, ('Med_3', 'Ant-5'): 55, ('Med_3', 'Ant-6'): 709, ('Med_3', 'Ant-7'): 583, ('Med_3', 'Ant-8'): 720, ('Med_4', 'Ant-1'): 744, ('Med_4', 'Ant-2'): 639, ('Med_4', 'Ant-3'): 698, ('Med_4', 'Ant-4'): 513, ('Med_4', 'Ant-5'): 629, ('Med_4', 'Ant-6'): 418, ('Med_4', 'Ant-7'): 280, ('Med_4', 'Ant-8'): 252, ('Med_5', 'Ant-1'): 636, ('Med_5', 'Ant-2'): 699, ('Med_5', 'Ant-3'): 3, ('Med_5', 'Ant-4'): 560, ('Med_5', 'Ant-5'): 506, ('Med_5', 'Ant-6'): 762, ('Med_5', 'Ant-7'): 165, ('Med_5', 'Ant-8'): 635, ('Med_6', 'Ant-1'): 695, ('Med_6', 'Ant-2'): 675, ('Med_6', 'Ant-3'): 438, ('Med_6', 'Ant-4'): 707, ('Med_6', 'Ant-5'): 60, ('Med_6', 'Ant-6'): 748, ('Med_6', 'Ant-7'): 511, ('Med_6', 'Ant-8'): 698, ('Med_7', 'Ant-1'): 568, ('Med_7', 'Ant-2'): 646, ('Med_7', 'Ant-3'): 361, ('Med_7', 'Ant-4'): 245, ('Med_7', 'Ant-5'): 743, ('Med_7', 'Ant-6'): 89, ('Med_7', 'Ant-7'): 592, ('Med_7', 'Ant-8'): 512, ('Med_8', 'Ant-1'): 519, ('Med_8', 'Ant-2'): 769, ('Med_8', 'Ant-3'): 600, ('Med_8', 'Ant-4'): 615, ('Med_8', 'Ant-5'): 458, ('Med_8', 'Ant-6'): 613, ('Med_8', 'Ant-7'): 663, ('Med_8', 'Ant-8'): 23, ('Med_9', 'Ant-1'): 579, ('Med_9', 'Ant-2'): 170, ('Med_9', 'Ant-3'): 597, ('Med_9', 'Ant-4'): 172, ('Med_9', 'Ant-5'): 623, ('Med_9', 'Ant-6'): 405, ('Med_9', 'Ant-7'): 319, ('Med_9', 'Ant-8'): 506, ('Med_10', 'Ant-1'): 545, ('Med_10', 'Ant-2'): 529, ('Med_10', 'Ant-3'): 765, ('Med_10', 'Ant-4'): 219, ('Med_10', 'Ant-5'): 526, ('Med_10', 'Ant-6'): 569, ('Med_10', 'Ant-7'): 506, ('Med_10', 'Ant-8'): 512}\n",
      "{'Ant-1': 1.5, 'Ant-2': 0.8, 'Ant-3': 1.2, 'Ant-4': 1.7, 'Ant-5': 0.9, 'Ant-6': 1.1, 'Ant-7': 0.6, 'Ant-8': 1.0}\n"
     ]
    }
   ],
   "source": [
    "d = (distancia)\n",
    "c = (custos)\n",
    "dmax = 520\n",
    "print(d)\n",
    "print(c)"
   ]
  },
  {
   "cell_type": "markdown",
   "metadata": {},
   "source": [
    "### Variáveis de decisão\n",
    "\n",
    "- $x_{a} : \\text{Localização de antenas.}$ \n",
    "- $y_{m,a} : \\text{Matriz de covertura.}$"
   ]
  },
  {
   "cell_type": "code",
   "execution_count": null,
   "metadata": {},
   "outputs": [],
   "source": [
    "model.y = Var(M,A, within=Binary)\n",
    "model.x = Var(A, within=Binary)"
   ]
  },
  {
   "cell_type": "markdown",
   "metadata": {},
   "source": [
    "### Função objetivo\n",
    "\n",
    "- $ \\mathrm{Min} \\sum\\limits_{a \\in A} c_{a} \\text{ } x _{a}$"
   ]
  },
  {
   "cell_type": "code",
   "execution_count": 153,
   "metadata": {},
   "outputs": [],
   "source": [
    "def obj_rule(m):\n",
    "    return sum(m.x[a]*c[a] for a in A)\n",
    "model.obj = Objective(rule = obj_rule, sense = minimize)"
   ]
  },
  {
   "cell_type": "markdown",
   "metadata": {},
   "source": [
    "### Restrições\n",
    "\n",
    "- $ y_{m,a} \\leq x_{a} \\;\\; ;\\forall \\;\\; m\\in M \\text{, } a \\in A $\n",
    "- $ d_{m,a} \\leq dmax \\;\\; ;\\forall \\;\\;  m\\in M \\text{, } a \\in A $\n",
    "\n",
    "- $ \\sum\\limits_{a \\in A} y_{m,a} \\geq 2  \\;\\;\\;\\;\\;\\; ;\\forall m \\in M $"
   ]
  },
  {
   "cell_type": "code",
   "execution_count": 154,
   "metadata": {},
   "outputs": [],
   "source": [
    "def cover_rule(mod):\n",
    "    return (mod.y[m,a] for m in M for a in A) <= (mod.x[a] for a in A)"
   ]
  },
  {
   "cell_type": "code",
   "execution_count": 155,
   "metadata": {},
   "outputs": [],
   "source": [
    "def dmax_rule(mod):\n",
    "    return (mod.d[m,a] for m in M for a in A) <= dmax"
   ]
  },
  {
   "cell_type": "code",
   "execution_count": 156,
   "metadata": {},
   "outputs": [],
   "source": [
    "def cover_2_rule(mod, m):\n",
    "    return sum(mod.y[m,a] for a in A) >= 2\n",
    "model.restricao_3 = Constraint(M, rule = cover_2_rule)"
   ]
  },
  {
   "cell_type": "markdown",
   "metadata": {},
   "source": [
    "### Solução"
   ]
  },
  {
   "cell_type": "code",
   "execution_count": 158,
   "metadata": {},
   "outputs": [],
   "source": [
    "Resultado = SolverFactory('cbc', executable='C:/Solvers/cbc.exe').solve(model)"
   ]
  },
  {
   "cell_type": "code",
   "execution_count": 159,
   "metadata": {},
   "outputs": [
    {
     "name": "stdout",
     "output_type": "stream",
     "text": [
      "Model Antenas e Medidores\n",
      "\n",
      "  Variables:\n",
      "    y : Size=80, Index=y_index\n",
      "        Key                 : Lower : Value : Upper : Fixed : Stale : Domain\n",
      "         ('Med_1', 'Ant-1') :     0 :   0.0 :     1 : False : False : Binary\n",
      "         ('Med_1', 'Ant-2') :     0 :   1.0 :     1 : False : False : Binary\n",
      "         ('Med_1', 'Ant-3') :     0 :   1.0 :     1 : False : False : Binary\n",
      "         ('Med_1', 'Ant-4') :     0 :   0.0 :     1 : False : False : Binary\n",
      "         ('Med_1', 'Ant-5') :     0 :   0.0 :     1 : False : False : Binary\n",
      "         ('Med_1', 'Ant-6') :     0 :   0.0 :     1 : False : False : Binary\n",
      "         ('Med_1', 'Ant-7') :     0 :   0.0 :     1 : False : False : Binary\n",
      "         ('Med_1', 'Ant-8') :     0 :   0.0 :     1 : False : False : Binary\n",
      "        ('Med_10', 'Ant-1') :     0 :   1.0 :     1 : False : False : Binary\n",
      "        ('Med_10', 'Ant-2') :     0 :   0.0 :     1 : False : False : Binary\n",
      "        ('Med_10', 'Ant-3') :     0 :   0.0 :     1 : False : False : Binary\n",
      "        ('Med_10', 'Ant-4') :     0 :   0.0 :     1 : False : False : Binary\n",
      "        ('Med_10', 'Ant-5') :     0 :   0.0 :     1 : False : False : Binary\n",
      "        ('Med_10', 'Ant-6') :     0 :   0.0 :     1 : False : False : Binary\n",
      "        ('Med_10', 'Ant-7') :     0 :   0.0 :     1 : False : False : Binary\n",
      "        ('Med_10', 'Ant-8') :     0 :   1.0 :     1 : False : False : Binary\n",
      "         ('Med_2', 'Ant-1') :     0 :   1.0 :     1 : False : False : Binary\n",
      "         ('Med_2', 'Ant-2') :     0 :   1.0 :     1 : False : False : Binary\n",
      "         ('Med_2', 'Ant-3') :     0 :   0.0 :     1 : False : False : Binary\n",
      "         ('Med_2', 'Ant-4') :     0 :   0.0 :     1 : False : False : Binary\n",
      "         ('Med_2', 'Ant-5') :     0 :   0.0 :     1 : False : False : Binary\n",
      "         ('Med_2', 'Ant-6') :     0 :   0.0 :     1 : False : False : Binary\n",
      "         ('Med_2', 'Ant-7') :     0 :   0.0 :     1 : False : False : Binary\n",
      "         ('Med_2', 'Ant-8') :     0 :   0.0 :     1 : False : False : Binary\n",
      "         ('Med_3', 'Ant-1') :     0 :   1.0 :     1 : False : False : Binary\n",
      "         ('Med_3', 'Ant-2') :     0 :   0.0 :     1 : False : False : Binary\n",
      "         ('Med_3', 'Ant-3') :     0 :   0.0 :     1 : False : False : Binary\n",
      "         ('Med_3', 'Ant-4') :     0 :   0.0 :     1 : False : False : Binary\n",
      "         ('Med_3', 'Ant-5') :     0 :   1.0 :     1 : False : False : Binary\n",
      "         ('Med_3', 'Ant-6') :     0 :   0.0 :     1 : False : False : Binary\n",
      "         ('Med_3', 'Ant-7') :     0 :   0.0 :     1 : False : False : Binary\n",
      "         ('Med_3', 'Ant-8') :     0 :   0.0 :     1 : False : False : Binary\n",
      "         ('Med_4', 'Ant-1') :     0 :   0.0 :     1 : False : False : Binary\n",
      "         ('Med_4', 'Ant-2') :     0 :   0.0 :     1 : False : False : Binary\n",
      "         ('Med_4', 'Ant-3') :     0 :   0.0 :     1 : False : False : Binary\n",
      "         ('Med_4', 'Ant-4') :     0 :   0.0 :     1 : False : False : Binary\n",
      "         ('Med_4', 'Ant-5') :     0 :   0.0 :     1 : False : False : Binary\n",
      "         ('Med_4', 'Ant-6') :     0 :   0.0 :     1 : False : False : Binary\n",
      "         ('Med_4', 'Ant-7') :     0 :   1.0 :     1 : False : False : Binary\n",
      "         ('Med_4', 'Ant-8') :     0 :   1.0 :     1 : False : False : Binary\n",
      "         ('Med_5', 'Ant-1') :     0 :   0.0 :     1 : False : False : Binary\n",
      "         ('Med_5', 'Ant-2') :     0 :   0.0 :     1 : False : False : Binary\n",
      "         ('Med_5', 'Ant-3') :     0 :   0.0 :     1 : False : False : Binary\n",
      "         ('Med_5', 'Ant-4') :     0 :   0.0 :     1 : False : False : Binary\n",
      "         ('Med_5', 'Ant-5') :     0 :   0.0 :     1 : False : False : Binary\n",
      "         ('Med_5', 'Ant-6') :     0 :   1.0 :     1 : False : False : Binary\n",
      "         ('Med_5', 'Ant-7') :     0 :   1.0 :     1 : False : False : Binary\n",
      "         ('Med_5', 'Ant-8') :     0 :   0.0 :     1 : False : False : Binary\n",
      "         ('Med_6', 'Ant-1') :     0 :   0.0 :     1 : False : False : Binary\n",
      "         ('Med_6', 'Ant-2') :     0 :   0.0 :     1 : False : False : Binary\n",
      "         ('Med_6', 'Ant-3') :     0 :   0.0 :     1 : False : False : Binary\n",
      "         ('Med_6', 'Ant-4') :     0 :   0.0 :     1 : False : False : Binary\n",
      "         ('Med_6', 'Ant-5') :     0 :   0.0 :     1 : False : False : Binary\n",
      "         ('Med_6', 'Ant-6') :     0 :   0.0 :     1 : False : False : Binary\n",
      "         ('Med_6', 'Ant-7') :     0 :   1.0 :     1 : False : False : Binary\n",
      "         ('Med_6', 'Ant-8') :     0 :   1.0 :     1 : False : False : Binary\n",
      "         ('Med_7', 'Ant-1') :     0 :   1.0 :     1 : False : False : Binary\n",
      "         ('Med_7', 'Ant-2') :     0 :   0.0 :     1 : False : False : Binary\n",
      "         ('Med_7', 'Ant-3') :     0 :   1.0 :     1 : False : False : Binary\n",
      "         ('Med_7', 'Ant-4') :     0 :   0.0 :     1 : False : False : Binary\n",
      "         ('Med_7', 'Ant-5') :     0 :   0.0 :     1 : False : False : Binary\n",
      "         ('Med_7', 'Ant-6') :     0 :   0.0 :     1 : False : False : Binary\n",
      "         ('Med_7', 'Ant-7') :     0 :   0.0 :     1 : False : False : Binary\n",
      "         ('Med_7', 'Ant-8') :     0 :   0.0 :     1 : False : False : Binary\n",
      "         ('Med_8', 'Ant-1') :     0 :   0.0 :     1 : False : False : Binary\n",
      "         ('Med_8', 'Ant-2') :     0 :   0.0 :     1 : False : False : Binary\n",
      "         ('Med_8', 'Ant-3') :     0 :   0.0 :     1 : False : False : Binary\n",
      "         ('Med_8', 'Ant-4') :     0 :   0.0 :     1 : False : False : Binary\n",
      "         ('Med_8', 'Ant-5') :     0 :   0.0 :     1 : False : False : Binary\n",
      "         ('Med_8', 'Ant-6') :     0 :   0.0 :     1 : False : False : Binary\n",
      "         ('Med_8', 'Ant-7') :     0 :   1.0 :     1 : False : False : Binary\n",
      "         ('Med_8', 'Ant-8') :     0 :   1.0 :     1 : False : False : Binary\n",
      "         ('Med_9', 'Ant-1') :     0 :   1.0 :     1 : False : False : Binary\n",
      "         ('Med_9', 'Ant-2') :     0 :   0.0 :     1 : False : False : Binary\n",
      "         ('Med_9', 'Ant-3') :     0 :   0.0 :     1 : False : False : Binary\n",
      "         ('Med_9', 'Ant-4') :     0 :   1.0 :     1 : False : False : Binary\n",
      "         ('Med_9', 'Ant-5') :     0 :   0.0 :     1 : False : False : Binary\n",
      "         ('Med_9', 'Ant-6') :     0 :   0.0 :     1 : False : False : Binary\n",
      "         ('Med_9', 'Ant-7') :     0 :   0.0 :     1 : False : False : Binary\n",
      "         ('Med_9', 'Ant-8') :     0 :   0.0 :     1 : False : False : Binary\n",
      "    x : Size=8, Index=x_index\n",
      "        Key   : Lower : Value : Upper : Fixed : Stale : Domain\n",
      "        Ant-1 :     0 :   0.0 :     1 : False : False : Binary\n",
      "        Ant-2 :     0 :   0.0 :     1 : False : False : Binary\n",
      "        Ant-3 :     0 :   0.0 :     1 : False : False : Binary\n",
      "        Ant-4 :     0 :   0.0 :     1 : False : False : Binary\n",
      "        Ant-5 :     0 :   0.0 :     1 : False : False : Binary\n",
      "        Ant-6 :     0 :   0.0 :     1 : False : False : Binary\n",
      "        Ant-7 :     0 :   0.0 :     1 : False : False : Binary\n",
      "        Ant-8 :     0 :   0.0 :     1 : False : False : Binary\n",
      "\n",
      "  Objectives:\n",
      "    obj : Size=1, Index=None, Active=True\n",
      "        Key  : Active : Value\n",
      "        None :   True :   0.0\n",
      "\n",
      "  Constraints:\n",
      "    restricao_3 : Size=10\n",
      "        Key    : Lower : Body : Upper\n",
      "         Med_1 :   2.0 :  2.0 :  None\n",
      "        Med_10 :   2.0 :  2.0 :  None\n",
      "         Med_2 :   2.0 :  2.0 :  None\n",
      "         Med_3 :   2.0 :  2.0 :  None\n",
      "         Med_4 :   2.0 :  2.0 :  None\n",
      "         Med_5 :   2.0 :  2.0 :  None\n",
      "         Med_6 :   2.0 :  2.0 :  None\n",
      "         Med_7 :   2.0 :  2.0 :  None\n",
      "         Med_8 :   2.0 :  2.0 :  None\n",
      "         Med_9 :   2.0 :  2.0 :  None\n"
     ]
    }
   ],
   "source": [
    "model.display()"
   ]
  },
  {
   "cell_type": "code",
   "execution_count": 163,
   "metadata": {},
   "outputs": [
    {
     "name": "stdout",
     "output_type": "stream",
     "text": [
      "O Med_1 e Ant-2 = 1.0\n",
      "O Med_1 e Ant-3 = 1.0\n",
      "O Med_2 e Ant-1 = 1.0\n",
      "O Med_2 e Ant-2 = 1.0\n",
      "O Med_3 e Ant-1 = 1.0\n",
      "O Med_3 e Ant-5 = 1.0\n",
      "O Med_4 e Ant-7 = 1.0\n",
      "O Med_4 e Ant-8 = 1.0\n",
      "O Med_5 e Ant-6 = 1.0\n",
      "O Med_5 e Ant-7 = 1.0\n",
      "O Med_6 e Ant-7 = 1.0\n",
      "O Med_6 e Ant-8 = 1.0\n",
      "O Med_7 e Ant-1 = 1.0\n",
      "O Med_7 e Ant-3 = 1.0\n",
      "O Med_8 e Ant-7 = 1.0\n",
      "O Med_8 e Ant-8 = 1.0\n",
      "O Med_9 e Ant-1 = 1.0\n",
      "O Med_9 e Ant-4 = 1.0\n",
      "O Med_10 e Ant-1 = 1.0\n",
      "O Med_10 e Ant-8 = 1.0\n"
     ]
    }
   ],
   "source": [
    "for m in M:\n",
    "    for a in A:\n",
    "        quantidade = model.y[m,a]()\n",
    "        if quantidade > 0:\n",
    "            print(f'O {m} e {a} = {quantidade}')"
   ]
  }
 ],
 "metadata": {
  "kernelspec": {
   "display_name": "Python 3",
   "language": "python",
   "name": "python3"
  },
  "language_info": {
   "codemirror_mode": {
    "name": "ipython",
    "version": 3
   },
   "file_extension": ".py",
   "mimetype": "text/x-python",
   "name": "python",
   "nbconvert_exporter": "python",
   "pygments_lexer": "ipython3",
   "version": "3.11.4"
  },
  "orig_nbformat": 4
 },
 "nbformat": 4,
 "nbformat_minor": 2
}
