{
 "cells": [
  {
   "cell_type": "markdown",
   "metadata": {},
   "source": [
    "### Exemplo 3. Planejamento da visita a sítios turísticos.\n",
    "\n",
    "- Você está de férias em Paris e quer visitar alguns sítios turísticos aproveitando ao máximo os R$1500 que tem disponível para as entradas. Baseado nas descrições que se encontram em *LonelyPlanet* você realizou uma estimativa de quanto poderia se divertir em cada sítio turístico, qualificando-os de **1** a **5**.\n",
    "\n",
    "| Sitio Turístico | Satisfação esperada | Custo de entrada [$] |\n",
    "| :-- | :----: | :---: |\n",
    "| Museu do Louvre |5 | 440 | \n",
    "| Palacio de Versalles |5 | 600 |\n",
    "| Torre Eiffel |4 | 420 |\n",
    "| Arco do Triunfo |3 | 160 |\n",
    "| Catedral de Notre Dame |3 | 360 |\n",
    "| City Tour |2 | 110 |\n",
    "| Cruzeiro pelo Rio Sena | 2 | 120 |\n",
    "| Moulin Rouge |1 | 300 |\n",
    "\n",
    "\n",
    "\n",
    "- Qual é o plano de visita que maximiza sua satisfação esperada?"
   ]
  },
  {
   "cell_type": "markdown",
   "metadata": {},
   "source": [
    "### Formulação\n",
    "\n",
    "#### Variáveis de decisão:\n",
    "\n",
    "$x_1, x_2, x_3, x_4, x_5, x_6, x_7, x_8 \\in \\{0,1\\}$\n",
    "\n",
    "\n",
    "#### Função objetivo:\n",
    "\n",
    "$\\mathrm{max} \\; z = 25x_1 + 5x_2 + 4x_3 + 3x_4 + 3x_5 + 2x_6 + 2x_7 + x_8 $\n",
    "\n",
    "#### Restrições:\n",
    "\n",
    "$ 440x_1 + 600x_2 + 420x_3 + 160x_4 + 360x_5 + 110x_6 + 120x_7 + 300x_8  \\leq 1500 $\n",
    "\n",
    "$x_1, x_2, x_3, x_4, x_5, x_6, x_7, x_8 \\in \\{0,1\\}$\n"
   ]
  },
  {
   "cell_type": "markdown",
   "metadata": {},
   "source": [
    "### Modelo Computacional"
   ]
  },
  {
   "cell_type": "code",
   "execution_count": 14,
   "metadata": {},
   "outputs": [],
   "source": [
    "from pyomo.environ import *"
   ]
  },
  {
   "cell_type": "code",
   "execution_count": 15,
   "metadata": {},
   "outputs": [],
   "source": [
    "# Declaração dos parâmetros:\n",
    "\n",
    "A = ['Museo_Louvre', 'Versalles', 'Torre_Eiffel', 'Arc_Triunfo', 'Cat_NotreDame', 'City_tour', 'Rio_Sena', 'Moulin_Rouge']\n",
    "b = {'Museo_Louvre':5, 'Versalles':5, 'Torre_Eiffel':4, 'Arc_Triunfo':3, 'Cat_NotreDame':3, 'City_tour':2, 'Rio_Sena':2, 'Moulin_Rouge': 1}\n",
    "c = {'Museo_Louvre':440, 'Versalles':600, 'Torre_Eiffel':420, 'Arc_Triunfo':160, 'Cat_NotreDame':360, 'City_tour':110, 'Rio_Sena':120, 'Moulin_Rouge': 300}\n",
    "c_max = 1500"
   ]
  },
  {
   "cell_type": "code",
   "execution_count": 16,
   "metadata": {},
   "outputs": [],
   "source": [
    "# Declaraçao do modelo:\n",
    "\n",
    "model = ConcreteModel()"
   ]
  },
  {
   "cell_type": "code",
   "execution_count": 17,
   "metadata": {},
   "outputs": [],
   "source": [
    "# Declaração das variáveis de decisão:\n",
    "\n",
    "model.x = Var(A, within=Binary)"
   ]
  },
  {
   "cell_type": "markdown",
   "metadata": {},
   "source": [
    "$\\mathrm{max} \\; z = 25x_1 + 5x_2 + 4x_3 + 3x_4 + 3x_5 + 2x_6 + 2x_7 + x_8 $"
   ]
  },
  {
   "cell_type": "code",
   "execution_count": 18,
   "metadata": {},
   "outputs": [],
   "source": [
    "# Declaração da função objetivo:\n",
    "\n",
    "model.satisfaction = Objective(expr = sum(b[i]*model.x[i] for i in A), sense = maximize)\n"
   ]
  },
  {
   "cell_type": "code",
   "execution_count": 19,
   "metadata": {},
   "outputs": [],
   "source": [
    "# Declaração das restrições:\n",
    "\n",
    "model.custo = Constraint(expr = sum(c[i]*model.x[i] for i in A) <= c_max)"
   ]
  },
  {
   "cell_type": "code",
   "execution_count": 20,
   "metadata": {},
   "outputs": [],
   "source": [
    "# Solução:\n",
    "\n",
    "Resultado = SolverFactory('cbc', executable='C:/Solvers/cbc.exe').solve(model)\n"
   ]
  },
  {
   "cell_type": "code",
   "execution_count": 21,
   "metadata": {},
   "outputs": [
    {
     "name": "stdout",
     "output_type": "stream",
     "text": [
      "satisfaction : Size=1, Index=None, Active=True\n",
      "    Key  : Active : Value\n",
      "    None :   True :  17.0\n",
      "x : Size=8, Index=x_index\n",
      "    Key           : Lower : Value : Upper : Fixed : Stale : Domain\n",
      "      Arc_Triunfo :     0 :   1.0 :     1 : False : False : Binary\n",
      "    Cat_NotreDame :     0 :   0.0 :     1 : False : False : Binary\n",
      "        City_tour :     0 :   1.0 :     1 : False : False : Binary\n",
      "     Moulin_Rouge :     0 :   0.0 :     1 : False : False : Binary\n",
      "     Museo_Louvre :     0 :   1.0 :     1 : False : False : Binary\n",
      "         Rio_Sena :     0 :   1.0 :     1 : False : False : Binary\n",
      "     Torre_Eiffel :     0 :   0.0 :     1 : False : False : Binary\n",
      "        Versalles :     0 :   1.0 :     1 : False : False : Binary\n"
     ]
    }
   ],
   "source": [
    "model.satisfaction.display()\n",
    "model.x.display()"
   ]
  }
 ],
 "metadata": {
  "kernelspec": {
   "display_name": "Python 3",
   "language": "python",
   "name": "python3"
  },
  "language_info": {
   "codemirror_mode": {
    "name": "ipython",
    "version": 3
   },
   "file_extension": ".py",
   "mimetype": "text/x-python",
   "name": "python",
   "nbconvert_exporter": "python",
   "pygments_lexer": "ipython3",
   "version": "3.11.4"
  },
  "orig_nbformat": 4
 },
 "nbformat": 4,
 "nbformat_minor": 2
}
