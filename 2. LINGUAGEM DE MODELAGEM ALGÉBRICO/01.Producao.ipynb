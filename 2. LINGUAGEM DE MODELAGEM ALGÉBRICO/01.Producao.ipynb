{
 "cells": [
  {
   "cell_type": "markdown",
   "metadata": {},
   "source": [
    "### Exemplo 1. Operação de uma empresa de aço.\n",
    "\n",
    "- Uma empresa de aço fabrica dois produtos: bandas e bobinas.\n",
    "- Cada produto tem uma velocidade de fabricação, um lucro por tonelada e uma quantidade de produção máxima por semana:\n",
    "\n",
    "\n",
    "| Produto | Toneladas por hora | Lucro por tonelada [$] | Toneladas máximas |\n",
    "| :--: | :----: | :---: | :----: |\n",
    "| Bandas | 200 | 25 | 6000 |\n",
    "| Bobinas | 140 | 30 | 4000 |\n",
    "\n",
    "- Se 40 horas é o tempo de produção disponível para esta semana.\n",
    "- Quantas toneladas de bandas e quantas toneladas de bobinas se devem produzir para obter o maior lucro total?"
   ]
  },
  {
   "cell_type": "markdown",
   "metadata": {},
   "source": [
    "### Formulação\n",
    "\n",
    "#### Variáveis de decisão:\n",
    "\n",
    "$x \\colon \\text{Número de toneladas de Bandas}$\n",
    "\n",
    "$y \\colon \\text{Número de toneladas de Bobinas}$\n",
    "\n",
    "#### Função objetivo:\n",
    "\n",
    "$\\mathrm{max} \\; z = 25 x + 30 y $\n",
    "\n",
    "#### Restrições:\n",
    "\n",
    "$ x/200 + y /140 \\leq 40$\n",
    "\n",
    "$x \\leq 6000$\n",
    "\n",
    "$y \\leq 4000$"
   ]
  },
  {
   "cell_type": "markdown",
   "metadata": {},
   "source": [
    "### Modelo Computacional"
   ]
  },
  {
   "cell_type": "code",
   "execution_count": 11,
   "metadata": {},
   "outputs": [],
   "source": [
    "from pyomo.environ import *"
   ]
  },
  {
   "cell_type": "code",
   "execution_count": 12,
   "metadata": {},
   "outputs": [],
   "source": [
    "model = ConcreteModel()"
   ]
  },
  {
   "cell_type": "code",
   "execution_count": 13,
   "metadata": {},
   "outputs": [],
   "source": [
    "# Declaração das variáveis de decisão:\n",
    "\n",
    "model.x = Var(domain=NonNegativeReals)\n",
    "model.y = Var(domain=NonNegativeReals)"
   ]
  },
  {
   "cell_type": "code",
   "execution_count": 14,
   "metadata": {},
   "outputs": [],
   "source": [
    "# Declaração da função objetivo:\n",
    "\n",
    "model.profit = Objective(expr = 25*model.x + 30*model.y, sense = maximize)"
   ]
  },
  {
   "cell_type": "code",
   "execution_count": 15,
   "metadata": {},
   "outputs": [],
   "source": [
    "# Declaração das restrições:\n",
    "\n",
    "model.Ton_hora = Constraint(expr = model.x/200 + model.y/140 <= 40)\n",
    "model.Ton_max_laminas = Constraint(expr = model.x <= 6000)\n",
    "model.Ton_max_bobinas = Constraint(expr = model.y <= 4000)"
   ]
  },
  {
   "cell_type": "code",
   "execution_count": 16,
   "metadata": {},
   "outputs": [
    {
     "name": "stdout",
     "output_type": "stream",
     "text": [
      "x : Size=1, Index=None\n",
      "    Key  : Lower : Value  : Upper : Fixed : Stale : Domain\n",
      "    None :     0 : 6000.0 :  None : False : False : NonNegativeReals\n",
      "y : Size=1, Index=None\n",
      "    Key  : Lower : Value  : Upper : Fixed : Stale : Domain\n",
      "    None :     0 : 1400.0 :  None : False : False : NonNegativeReals\n",
      "profit : Size=1, Index=None, Active=True\n",
      "    Key  : Active : Value\n",
      "    None :   True : 192000.0\n"
     ]
    }
   ],
   "source": [
    "# Solução do problema:\n",
    "\n",
    "Resultado = SolverFactory('CPLEX', executable='C:/Solvers/CPLEX.exe').solve(model)\n",
    "model.x.display()\n",
    "model.y.display()\n",
    "model.profit.display()\n"
   ]
  },
  {
   "cell_type": "code",
   "execution_count": 17,
   "metadata": {},
   "outputs": [
    {
     "name": "stdout",
     "output_type": "stream",
     "text": [
      "P = 192000.0\n",
      "x = 6000.0\n",
      "y = 1400.0\n"
     ]
    }
   ],
   "source": [
    "# Mostra-se os resultados\n",
    "\n",
    "print(f\"P = {model.profit()}\")\n",
    "print(f\"x = {model.x()}\")\n",
    "print(f\"y = {model.y()}\")"
   ]
  },
  {
   "cell_type": "markdown",
   "metadata": {},
   "source": [
    "- **Se é possivel trabalhar mais de 1 hora esta semana (hora extra ou adicional), quanto seria o lucro adicional?**"
   ]
  },
  {
   "cell_type": "code",
   "execution_count": null,
   "metadata": {},
   "outputs": [],
   "source": [
    "model.Ton_hora = Constraint(expr = model.x/200 + model.y/140 <= 41)"
   ]
  },
  {
   "cell_type": "code",
   "execution_count": 22,
   "metadata": {},
   "outputs": [],
   "source": [
    "# Solução do problema:\n",
    "\n",
    "Resultado = SolverFactory('CPLEX', executable='C:/Solvers/CPLEX.exe').solve(model)"
   ]
  },
  {
   "cell_type": "code",
   "execution_count": 23,
   "metadata": {},
   "outputs": [
    {
     "name": "stdout",
     "output_type": "stream",
     "text": [
      "P = 196200.0\n",
      "x = 6000.0\n",
      "y = 1540.0\n"
     ]
    }
   ],
   "source": [
    "print(f\"P = {model.profit()}\")\n",
    "print(f\"x = {model.x()}\")\n",
    "print(f\"y = {model.y()}\")"
   ]
  },
  {
   "cell_type": "markdown",
   "metadata": {},
   "source": [
    "- **Se é possivel produzir mais 1 tonelada por semana de bandas, quanto seria o lucro adicional?**"
   ]
  },
  {
   "cell_type": "code",
   "execution_count": null,
   "metadata": {},
   "outputs": [],
   "source": [
    "# Adiciona-se 1 tonelada por semana de bandas\n",
    "\n",
    "model.Ton_hora = Constraint(expr = model.x/201 + model.y/140 <= 40)"
   ]
  },
  {
   "cell_type": "code",
   "execution_count": 25,
   "metadata": {},
   "outputs": [],
   "source": [
    "# Solução do problema:\n",
    "\n",
    "Resultado = SolverFactory('CPLEX', executable='C:/Solvers/CPLEX.exe').solve(model)"
   ]
  },
  {
   "cell_type": "code",
   "execution_count": 26,
   "metadata": {},
   "outputs": [
    {
     "name": "stdout",
     "output_type": "stream",
     "text": [
      "P = 192626.8656716418\n",
      "x = 6000.0\n",
      "y = 1420.8955223880603\n"
     ]
    }
   ],
   "source": [
    "print(f\"P = {model.profit()}\")\n",
    "print(f\"x = {model.x()}\")\n",
    "print(f\"y = {model.y()}\")"
   ]
  },
  {
   "cell_type": "markdown",
   "metadata": {},
   "source": [
    "- **Se é possivel produzir mais 1 tonelada por semana de bobinass, quanto seria o lucro adicional?**"
   ]
  },
  {
   "cell_type": "code",
   "execution_count": null,
   "metadata": {},
   "outputs": [],
   "source": [
    "# Adiciona-se 1 tonelada por semana de bobinas\n",
    "\n",
    "model.Ton_hora = Constraint(expr = model.x/200 + model.y/141 <= 40)"
   ]
  },
  {
   "cell_type": "code",
   "execution_count": 28,
   "metadata": {},
   "outputs": [],
   "source": [
    "# Solução do problema:\n",
    "\n",
    "Resultado = SolverFactory('CPLEX', executable='C:/Solvers/CPLEX.exe').solve(model)"
   ]
  },
  {
   "cell_type": "code",
   "execution_count": 29,
   "metadata": {},
   "outputs": [
    {
     "name": "stdout",
     "output_type": "stream",
     "text": [
      "P = 192300.0\n",
      "x = 6000.0\n",
      "y = 1410.0\n"
     ]
    }
   ],
   "source": [
    "print(f\"P = {model.profit()}\")\n",
    "print(f\"x = {model.x()}\")\n",
    "print(f\"y = {model.y()}\")"
   ]
  }
 ],
 "metadata": {
  "kernelspec": {
   "display_name": "Python 3",
   "language": "python",
   "name": "python3"
  },
  "language_info": {
   "codemirror_mode": {
    "name": "ipython",
    "version": 3
   },
   "file_extension": ".py",
   "mimetype": "text/x-python",
   "name": "python",
   "nbconvert_exporter": "python",
   "pygments_lexer": "ipython3",
   "version": "3.11.4"
  },
  "orig_nbformat": 4
 },
 "nbformat": 4,
 "nbformat_minor": 2
}
