{
 "cells": [
  {
   "cell_type": "markdown",
   "metadata": {},
   "source": [
    "## Residência\n",
    "\n",
    "- Considere uma residência com um perfil de demanda total horaria conhecida ou prevista ao longo de 24 horas ($ P_{t}^D, \\forall t = 1 \\dots 24 $), que tem que ser obrigatoriamente atendida, e energizada pela rede de distribuição ($ P_{t}^S, \\forall t = 1 \\dots 24 $).\n",
    "\n",
    "![Residencia](../Figuras/3.1.png)\n",
    "\n",
    "- Assuma uma estrutura tarifaria ($ C_{t}^OS, \\forall t = 1 \\dots 24$) de três níveis para a compra de energia da rede de distribuição, em R$/kWh: \n",
    "\n",
    "|t | $ R\\$/kWh$ |\n",
    "|:----:|:----:|\n",
    "|00:00h - 16:59h | 0.22419 |\n",
    "|17:00h - 17:59h | 0.32629 |\n",
    "|18:00h - 20:59h | 0.51792 |\n",
    "|21:00h - 21:59h | 0.32629 |\n",
    "|22:00h - 24:00h | 0.22419 |\n",
    "\n",
    "- Qual é a potência ativa fornecida pela rede de distribuição $ P_{t}^S$ para cada instante de tempo?"
   ]
  },
  {
   "cell_type": "markdown",
   "metadata": {},
   "source": [
    "## Formulação General\n",
    "\n",
    "### Conjuntos\n",
    "- $ T: \\text{Conjunto de intervalos de tempo.}$\n",
    "\n",
    "### Parâmetros\n",
    "\n",
    "- $ P_{t}^{D} : \\text{Demanda de potência ativa da residencia no intervalo t [kW].} $\n",
    "- $ c_{t} : \\text{Custo pela compra de energia no intervalo t [R\\$kWh].} $\n",
    "\n",
    "### Variáveis de decisão\n",
    "\n",
    "- $P_{t}^{S} : \\text{Potencia ativa fornecida pela rede de distribuição no intervalo t.}$ \n",
    "\n",
    "### Função objetivo \n",
    "\n",
    "- $ \\mathrm{Min} \\sum\\limits_{t \\in T} c_{t}  P_{t}^{S}$\n",
    "\n",
    "### Restrições \n",
    "\n",
    "- $ P_{t}^{S} = P_{t}^{D} \\;\\;\\;\\;\\;\\; ;\\forall t \\in T $\n",
    "- $ P_{t}^{S} \\geq 0 \\;\\;\\;\\;\\;\\; ;\\forall t \\in T $\n",
    "\n"
   ]
  },
  {
   "cell_type": "markdown",
   "metadata": {},
   "source": [
    "## Preparaçõ dos dados de entrada"
   ]
  },
  {
   "cell_type": "markdown",
   "metadata": {},
   "source": [
    "### Conjuntos\n",
    "- $ T: \\text{Conjunto de intervalos de tempo.}$"
   ]
  },
  {
   "cell_type": "code",
   "execution_count": 13,
   "metadata": {},
   "outputs": [],
   "source": [
    "tempo = [1,2,3,4,5,6,7,8,9,10,11,12,13,14,15,16,17,18,19,20,21,22,23,24]"
   ]
  },
  {
   "cell_type": "markdown",
   "metadata": {},
   "source": [
    "### Parâmetros\n",
    "\n",
    "- $ P_{t}^{D} : \\text{Demanda de potência ativa da residencia no intervalo t [kW].} $\n",
    "- $ c_{t} : \\text{Custo pela compra de energia no intervalo t [R\\$kWh].} $"
   ]
  },
  {
   "cell_type": "code",
   "execution_count": 14,
   "metadata": {},
   "outputs": [],
   "source": [
    "costs = {'1': 0.22419,'2': 0.22419,'3': 0.22419,'4': 0.22419,'5': 0.22419,'6': 0.22419,'7': 0.22419,'8': 0.22419,'9': 0.22419,'10': 0.22419,'11': 0.22419,'12': 0.22419,'13': 0.22419,'14': 0.22419,'15': 0.22419,'16': 0.22419,'17': 0.32629,'18': 0.51792,'19': 0.51792,'20': 0.51792,'21': 0.32629,'22': 0.22419,'23': 0.22419,'24': 0.22419}\n",
    "dem = {'1': 1.9317, '2': 1.609, '3': 1.4079, '4': 1.3281, '5': 1.3834, '6': 1.6413, '7': 1.9395, '8': 1.7383, '9': 1.8341, '10': 1.8354, '11': 1.9312, '12': 2.3645, '13': 2.2038, '14': 2.2997, '15': 2.1659, '16': 2.5046, '17': 2.749, '18': 4.0597, '19': 4.9924, '20': 5.4257, '21': 5.0491, '22': 4.4294, '23': 3.7692, '24': 2.7716}"
   ]
  },
  {
   "cell_type": "markdown",
   "metadata": {},
   "source": [
    "## Modelo computacional PYOMO"
   ]
  },
  {
   "cell_type": "code",
   "execution_count": 15,
   "metadata": {},
   "outputs": [],
   "source": [
    "from pyomo.environ import *\n",
    "model = ConcreteModel(\"Residencia 01\")"
   ]
  },
  {
   "cell_type": "markdown",
   "metadata": {},
   "source": [
    "### Variáveis de decisão\n",
    "\n",
    "- $P_{t}^{S} : \\text{Potencia ativa fornecida pela rede de distribuição no intervalo t.}$ "
   ]
  },
  {
   "cell_type": "code",
   "execution_count": 16,
   "metadata": {},
   "outputs": [],
   "source": [
    "model.Ps = Var(tempo, within = PositiveReals)"
   ]
  },
  {
   "cell_type": "markdown",
   "metadata": {},
   "source": [
    "### Função objetivo \n",
    "\n",
    "- $ \\mathrm{Min} \\sum\\limits_{t \\in T} c_{t}  P_{t}^{S}$"
   ]
  },
  {
   "cell_type": "code",
   "execution_count": 17,
   "metadata": {},
   "outputs": [],
   "source": [
    "\n",
    "model.cost = Objective(expr=sum(model.Ps[t] * costs[str(t)] for t in tempo), sense=minimize)"
   ]
  },
  {
   "cell_type": "markdown",
   "metadata": {},
   "source": [
    "### Restrições \n",
    "\n",
    "- $ P_{t}^{S} = P_{t}^{D} \\;\\;\\;\\;\\;\\; ;\\forall t \\in T $\n",
    "- $ P_{t}^{S} \\geq 0 \\;\\;\\;\\;\\;\\; ;\\forall t \\in T $"
   ]
  },
  {
   "cell_type": "code",
   "execution_count": 18,
   "metadata": {},
   "outputs": [],
   "source": [
    "model.constr = Constraint(tempo, rule=lambda model, t: model.Ps[t] == dem[str(t)])"
   ]
  },
  {
   "cell_type": "markdown",
   "metadata": {},
   "source": [
    "### Solução"
   ]
  },
  {
   "cell_type": "code",
   "execution_count": 19,
   "metadata": {},
   "outputs": [],
   "source": [
    "Resultado = SolverFactory('cbc', executable='C:/Solvers/cbc.exe').solve(model)"
   ]
  },
  {
   "cell_type": "code",
   "execution_count": 20,
   "metadata": {},
   "outputs": [
    {
     "name": "stdout",
     "output_type": "stream",
     "text": [
      "Model Residencia 01\n",
      "\n",
      "  Variables:\n",
      "    Ps : Size=24, Index=Ps_index\n",
      "        Key : Lower : Value  : Upper : Fixed : Stale : Domain\n",
      "          1 :     0 : 1.9317 :  None : False : False : PositiveReals\n",
      "          2 :     0 :  1.609 :  None : False : False : PositiveReals\n",
      "          3 :     0 : 1.4079 :  None : False : False : PositiveReals\n",
      "          4 :     0 : 1.3281 :  None : False : False : PositiveReals\n",
      "          5 :     0 : 1.3834 :  None : False : False : PositiveReals\n",
      "          6 :     0 : 1.6413 :  None : False : False : PositiveReals\n",
      "          7 :     0 : 1.9395 :  None : False : False : PositiveReals\n",
      "          8 :     0 : 1.7383 :  None : False : False : PositiveReals\n",
      "          9 :     0 : 1.8341 :  None : False : False : PositiveReals\n",
      "         10 :     0 : 1.8354 :  None : False : False : PositiveReals\n",
      "         11 :     0 : 1.9312 :  None : False : False : PositiveReals\n",
      "         12 :     0 : 2.3645 :  None : False : False : PositiveReals\n",
      "         13 :     0 : 2.2038 :  None : False : False : PositiveReals\n",
      "         14 :     0 : 2.2997 :  None : False : False : PositiveReals\n",
      "         15 :     0 : 2.1659 :  None : False : False : PositiveReals\n",
      "         16 :     0 : 2.5046 :  None : False : False : PositiveReals\n",
      "         17 :     0 :  2.749 :  None : False : False : PositiveReals\n",
      "         18 :     0 : 4.0597 :  None : False : False : PositiveReals\n",
      "         19 :     0 : 4.9924 :  None : False : False : PositiveReals\n",
      "         20 :     0 : 5.4257 :  None : False : False : PositiveReals\n",
      "         21 :     0 : 5.0491 :  None : False : False : PositiveReals\n",
      "         22 :     0 : 4.4294 :  None : False : False : PositiveReals\n",
      "         23 :     0 : 3.7692 :  None : False : False : PositiveReals\n",
      "         24 :     0 : 2.7716 :  None : False : False : PositiveReals\n",
      "\n",
      "  Objectives:\n",
      "    cost : Size=1, Index=None, Active=True\n",
      "        Key  : Active : Value\n",
      "        None :   True : 19.254437459000002\n",
      "\n",
      "  Constraints:\n",
      "    constr : Size=24\n",
      "        Key : Lower  : Body   : Upper\n",
      "          1 : 1.9317 : 1.9317 : 1.9317\n",
      "          2 :  1.609 :  1.609 :  1.609\n",
      "          3 : 1.4079 : 1.4079 : 1.4079\n",
      "          4 : 1.3281 : 1.3281 : 1.3281\n",
      "          5 : 1.3834 : 1.3834 : 1.3834\n",
      "          6 : 1.6413 : 1.6413 : 1.6413\n",
      "          7 : 1.9395 : 1.9395 : 1.9395\n",
      "          8 : 1.7383 : 1.7383 : 1.7383\n",
      "          9 : 1.8341 : 1.8341 : 1.8341\n",
      "         10 : 1.8354 : 1.8354 : 1.8354\n",
      "         11 : 1.9312 : 1.9312 : 1.9312\n",
      "         12 : 2.3645 : 2.3645 : 2.3645\n",
      "         13 : 2.2038 : 2.2038 : 2.2038\n",
      "         14 : 2.2997 : 2.2997 : 2.2997\n",
      "         15 : 2.1659 : 2.1659 : 2.1659\n",
      "         16 : 2.5046 : 2.5046 : 2.5046\n",
      "         17 :  2.749 :  2.749 :  2.749\n",
      "         18 : 4.0597 : 4.0597 : 4.0597\n",
      "         19 : 4.9924 : 4.9924 : 4.9924\n",
      "         20 : 5.4257 : 5.4257 : 5.4257\n",
      "         21 : 5.0491 : 5.0491 : 5.0491\n",
      "         22 : 4.4294 : 4.4294 : 4.4294\n",
      "         23 : 3.7692 : 3.7692 : 3.7692\n",
      "         24 : 2.7716 : 2.7716 : 2.7716\n"
     ]
    }
   ],
   "source": [
    "model.display()"
   ]
  }
 ],
 "metadata": {
  "kernelspec": {
   "display_name": "Python 3",
   "language": "python",
   "name": "python3"
  },
  "language_info": {
   "codemirror_mode": {
    "name": "ipython",
    "version": 3
   },
   "file_extension": ".py",
   "mimetype": "text/x-python",
   "name": "python",
   "nbconvert_exporter": "python",
   "pygments_lexer": "ipython3",
   "version": "3.11.4"
  }
 },
 "nbformat": 4,
 "nbformat_minor": 2
}
