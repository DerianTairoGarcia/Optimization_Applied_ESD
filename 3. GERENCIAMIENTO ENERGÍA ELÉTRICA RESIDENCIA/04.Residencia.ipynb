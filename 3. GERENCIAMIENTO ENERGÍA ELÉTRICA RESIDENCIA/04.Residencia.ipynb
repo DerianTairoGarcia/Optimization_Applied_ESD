{
 "cells": [
  {
   "cell_type": "markdown",
   "metadata": {},
   "source": [
    "## Residencia + Gerador distribuído + Armazenador\n",
    "\n",
    "- Considere a instalação de um sistema de armazenamento de energia elétrica na residência. \n",
    "\n",
    "- A energia elétrica pode ser armazenada em dois casos:\n",
    "    1. Quando a energia de fontes renováveis está sobrando no sistema, ou seja, quando a geração a partir de fontes renováveis é maior que a demanda.\n",
    "    2. Quando o custo da compra de energia da rede é mais barato.\n",
    "\n",
    "- A energia armazenada poder ser consumida posteriormente:\n",
    "    1. Quando a demanda é alta.\n",
    "    2. Quando o custo da compra de energía da rede é maior.\n",
    "    3. Quando a geração a partir de fontes renováveis não está disponível.\n",
    "\n",
    "![Residencia](../Figuras/3.3.png)\n",
    "\n",
    "\n",
    "Note que: \n",
    "\n",
    "|$e_{t}^{AE} = 1$ (Injeção (Descarrega))| $e_{t}^{AE} = 0$ (Extração (Carrega))|\n",
    "|:----:|:----:|\n",
    "|$ 0 \\leq P_{t}^{AEi} \\leq \\overline{P}^{AE}$ | $P_{t}^{AEi} = 0 $ |\n",
    "|$P_{t}^{AEe} = 0 $| $ 0 \\leq P_{t}^{AEe} \\leq \\overline{P}^{AE}$ |\n",
    "\n",
    "- Implemente o modelo de PLIM proposto."
   ]
  },
  {
   "cell_type": "markdown",
   "metadata": {},
   "source": [
    "## Formulação General\n",
    "\n",
    "### Conjuntos\n",
    "- $ T: \\text{Conjunto de intervalos de tempo.}$\n",
    "\n",
    "### Parâmetros\n",
    "\n",
    "- $ P_{t}^{D} : \\text{Demanda de potência ativa da residencia no intervalo t [kW].} $\n",
    "- $ P_{t}^{GD} : \\text{Geração distribuída da residencia no intervalo t [kW].} $\n",
    "- $ c_{t} : \\text{Custo pela compra de energia no intervalo t [R\\$kWh].} $\n",
    "- $ \\overline{P}^{AE} : \\text{Potência ativa máxima de injeção e extração do armazenador [kW].} $\n",
    "- $ \\overline{E}^{AE} : \\text{Capacidade máxima de armazenamento [kWh].} $\n",
    "- $ \\overline{E}^{AE0} : \\text{Energia armazenada inicial [kWh].} $\n",
    "- $ \\alpha : \\text{Eficiencia do armazenador.}$\n",
    "- $ \\delta : \\text{Intervalo de tempo em horas[h].}$\n",
    "- $ \\beta : \\text{Taxa de autodescarga em uma hora.}$\n",
    "\n",
    "### Variáveis de decisão\n",
    "\n",
    "- $P_{t}^{S} : \\text{Potencia ativa fornecida pela rede de distribuição no intervalo t.}$ \n",
    "- $P_{t}^{V} : \\text{Potencia ativa fornecida pela rede de distribuição no intervalo t.}$ \n",
    "- $P_{t}^{AEi} : \\text{Potencia ativa de injeção do armazenador no intervalo t.}$\n",
    "- $P_{t}^{AEe} : \\text{Potencia ativa de extração do armazenador no intervalo t.}$\n",
    "- $E_{t}^{AE} : \\text{Energia armazenada no intervalo t}$\n",
    "- $e_{t}^{AE} : \\text{Estado de operação do armazenador no intervalo t.}$\n",
    "\n",
    "### Função objetivo \n",
    "\n",
    "- $ \\mathrm{Min} : \\text{Custo total} = \\delta \\sum\\limits_{t \\in T} c_{t}  P_{t}^{S}$\n",
    "\n",
    "### Restrições \n",
    "\n",
    "- $ P_{t}^{S} + P_{t}^{GD} - P_{t}^{V} = P_{t}^{D} + P_{t}^{AEe} - P_{t}^{AEi} \\;\\;\\;\\;\\;\\; \\forall t \\in T $\n",
    "- $E_{t}^{AE} =  E_{t-1}^{AE} + \\alpha\\delta P_{t}^{AEe} - \\delta P_{t}^{AEi}/\\alpha  \\;\\;\\;\\;\\;\\; \\forall t \\in T /t > 1 $\n",
    "- $E_{t}^{AE} =  E^{AE0} + \\alpha\\delta P_{t}^{AEe} - \\delta P_{t}^{AEi}/\\alpha  \\;\\;\\;\\;\\;\\; \\forall t \\in T /t = 1 $\n",
    "- $0 \\leq P_{t}^{AEi} \\leq \\overline{P}^{AE} e_{t}^{AE}\\;\\;\\;\\;\\;\\; ;\\forall t \\in T$\n",
    "- $0 \\leq P_{t}^{AEi} \\leq \\overline{P}^{AE} (1 - e_{t}^{AE}) \\;\\;\\;\\;\\;\\; ;\\forall t \\in T$\n",
    "- $0 \\leq E_{t}^{AEe} \\leq \\overline{E}^{AE}  \\;\\;\\;\\;\\;\\; ;\\forall t \\in T $\n",
    "\n",
    "- $ P_{t}^{S}, P_{t}^{V} \\geq 0 \\;\\;\\;\\;\\;\\; ;\\forall t \\in T $\n",
    "- $ e_{t}^{AE} \\in {0,1} \\;\\;\\;\\;\\;\\; ;\\forall t \\in T$\n",
    "\n",
    "\n"
   ]
  },
  {
   "cell_type": "markdown",
   "metadata": {},
   "source": [
    "## Preparaçõ dos dados de entrada"
   ]
  },
  {
   "cell_type": "markdown",
   "metadata": {},
   "source": [
    "### Conjuntos\n",
    "- $ T: \\text{Conjunto de intervalos de tempo.}$"
   ]
  },
  {
   "cell_type": "code",
   "execution_count": 1,
   "metadata": {},
   "outputs": [],
   "source": [
    "tempo = [1,2,3,4,5,6,7,8,9,10,11,12,13,14,15,16,17,18,19,20,21,22,23,24]"
   ]
  },
  {
   "cell_type": "markdown",
   "metadata": {},
   "source": [
    "### Parâmetros\n",
    "\n",
    "- $ P_{t}^{D} : \\text{Demanda de potência ativa da residencia no intervalo t [kW].} $\n",
    "- $ P_{t}^{GD} : \\text{Geração distribuída da residencia no intervalo t [kW].} $\n",
    "- $ c_{t} : \\text{Custo pela compra de energia no intervalo t [R\\$kWh].} $\n",
    "- $ \\overline{P}^{AE} : \\text{Potência ativa máxima de injeção e extração do armazenador [kW].} $\n",
    "- $ \\overline{E}^{AE} : \\text{Capacidade máxima de armazenamento [kWh].} $\n",
    "- $ \\overline{E}^{AE0} : \\text{Energia armazenada inicial [kWh].} $\n",
    "- $ \\alpha : \\text{Eficiencia do armazenador.}$\n",
    "- $ \\delta : \\text{Intervalo de tempo em horas[h].}$\n",
    "- $ \\beta : \\text{Taxa de autodescarga em uma hora.}$"
   ]
  },
  {
   "cell_type": "code",
   "execution_count": 2,
   "metadata": {},
   "outputs": [],
   "source": [
    "dem = {'1': 1.9317, '2': 1.609, '3': 1.4079, '4': 1.3281, '5': 1.3834, '6': 1.6413, '7': 1.9395, '8': 1.7383, '9': 1.8341, '10': 1.8354, '11': 1.9312, '12': 2.3645, '13': 2.2038, '14': 2.2997, '15': 2.1659, '16': 2.5046, '17': 2.749, '18': 4.0597, '19': 4.9924, '20': 5.4257, '21': 5.0491, '22': 4.4294, '23': 3.7692, '24': 2.7716}\n",
    "GD = {'1': 0.0, '2': 0.0, '3': 0.0, '4': 0.0, '5': 0.0796, '6': 0.4565, '7': 1.0742, '8': 1.579, '9': 2.4343, '10': 2.7488, '11': 3.5092, '12': 3.8988, '13': 3.9734, '14': 3.7105, '15': 3.1671, '16': 2.7282, '17': 2.3926, '18': 2.1764, '19': 1.9083, '20': 1.4257, '21': 0.0034, '22': 0.0, '23': 0.0, '24': 0.0}\n",
    "costs = {'1': 0.22419,'2': 0.22419,'3': 0.22419,'4': 0.22419,'5': 0.22419,'6': 0.22419,'7': 0.22419,'8': 0.22419,'9': 0.22419,'10': 0.22419,'11': 0.22419,'12': 0.22419,'13': 0.22419,'14': 0.22419,'15': 0.22419,'16': 0.22419,'17': 0.32629,'18': 0.51792,'19': 0.51792,'20': 0.51792,'21': 0.32629,'22': 0.22419,'23': 0.22419,'24': 0.22419}\n",
    "P_max_AE = [2]\n",
    "E_max_AE = [7]\n",
    "E_ini_AE = [0]\n",
    "alpha = [0.90]\n",
    "delta = [1]\n",
    "beta = [0.05] \n"
   ]
  },
  {
   "cell_type": "code",
   "execution_count": 3,
   "metadata": {},
   "outputs": [
    {
     "data": {
      "image/svg+xml": [
       "<svg class=\"main-svg\" xmlns=\"http://www.w3.org/2000/svg\" xmlns:xlink=\"http://www.w3.org/1999/xlink\" width=\"700\" height=\"500\" style=\"\" viewBox=\"0 0 700 500\"><rect x=\"0\" y=\"0\" width=\"700\" height=\"500\" style=\"fill: rgb(255, 255, 255); fill-opacity: 1;\"/><defs id=\"defs-9859fd\"><g class=\"clips\"><clipPath id=\"clip9859fdxyplot\" class=\"plotclip\"><rect width=\"495\" height=\"320\"/></clipPath><clipPath class=\"axesclip\" id=\"clip9859fdx\"><rect x=\"80\" y=\"0\" width=\"495\" height=\"500\"/></clipPath><clipPath class=\"axesclip\" id=\"clip9859fdy\"><rect x=\"0\" y=\"100\" width=\"700\" height=\"320\"/></clipPath><clipPath class=\"axesclip\" id=\"clip9859fdxy\"><rect x=\"80\" y=\"100\" width=\"495\" height=\"320\"/></clipPath></g><g class=\"gradients\"/><g class=\"patterns\"/></defs><g class=\"bglayer\"><rect class=\"bg\" x=\"80\" y=\"100\" width=\"495\" height=\"320\" style=\"fill: rgb(229, 236, 246); fill-opacity: 1; stroke-width: 0;\"/></g><g class=\"layer-below\"><g class=\"imagelayer\"/><g class=\"shapelayer\"/></g><g class=\"cartesianlayer\"><g class=\"subplot xy\"><g class=\"layer-subplot\"><g class=\"shapelayer\"/><g class=\"imagelayer\"/></g><g class=\"minor-gridlayer\"><g class=\"x\"/><g class=\"y\"/></g><g class=\"gridlayer\"><g class=\"x\"/><g class=\"y\"><path class=\"ygrid crisp\" transform=\"translate(0,358.41)\" d=\"M80,0h495\" style=\"stroke: rgb(255, 255, 255); stroke-opacity: 1; stroke-width: 1px;\"/><path class=\"ygrid crisp\" transform=\"translate(0,304.49)\" d=\"M80,0h495\" style=\"stroke: rgb(255, 255, 255); stroke-opacity: 1; stroke-width: 1px;\"/><path class=\"ygrid crisp\" transform=\"translate(0,250.56)\" d=\"M80,0h495\" style=\"stroke: rgb(255, 255, 255); stroke-opacity: 1; stroke-width: 1px;\"/><path class=\"ygrid crisp\" transform=\"translate(0,196.63)\" d=\"M80,0h495\" style=\"stroke: rgb(255, 255, 255); stroke-opacity: 1; stroke-width: 1px;\"/><path class=\"ygrid crisp\" transform=\"translate(0,142.71)\" d=\"M80,0h495\" style=\"stroke: rgb(255, 255, 255); stroke-opacity: 1; stroke-width: 1px;\"/></g></g><g class=\"zerolinelayer\"><path class=\"yzl zl crisp\" transform=\"translate(0,412.34)\" d=\"M80,0h495\" style=\"stroke: rgb(255, 255, 255); stroke-opacity: 1; stroke-width: 2px;\"/></g><path class=\"xlines-below\"/><path class=\"ylines-below\"/><g class=\"overlines-below\"/><g class=\"xaxislayer-below\"/><g class=\"yaxislayer-below\"/><g class=\"overaxes-below\"/><g class=\"plot\" transform=\"translate(80,100)\" clip-path=\"url(#clip9859fdxyplot)\"><g class=\"barlayer mlayer\"><g class=\"trace bars\" style=\"opacity: 1;\"><g class=\"points\"><g class=\"point\"><path d=\"M20.88,312.34V312.34H36.12V312.34Z\" style=\"vector-effect: none; opacity: 1; stroke-width: 0.5px; fill: rgb(239, 35, 60); fill-opacity: 1; stroke: rgb(229, 236, 246); stroke-opacity: 1;\"/></g><g class=\"point\"><path d=\"M39.93,312.34V312.34H55.16V312.34Z\" style=\"vector-effect: none; opacity: 1; stroke-width: 0.5px; fill: rgb(239, 35, 60); fill-opacity: 1; stroke: rgb(229, 236, 246); stroke-opacity: 1;\"/></g><g class=\"point\"><path d=\"M58.97,312.34V312.34H74.2V312.34Z\" style=\"vector-effect: none; opacity: 1; stroke-width: 0.5px; fill: rgb(239, 35, 60); fill-opacity: 1; stroke: rgb(229, 236, 246); stroke-opacity: 1;\"/></g><g class=\"point\"><path d=\"M78.01,312.34V312.34H93.25V312.34Z\" style=\"vector-effect: none; opacity: 1; stroke-width: 0.5px; fill: rgb(239, 35, 60); fill-opacity: 1; stroke: rgb(229, 236, 246); stroke-opacity: 1;\"/></g><g class=\"point\"><path d=\"M97.06,312.34V308.05H112.29V312.34Z\" style=\"vector-effect: none; opacity: 1; stroke-width: 0.5px; fill: rgb(239, 35, 60); fill-opacity: 1; stroke: rgb(229, 236, 246); stroke-opacity: 1;\"/></g><g class=\"point\"><path d=\"M116.1,312.34V287.72H131.33V312.34Z\" style=\"vector-effect: none; opacity: 1; stroke-width: 0.5px; fill: rgb(239, 35, 60); fill-opacity: 1; stroke: rgb(229, 236, 246); stroke-opacity: 1;\"/></g><g class=\"point\"><path d=\"M135.14,312.34V254.41H150.38V312.34Z\" style=\"vector-effect: none; opacity: 1; stroke-width: 0.5px; fill: rgb(239, 35, 60); fill-opacity: 1; stroke: rgb(229, 236, 246); stroke-opacity: 1;\"/></g><g class=\"point\"><path d=\"M154.19,312.34V227.19H169.42V312.34Z\" style=\"vector-effect: none; opacity: 1; stroke-width: 0.5px; fill: rgb(239, 35, 60); fill-opacity: 1; stroke: rgb(229, 236, 246); stroke-opacity: 1;\"/></g><g class=\"point\"><path d=\"M173.23,312.34V181.07H188.47V312.34Z\" style=\"vector-effect: none; opacity: 1; stroke-width: 0.5px; fill: rgb(239, 35, 60); fill-opacity: 1; stroke: rgb(229, 236, 246); stroke-opacity: 1;\"/></g><g class=\"point\"><path d=\"M192.27,312.34V164.11H207.51V312.34Z\" style=\"vector-effect: none; opacity: 1; stroke-width: 0.5px; fill: rgb(239, 35, 60); fill-opacity: 1; stroke: rgb(229, 236, 246); stroke-opacity: 1;\"/></g><g class=\"point\"><path d=\"M211.32,312.34V123.1H226.55V312.34Z\" style=\"vector-effect: none; opacity: 1; stroke-width: 0.5px; fill: rgb(239, 35, 60); fill-opacity: 1; stroke: rgb(229, 236, 246); stroke-opacity: 1;\"/></g><g class=\"point\"><path d=\"M230.36,312.34V102.09H245.6V312.34Z\" style=\"vector-effect: none; opacity: 1; stroke-width: 0.5px; fill: rgb(239, 35, 60); fill-opacity: 1; stroke: rgb(229, 236, 246); stroke-opacity: 1;\"/></g><g class=\"point\"><path d=\"M249.4,312.34V98.07H264.64V312.34Z\" style=\"vector-effect: none; opacity: 1; stroke-width: 0.5px; fill: rgb(239, 35, 60); fill-opacity: 1; stroke: rgb(229, 236, 246); stroke-opacity: 1;\"/></g><g class=\"point\"><path d=\"M268.45,312.34V112.24H283.68V312.34Z\" style=\"vector-effect: none; opacity: 1; stroke-width: 0.5px; fill: rgb(239, 35, 60); fill-opacity: 1; stroke: rgb(229, 236, 246); stroke-opacity: 1;\"/></g><g class=\"point\"><path d=\"M287.49,312.34V141.55H302.73V312.34Z\" style=\"vector-effect: none; opacity: 1; stroke-width: 0.5px; fill: rgb(239, 35, 60); fill-opacity: 1; stroke: rgb(229, 236, 246); stroke-opacity: 1;\"/></g><g class=\"point\"><path d=\"M306.53,312.34V165.22H321.77V312.34Z\" style=\"vector-effect: none; opacity: 1; stroke-width: 0.5px; fill: rgb(239, 35, 60); fill-opacity: 1; stroke: rgb(229, 236, 246); stroke-opacity: 1;\"/></g><g class=\"point\"><path d=\"M325.58,312.34V183.31H340.81V312.34Z\" style=\"vector-effect: none; opacity: 1; stroke-width: 0.5px; fill: rgb(239, 35, 60); fill-opacity: 1; stroke: rgb(229, 236, 246); stroke-opacity: 1;\"/></g><g class=\"point\"><path d=\"M344.62,312.34V194.97H359.86V312.34Z\" style=\"vector-effect: none; opacity: 1; stroke-width: 0.5px; fill: rgb(239, 35, 60); fill-opacity: 1; stroke: rgb(229, 236, 246); stroke-opacity: 1;\"/></g><g class=\"point\"><path d=\"M363.67,312.34V209.43H378.9V312.34Z\" style=\"vector-effect: none; opacity: 1; stroke-width: 0.5px; fill: rgb(239, 35, 60); fill-opacity: 1; stroke: rgb(229, 236, 246); stroke-opacity: 1;\"/></g><g class=\"point\"><path d=\"M382.71,312.34V235.46H397.94V312.34Z\" style=\"vector-effect: none; opacity: 1; stroke-width: 0.5px; fill: rgb(239, 35, 60); fill-opacity: 1; stroke: rgb(229, 236, 246); stroke-opacity: 1;\"/></g><g class=\"point\"><path d=\"M401.75,312.34V312.16H416.99V312.34Z\" style=\"vector-effect: none; opacity: 1; stroke-width: 0.5px; fill: rgb(239, 35, 60); fill-opacity: 1; stroke: rgb(229, 236, 246); stroke-opacity: 1;\"/></g><g class=\"point\"><path d=\"M420.8,312.34V312.34H436.03V312.34Z\" style=\"vector-effect: none; opacity: 1; stroke-width: 0.5px; fill: rgb(239, 35, 60); fill-opacity: 1; stroke: rgb(229, 236, 246); stroke-opacity: 1;\"/></g><g class=\"point\"><path d=\"M439.84,312.34V312.34H455.07V312.34Z\" style=\"vector-effect: none; opacity: 1; stroke-width: 0.5px; fill: rgb(239, 35, 60); fill-opacity: 1; stroke: rgb(229, 236, 246); stroke-opacity: 1;\"/></g><g class=\"point\"><path d=\"M458.88,312.34V312.34H474.12V312.34Z\" style=\"vector-effect: none; opacity: 1; stroke-width: 0.5px; fill: rgb(239, 35, 60); fill-opacity: 1; stroke: rgb(229, 236, 246); stroke-opacity: 1;\"/></g></g></g></g><g class=\"scatterlayer mlayer\"><g class=\"trace scatter traceda5a28\" style=\"stroke-miterlimit: 2; opacity: 1;\"><g class=\"fills\"/><g class=\"errorbars\"/><g class=\"lines\"><path class=\"js-line\" d=\"M28.5,208.17L47.54,225.57L66.59,236.42L85.63,240.72L104.67,237.74L123.72,223.83L142.76,207.75L161.8,218.6L180.85,213.43L199.89,213.36L218.93,208.2L237.98,184.83L257.02,193.5L276.07,188.32L295.11,195.54L314.15,177.28L333.2,164.1L352.24,93.41L371.28,43.12L390.33,19.75L409.37,40.06L428.41,73.48L447.46,109.08L466.5,162.88\" style=\"vector-effect: none; fill: none; stroke: rgb(43, 45, 66); stroke-opacity: 1; stroke-width: 2px; opacity: 1;\"/></g><g class=\"points\"><path class=\"point\" transform=\"translate(28.5,208.17)\" d=\"M3,0A3,3 0 1,1 0,-3A3,3 0 0,1 3,0Z\" style=\"opacity: 1; stroke-width: 0px; fill: rgb(43, 45, 66); fill-opacity: 1;\"/><path class=\"point\" transform=\"translate(47.54,225.57)\" d=\"M3,0A3,3 0 1,1 0,-3A3,3 0 0,1 3,0Z\" style=\"opacity: 1; stroke-width: 0px; fill: rgb(43, 45, 66); fill-opacity: 1;\"/><path class=\"point\" transform=\"translate(66.59,236.42)\" d=\"M3,0A3,3 0 1,1 0,-3A3,3 0 0,1 3,0Z\" style=\"opacity: 1; stroke-width: 0px; fill: rgb(43, 45, 66); fill-opacity: 1;\"/><path class=\"point\" transform=\"translate(85.63,240.72)\" d=\"M3,0A3,3 0 1,1 0,-3A3,3 0 0,1 3,0Z\" style=\"opacity: 1; stroke-width: 0px; fill: rgb(43, 45, 66); fill-opacity: 1;\"/><path class=\"point\" transform=\"translate(104.67,237.74)\" d=\"M3,0A3,3 0 1,1 0,-3A3,3 0 0,1 3,0Z\" style=\"opacity: 1; stroke-width: 0px; fill: rgb(43, 45, 66); fill-opacity: 1;\"/><path class=\"point\" transform=\"translate(123.72,223.83)\" d=\"M3,0A3,3 0 1,1 0,-3A3,3 0 0,1 3,0Z\" style=\"opacity: 1; stroke-width: 0px; fill: rgb(43, 45, 66); fill-opacity: 1;\"/><path class=\"point\" transform=\"translate(142.76,207.75)\" d=\"M3,0A3,3 0 1,1 0,-3A3,3 0 0,1 3,0Z\" style=\"opacity: 1; stroke-width: 0px; fill: rgb(43, 45, 66); fill-opacity: 1;\"/><path class=\"point\" transform=\"translate(161.8,218.6)\" d=\"M3,0A3,3 0 1,1 0,-3A3,3 0 0,1 3,0Z\" style=\"opacity: 1; stroke-width: 0px; fill: rgb(43, 45, 66); fill-opacity: 1;\"/><path class=\"point\" transform=\"translate(180.85,213.43)\" d=\"M3,0A3,3 0 1,1 0,-3A3,3 0 0,1 3,0Z\" style=\"opacity: 1; stroke-width: 0px; fill: rgb(43, 45, 66); fill-opacity: 1;\"/><path class=\"point\" transform=\"translate(199.89,213.36)\" d=\"M3,0A3,3 0 1,1 0,-3A3,3 0 0,1 3,0Z\" style=\"opacity: 1; stroke-width: 0px; fill: rgb(43, 45, 66); fill-opacity: 1;\"/><path class=\"point\" transform=\"translate(218.93,208.2)\" d=\"M3,0A3,3 0 1,1 0,-3A3,3 0 0,1 3,0Z\" style=\"opacity: 1; stroke-width: 0px; fill: rgb(43, 45, 66); fill-opacity: 1;\"/><path class=\"point\" transform=\"translate(237.98,184.83)\" d=\"M3,0A3,3 0 1,1 0,-3A3,3 0 0,1 3,0Z\" style=\"opacity: 1; stroke-width: 0px; fill: rgb(43, 45, 66); fill-opacity: 1;\"/><path class=\"point\" transform=\"translate(257.02,193.5)\" d=\"M3,0A3,3 0 1,1 0,-3A3,3 0 0,1 3,0Z\" style=\"opacity: 1; stroke-width: 0px; fill: rgb(43, 45, 66); fill-opacity: 1;\"/><path class=\"point\" transform=\"translate(276.07,188.32)\" d=\"M3,0A3,3 0 1,1 0,-3A3,3 0 0,1 3,0Z\" style=\"opacity: 1; stroke-width: 0px; fill: rgb(43, 45, 66); fill-opacity: 1;\"/><path class=\"point\" transform=\"translate(295.11,195.54)\" d=\"M3,0A3,3 0 1,1 0,-3A3,3 0 0,1 3,0Z\" style=\"opacity: 1; stroke-width: 0px; fill: rgb(43, 45, 66); fill-opacity: 1;\"/><path class=\"point\" transform=\"translate(314.15,177.28)\" d=\"M3,0A3,3 0 1,1 0,-3A3,3 0 0,1 3,0Z\" style=\"opacity: 1; stroke-width: 0px; fill: rgb(43, 45, 66); fill-opacity: 1;\"/><path class=\"point\" transform=\"translate(333.2,164.1)\" d=\"M3,0A3,3 0 1,1 0,-3A3,3 0 0,1 3,0Z\" style=\"opacity: 1; stroke-width: 0px; fill: rgb(43, 45, 66); fill-opacity: 1;\"/><path class=\"point\" transform=\"translate(352.24,93.41)\" d=\"M3,0A3,3 0 1,1 0,-3A3,3 0 0,1 3,0Z\" style=\"opacity: 1; stroke-width: 0px; fill: rgb(43, 45, 66); fill-opacity: 1;\"/><path class=\"point\" transform=\"translate(371.28,43.12)\" d=\"M3,0A3,3 0 1,1 0,-3A3,3 0 0,1 3,0Z\" style=\"opacity: 1; stroke-width: 0px; fill: rgb(43, 45, 66); fill-opacity: 1;\"/><path class=\"point\" transform=\"translate(390.33,19.75)\" d=\"M3,0A3,3 0 1,1 0,-3A3,3 0 0,1 3,0Z\" style=\"opacity: 1; stroke-width: 0px; fill: rgb(43, 45, 66); fill-opacity: 1;\"/><path class=\"point\" transform=\"translate(409.37,40.06)\" d=\"M3,0A3,3 0 1,1 0,-3A3,3 0 0,1 3,0Z\" style=\"opacity: 1; stroke-width: 0px; fill: rgb(43, 45, 66); fill-opacity: 1;\"/><path class=\"point\" transform=\"translate(428.41,73.48)\" d=\"M3,0A3,3 0 1,1 0,-3A3,3 0 0,1 3,0Z\" style=\"opacity: 1; stroke-width: 0px; fill: rgb(43, 45, 66); fill-opacity: 1;\"/><path class=\"point\" transform=\"translate(447.46,109.08)\" d=\"M3,0A3,3 0 1,1 0,-3A3,3 0 0,1 3,0Z\" style=\"opacity: 1; stroke-width: 0px; fill: rgb(43, 45, 66); fill-opacity: 1;\"/><path class=\"point\" transform=\"translate(466.5,162.88)\" d=\"M3,0A3,3 0 1,1 0,-3A3,3 0 0,1 3,0Z\" style=\"opacity: 1; stroke-width: 0px; fill: rgb(43, 45, 66); fill-opacity: 1;\"/></g><g class=\"text\"/></g><g class=\"trace scatter trace7d3208\" style=\"stroke-miterlimit: 2; opacity: 1;\"><g class=\"fills\"/><g class=\"errorbars\"/><g class=\"lines\"><path class=\"js-line\" d=\"M28.5,300.25L314.15,300.25L333.2,294.74L352.24,284.41L371.28,284.41L390.33,284.41L409.37,294.74L428.41,300.25L447.46,300.25L466.5,300.25\" style=\"vector-effect: none; fill: none; stroke: rgb(141, 153, 174); stroke-opacity: 1; stroke-width: 2px; opacity: 1;\"/></g><g class=\"points\"><path class=\"point\" transform=\"translate(28.5,300.25)\" d=\"M3,0A3,3 0 1,1 0,-3A3,3 0 0,1 3,0Z\" style=\"opacity: 1; stroke-width: 0px; fill: rgb(141, 153, 174); fill-opacity: 1;\"/><path class=\"point\" transform=\"translate(47.54,300.25)\" d=\"M3,0A3,3 0 1,1 0,-3A3,3 0 0,1 3,0Z\" style=\"opacity: 1; stroke-width: 0px; fill: rgb(141, 153, 174); fill-opacity: 1;\"/><path class=\"point\" transform=\"translate(66.59,300.25)\" d=\"M3,0A3,3 0 1,1 0,-3A3,3 0 0,1 3,0Z\" style=\"opacity: 1; stroke-width: 0px; fill: rgb(141, 153, 174); fill-opacity: 1;\"/><path class=\"point\" transform=\"translate(85.63,300.25)\" d=\"M3,0A3,3 0 1,1 0,-3A3,3 0 0,1 3,0Z\" style=\"opacity: 1; stroke-width: 0px; fill: rgb(141, 153, 174); fill-opacity: 1;\"/><path class=\"point\" transform=\"translate(104.67,300.25)\" d=\"M3,0A3,3 0 1,1 0,-3A3,3 0 0,1 3,0Z\" style=\"opacity: 1; stroke-width: 0px; fill: rgb(141, 153, 174); fill-opacity: 1;\"/><path class=\"point\" transform=\"translate(123.72,300.25)\" d=\"M3,0A3,3 0 1,1 0,-3A3,3 0 0,1 3,0Z\" style=\"opacity: 1; stroke-width: 0px; fill: rgb(141, 153, 174); fill-opacity: 1;\"/><path class=\"point\" transform=\"translate(142.76,300.25)\" d=\"M3,0A3,3 0 1,1 0,-3A3,3 0 0,1 3,0Z\" style=\"opacity: 1; stroke-width: 0px; fill: rgb(141, 153, 174); fill-opacity: 1;\"/><path class=\"point\" transform=\"translate(161.8,300.25)\" d=\"M3,0A3,3 0 1,1 0,-3A3,3 0 0,1 3,0Z\" style=\"opacity: 1; stroke-width: 0px; fill: rgb(141, 153, 174); fill-opacity: 1;\"/><path class=\"point\" transform=\"translate(180.85,300.25)\" d=\"M3,0A3,3 0 1,1 0,-3A3,3 0 0,1 3,0Z\" style=\"opacity: 1; stroke-width: 0px; fill: rgb(141, 153, 174); fill-opacity: 1;\"/><path class=\"point\" transform=\"translate(199.89,300.25)\" d=\"M3,0A3,3 0 1,1 0,-3A3,3 0 0,1 3,0Z\" style=\"opacity: 1; stroke-width: 0px; fill: rgb(141, 153, 174); fill-opacity: 1;\"/><path class=\"point\" transform=\"translate(218.93,300.25)\" d=\"M3,0A3,3 0 1,1 0,-3A3,3 0 0,1 3,0Z\" style=\"opacity: 1; stroke-width: 0px; fill: rgb(141, 153, 174); fill-opacity: 1;\"/><path class=\"point\" transform=\"translate(237.98,300.25)\" d=\"M3,0A3,3 0 1,1 0,-3A3,3 0 0,1 3,0Z\" style=\"opacity: 1; stroke-width: 0px; fill: rgb(141, 153, 174); fill-opacity: 1;\"/><path class=\"point\" transform=\"translate(257.02,300.25)\" d=\"M3,0A3,3 0 1,1 0,-3A3,3 0 0,1 3,0Z\" style=\"opacity: 1; stroke-width: 0px; fill: rgb(141, 153, 174); fill-opacity: 1;\"/><path class=\"point\" transform=\"translate(276.07,300.25)\" d=\"M3,0A3,3 0 1,1 0,-3A3,3 0 0,1 3,0Z\" style=\"opacity: 1; stroke-width: 0px; fill: rgb(141, 153, 174); fill-opacity: 1;\"/><path class=\"point\" transform=\"translate(295.11,300.25)\" d=\"M3,0A3,3 0 1,1 0,-3A3,3 0 0,1 3,0Z\" style=\"opacity: 1; stroke-width: 0px; fill: rgb(141, 153, 174); fill-opacity: 1;\"/><path class=\"point\" transform=\"translate(314.15,300.25)\" d=\"M3,0A3,3 0 1,1 0,-3A3,3 0 0,1 3,0Z\" style=\"opacity: 1; stroke-width: 0px; fill: rgb(141, 153, 174); fill-opacity: 1;\"/><path class=\"point\" transform=\"translate(333.2,294.74)\" d=\"M3,0A3,3 0 1,1 0,-3A3,3 0 0,1 3,0Z\" style=\"opacity: 1; stroke-width: 0px; fill: rgb(141, 153, 174); fill-opacity: 1;\"/><path class=\"point\" transform=\"translate(352.24,284.41)\" d=\"M3,0A3,3 0 1,1 0,-3A3,3 0 0,1 3,0Z\" style=\"opacity: 1; stroke-width: 0px; fill: rgb(141, 153, 174); fill-opacity: 1;\"/><path class=\"point\" transform=\"translate(371.28,284.41)\" d=\"M3,0A3,3 0 1,1 0,-3A3,3 0 0,1 3,0Z\" style=\"opacity: 1; stroke-width: 0px; fill: rgb(141, 153, 174); fill-opacity: 1;\"/><path class=\"point\" transform=\"translate(390.33,284.41)\" d=\"M3,0A3,3 0 1,1 0,-3A3,3 0 0,1 3,0Z\" style=\"opacity: 1; stroke-width: 0px; fill: rgb(141, 153, 174); fill-opacity: 1;\"/><path class=\"point\" transform=\"translate(409.37,294.74)\" d=\"M3,0A3,3 0 1,1 0,-3A3,3 0 0,1 3,0Z\" style=\"opacity: 1; stroke-width: 0px; fill: rgb(141, 153, 174); fill-opacity: 1;\"/><path class=\"point\" transform=\"translate(428.41,300.25)\" d=\"M3,0A3,3 0 1,1 0,-3A3,3 0 0,1 3,0Z\" style=\"opacity: 1; stroke-width: 0px; fill: rgb(141, 153, 174); fill-opacity: 1;\"/><path class=\"point\" transform=\"translate(447.46,300.25)\" d=\"M3,0A3,3 0 1,1 0,-3A3,3 0 0,1 3,0Z\" style=\"opacity: 1; stroke-width: 0px; fill: rgb(141, 153, 174); fill-opacity: 1;\"/><path class=\"point\" transform=\"translate(466.5,300.25)\" d=\"M3,0A3,3 0 1,1 0,-3A3,3 0 0,1 3,0Z\" style=\"opacity: 1; stroke-width: 0px; fill: rgb(141, 153, 174); fill-opacity: 1;\"/></g><g class=\"text\"/></g></g></g><g class=\"overplot\"/><path class=\"xlines-above crisp\" d=\"M0,0\" style=\"fill: none;\"/><path class=\"ylines-above crisp\" d=\"M0,0\" style=\"fill: none;\"/><g class=\"overlines-above\"/><g class=\"xaxislayer-above\"><g class=\"xtick\"><text text-anchor=\"middle\" x=\"0\" y=\"433\" transform=\"translate(89.46000000000001,0)\" style=\"font-family: 'Open Sans', verdana, arial, sans-serif; font-size: 12px; fill: rgb(42, 63, 95); fill-opacity: 1; white-space: pre; opacity: 1;\">0</text></g><g class=\"xtick\"><text text-anchor=\"middle\" x=\"0\" y=\"433\" style=\"font-family: 'Open Sans', verdana, arial, sans-serif; font-size: 12px; fill: rgb(42, 63, 95); fill-opacity: 1; white-space: pre; opacity: 1;\" transform=\"translate(184.67000000000002,0)\">5</text></g><g class=\"xtick\"><text text-anchor=\"middle\" x=\"0\" y=\"433\" style=\"font-family: 'Open Sans', verdana, arial, sans-serif; font-size: 12px; fill: rgb(42, 63, 95); fill-opacity: 1; white-space: pre; opacity: 1;\" transform=\"translate(279.89,0)\">10</text></g><g class=\"xtick\"><text text-anchor=\"middle\" x=\"0\" y=\"433\" style=\"font-family: 'Open Sans', verdana, arial, sans-serif; font-size: 12px; fill: rgb(42, 63, 95); fill-opacity: 1; white-space: pre; opacity: 1;\" transform=\"translate(375.11,0)\">15</text></g><g class=\"xtick\"><text text-anchor=\"middle\" x=\"0\" y=\"433\" style=\"font-family: 'Open Sans', verdana, arial, sans-serif; font-size: 12px; fill: rgb(42, 63, 95); fill-opacity: 1; white-space: pre; opacity: 1;\" transform=\"translate(470.33,0)\">20</text></g><g class=\"xtick\"><text text-anchor=\"middle\" x=\"0\" y=\"433\" style=\"font-family: 'Open Sans', verdana, arial, sans-serif; font-size: 12px; fill: rgb(42, 63, 95); fill-opacity: 1; white-space: pre; opacity: 1;\" transform=\"translate(565.54,0)\">25</text></g></g><g class=\"yaxislayer-above\"><g class=\"ytick\"><text text-anchor=\"end\" x=\"79\" y=\"4.199999999999999\" transform=\"translate(0,412.34)\" style=\"font-family: 'Open Sans', verdana, arial, sans-serif; font-size: 12px; fill: rgb(42, 63, 95); fill-opacity: 1; white-space: pre; opacity: 1;\">0</text></g><g class=\"ytick\"><text text-anchor=\"end\" x=\"79\" y=\"4.199999999999999\" style=\"font-family: 'Open Sans', verdana, arial, sans-serif; font-size: 12px; fill: rgb(42, 63, 95); fill-opacity: 1; white-space: pre; opacity: 1;\" transform=\"translate(0,358.41)\">1</text></g><g class=\"ytick\"><text text-anchor=\"end\" x=\"79\" y=\"4.199999999999999\" style=\"font-family: 'Open Sans', verdana, arial, sans-serif; font-size: 12px; fill: rgb(42, 63, 95); fill-opacity: 1; white-space: pre; opacity: 1;\" transform=\"translate(0,304.49)\">2</text></g><g class=\"ytick\"><text text-anchor=\"end\" x=\"79\" y=\"4.199999999999999\" style=\"font-family: 'Open Sans', verdana, arial, sans-serif; font-size: 12px; fill: rgb(42, 63, 95); fill-opacity: 1; white-space: pre; opacity: 1;\" transform=\"translate(0,250.56)\">3</text></g><g class=\"ytick\"><text text-anchor=\"end\" x=\"79\" y=\"4.199999999999999\" style=\"font-family: 'Open Sans', verdana, arial, sans-serif; font-size: 12px; fill: rgb(42, 63, 95); fill-opacity: 1; white-space: pre; opacity: 1;\" transform=\"translate(0,196.63)\">4</text></g><g class=\"ytick\"><text text-anchor=\"end\" x=\"79\" y=\"4.199999999999999\" style=\"font-family: 'Open Sans', verdana, arial, sans-serif; font-size: 12px; fill: rgb(42, 63, 95); fill-opacity: 1; white-space: pre; opacity: 1;\" transform=\"translate(0,142.71)\">5</text></g></g><g class=\"overaxes-above\"/></g></g><g class=\"polarlayer\"/><g class=\"smithlayer\"/><g class=\"ternarylayer\"/><g class=\"geolayer\"/><g class=\"funnelarealayer\"/><g class=\"pielayer\"/><g class=\"iciclelayer\"/><g class=\"treemaplayer\"/><g class=\"sunburstlayer\"/><g class=\"glimages\"/><defs id=\"topdefs-9859fd\"><g class=\"clips\"/><clipPath id=\"legend9859fd\"><rect width=\"103\" height=\"67\" x=\"0\" y=\"0\"/></clipPath></defs><g class=\"layer-above\"><g class=\"imagelayer\"/><g class=\"shapelayer\"/></g><g class=\"infolayer\"><g class=\"legend\" pointer-events=\"all\" transform=\"translate(584.9000000000001,100)\"><rect class=\"bg\" shape-rendering=\"crispEdges\" style=\"stroke: rgb(68, 68, 68); stroke-opacity: 1; fill: rgb(255, 255, 255); fill-opacity: 1; stroke-width: 0px;\" width=\"103\" height=\"67\" x=\"0\" y=\"0\"/><g class=\"scrollbox\" transform=\"\" clip-path=\"url(#legend9859fd)\"><g class=\"groups\"><g class=\"traces\" transform=\"translate(0,14.5)\" style=\"opacity: 1;\"><text class=\"legendtext\" text-anchor=\"start\" x=\"40\" y=\"4.680000000000001\" style=\"font-family: 'Open Sans', verdana, arial, sans-serif; font-size: 12px; fill: rgb(42, 63, 95); fill-opacity: 1; white-space: pre;\">Demanda</text><g class=\"layers\" style=\"opacity: 1;\"><g class=\"legendfill\"/><g class=\"legendlines\"><path class=\"js-line\" d=\"M5,0h30\" style=\"fill: none; stroke: rgb(43, 45, 66); stroke-opacity: 1; stroke-width: 2px;\"/></g><g class=\"legendsymbols\"><g class=\"legendpoints\"><path class=\"scatterpts\" transform=\"translate(20,0)\" d=\"M3,0A3,3 0 1,1 0,-3A3,3 0 0,1 3,0Z\" style=\"opacity: 1; stroke-width: 0px; fill: rgb(43, 45, 66); fill-opacity: 1;\"/></g></g></g><rect class=\"legendtoggle\" x=\"0\" y=\"-9.5\" width=\"97.5625\" height=\"19\" style=\"fill: rgb(0, 0, 0); fill-opacity: 0;\"/></g><g class=\"traces\" transform=\"translate(0,33.5)\" style=\"opacity: 1;\"><text class=\"legendtext\" text-anchor=\"start\" x=\"40\" y=\"4.680000000000001\" style=\"font-family: 'Open Sans', verdana, arial, sans-serif; font-size: 12px; fill: rgb(42, 63, 95); fill-opacity: 1; white-space: pre;\">Costs</text><g class=\"layers\" style=\"opacity: 1;\"><g class=\"legendfill\"/><g class=\"legendlines\"><path class=\"js-line\" d=\"M5,0h30\" style=\"fill: none; stroke: rgb(141, 153, 174); stroke-opacity: 1; stroke-width: 2px;\"/></g><g class=\"legendsymbols\"><g class=\"legendpoints\"><path class=\"scatterpts\" transform=\"translate(20,0)\" d=\"M3,0A3,3 0 1,1 0,-3A3,3 0 0,1 3,0Z\" style=\"opacity: 1; stroke-width: 0px; fill: rgb(141, 153, 174); fill-opacity: 1;\"/></g></g></g><rect class=\"legendtoggle\" x=\"0\" y=\"-9.5\" width=\"97.5625\" height=\"19\" style=\"fill: rgb(0, 0, 0); fill-opacity: 0;\"/></g><g class=\"traces\" transform=\"translate(0,52.5)\" style=\"opacity: 1;\"><text class=\"legendtext\" text-anchor=\"start\" x=\"40\" y=\"4.680000000000001\" style=\"font-family: 'Open Sans', verdana, arial, sans-serif; font-size: 12px; fill: rgb(42, 63, 95); fill-opacity: 1; white-space: pre;\">GD</text><g class=\"layers\" style=\"opacity: 1;\"><g class=\"legendfill\"/><g class=\"legendlines\"/><g class=\"legendsymbols\"><g class=\"legendpoints\"><path class=\"legendundefined\" d=\"M6,6H-6V-6H6Z\" transform=\"translate(20,0)\" style=\"stroke-width: 0.5px; fill: rgb(239, 35, 60); fill-opacity: 1; stroke: rgb(229, 236, 246); stroke-opacity: 1;\"/></g></g></g><rect class=\"legendtoggle\" x=\"0\" y=\"-9.5\" width=\"97.5625\" height=\"19\" style=\"fill: rgb(0, 0, 0); fill-opacity: 0;\"/></g></g></g><rect class=\"scrollbar\" rx=\"20\" ry=\"3\" width=\"0\" height=\"0\" style=\"fill: rgb(128, 139, 164); fill-opacity: 1;\" x=\"0\" y=\"0\"/></g><g class=\"g-gtitle\"/><g class=\"g-xtitle\"/><g class=\"g-ytitle\"/></g></svg>"
      ]
     },
     "metadata": {},
     "output_type": "display_data"
    }
   ],
   "source": [
    "import plotly.graph_objects as go\n",
    "\n",
    "fig = go.Figure()\n",
    "fig.add_trace(go.Scatter(name='Demanda', x = tempo, y=list(dem.values()), mode=\"markers+lines\", marker=dict(color='#2B2D42')))\n",
    "fig.add_trace(go.Scatter(name='Costs', x = tempo, y=list(costs.values()), mode=\"markers+lines\", marker=dict(color='#8d99ae')))\n",
    "fig.add_trace(go.Bar(name='GD', x = tempo, y=list(GD.values()), marker=dict(color='#EF233C')))\n",
    "fig.update_layout(hovermode=\"x unified\")\n",
    "fig.show('svg')"
   ]
  },
  {
   "cell_type": "markdown",
   "metadata": {},
   "source": [
    "## Modelo computacional PYOMO"
   ]
  },
  {
   "cell_type": "code",
   "execution_count": 4,
   "metadata": {},
   "outputs": [],
   "source": [
    "from pyomo.environ import *\n",
    "model = ConcreteModel(\"Residencia 04\")"
   ]
  },
  {
   "cell_type": "markdown",
   "metadata": {},
   "source": [
    "### Variáveis de decisão\n",
    "\n",
    "- $P_{t}^{S} : \\text{Potencia ativa fornecida pela rede de distribuição no intervalo t.}$ \n",
    "- $P_{t}^{V} : \\text{Potencia ativa fornecida pela rede de distribuição no intervalo t.}$ \n",
    "- $P_{t}^{AEi} : \\text{Potencia ativa de injeção do armazenador no intervalo t.}$\n",
    "- $P_{t}^{AEe} : \\text{Potencia ativa de extração do armazenador no intervalo t.}$\n",
    "- $E_{t}^{AE} : \\text{Energia armazenada no intervalo t}$\n",
    "- $e_{t}^{AE} : \\text{Estado de operação do armazenador no intervalo t.}$"
   ]
  },
  {
   "cell_type": "code",
   "execution_count": 5,
   "metadata": {},
   "outputs": [],
   "source": [
    "model.Ps = Var(tempo, within = PositiveReals)\n",
    "model.Pv = Var(tempo, within = PositiveReals)\n",
    "model.PAEi = Var(tempo, within = PositiveReals)\n",
    "model.PAEe = Var(tempo, within = PositiveReals)\n",
    "model.EAE = Var(tempo, within = PositiveReals)\n",
    "model.eAE = Var(tempo, domain = Binary)"
   ]
  },
  {
   "cell_type": "code",
   "execution_count": 6,
   "metadata": {},
   "outputs": [
    {
     "name": "stdout",
     "output_type": "stream",
     "text": [
      "6 Set Declarations\n",
      "    EAE_index : Size=1, Index=None, Ordered=Insertion\n",
      "        Key  : Dimen : Domain : Size : Members\n",
      "        None :     1 :    Any :   24 : {1, 2, 3, 4, 5, 6, 7, 8, 9, 10, 11, 12, 13, 14, 15, 16, 17, 18, 19, 20, 21, 22, 23, 24}\n",
      "    PAEe_index : Size=1, Index=None, Ordered=Insertion\n",
      "        Key  : Dimen : Domain : Size : Members\n",
      "        None :     1 :    Any :   24 : {1, 2, 3, 4, 5, 6, 7, 8, 9, 10, 11, 12, 13, 14, 15, 16, 17, 18, 19, 20, 21, 22, 23, 24}\n",
      "    PAEi_index : Size=1, Index=None, Ordered=Insertion\n",
      "        Key  : Dimen : Domain : Size : Members\n",
      "        None :     1 :    Any :   24 : {1, 2, 3, 4, 5, 6, 7, 8, 9, 10, 11, 12, 13, 14, 15, 16, 17, 18, 19, 20, 21, 22, 23, 24}\n",
      "    Ps_index : Size=1, Index=None, Ordered=Insertion\n",
      "        Key  : Dimen : Domain : Size : Members\n",
      "        None :     1 :    Any :   24 : {1, 2, 3, 4, 5, 6, 7, 8, 9, 10, 11, 12, 13, 14, 15, 16, 17, 18, 19, 20, 21, 22, 23, 24}\n",
      "    Pv_index : Size=1, Index=None, Ordered=Insertion\n",
      "        Key  : Dimen : Domain : Size : Members\n",
      "        None :     1 :    Any :   24 : {1, 2, 3, 4, 5, 6, 7, 8, 9, 10, 11, 12, 13, 14, 15, 16, 17, 18, 19, 20, 21, 22, 23, 24}\n",
      "    eAE_index : Size=1, Index=None, Ordered=Insertion\n",
      "        Key  : Dimen : Domain : Size : Members\n",
      "        None :     1 :    Any :   24 : {1, 2, 3, 4, 5, 6, 7, 8, 9, 10, 11, 12, 13, 14, 15, 16, 17, 18, 19, 20, 21, 22, 23, 24}\n",
      "\n",
      "6 Var Declarations\n",
      "    EAE : Size=24, Index=EAE_index\n",
      "        Key : Lower : Value : Upper : Fixed : Stale : Domain\n",
      "          1 :     0 :  None :  None : False :  True : PositiveReals\n",
      "          2 :     0 :  None :  None : False :  True : PositiveReals\n",
      "          3 :     0 :  None :  None : False :  True : PositiveReals\n",
      "          4 :     0 :  None :  None : False :  True : PositiveReals\n",
      "          5 :     0 :  None :  None : False :  True : PositiveReals\n",
      "          6 :     0 :  None :  None : False :  True : PositiveReals\n",
      "          7 :     0 :  None :  None : False :  True : PositiveReals\n",
      "          8 :     0 :  None :  None : False :  True : PositiveReals\n",
      "          9 :     0 :  None :  None : False :  True : PositiveReals\n",
      "         10 :     0 :  None :  None : False :  True : PositiveReals\n",
      "         11 :     0 :  None :  None : False :  True : PositiveReals\n",
      "         12 :     0 :  None :  None : False :  True : PositiveReals\n",
      "         13 :     0 :  None :  None : False :  True : PositiveReals\n",
      "         14 :     0 :  None :  None : False :  True : PositiveReals\n",
      "         15 :     0 :  None :  None : False :  True : PositiveReals\n",
      "         16 :     0 :  None :  None : False :  True : PositiveReals\n",
      "         17 :     0 :  None :  None : False :  True : PositiveReals\n",
      "         18 :     0 :  None :  None : False :  True : PositiveReals\n",
      "         19 :     0 :  None :  None : False :  True : PositiveReals\n",
      "         20 :     0 :  None :  None : False :  True : PositiveReals\n",
      "         21 :     0 :  None :  None : False :  True : PositiveReals\n",
      "         22 :     0 :  None :  None : False :  True : PositiveReals\n",
      "         23 :     0 :  None :  None : False :  True : PositiveReals\n",
      "         24 :     0 :  None :  None : False :  True : PositiveReals\n",
      "    PAEe : Size=24, Index=PAEe_index\n",
      "        Key : Lower : Value : Upper : Fixed : Stale : Domain\n",
      "          1 :     0 :  None :  None : False :  True : PositiveReals\n",
      "          2 :     0 :  None :  None : False :  True : PositiveReals\n",
      "          3 :     0 :  None :  None : False :  True : PositiveReals\n",
      "          4 :     0 :  None :  None : False :  True : PositiveReals\n",
      "          5 :     0 :  None :  None : False :  True : PositiveReals\n",
      "          6 :     0 :  None :  None : False :  True : PositiveReals\n",
      "          7 :     0 :  None :  None : False :  True : PositiveReals\n",
      "          8 :     0 :  None :  None : False :  True : PositiveReals\n",
      "          9 :     0 :  None :  None : False :  True : PositiveReals\n",
      "         10 :     0 :  None :  None : False :  True : PositiveReals\n",
      "         11 :     0 :  None :  None : False :  True : PositiveReals\n",
      "         12 :     0 :  None :  None : False :  True : PositiveReals\n",
      "         13 :     0 :  None :  None : False :  True : PositiveReals\n",
      "         14 :     0 :  None :  None : False :  True : PositiveReals\n",
      "         15 :     0 :  None :  None : False :  True : PositiveReals\n",
      "         16 :     0 :  None :  None : False :  True : PositiveReals\n",
      "         17 :     0 :  None :  None : False :  True : PositiveReals\n",
      "         18 :     0 :  None :  None : False :  True : PositiveReals\n",
      "         19 :     0 :  None :  None : False :  True : PositiveReals\n",
      "         20 :     0 :  None :  None : False :  True : PositiveReals\n",
      "         21 :     0 :  None :  None : False :  True : PositiveReals\n",
      "         22 :     0 :  None :  None : False :  True : PositiveReals\n",
      "         23 :     0 :  None :  None : False :  True : PositiveReals\n",
      "         24 :     0 :  None :  None : False :  True : PositiveReals\n",
      "    PAEi : Size=24, Index=PAEi_index\n",
      "        Key : Lower : Value : Upper : Fixed : Stale : Domain\n",
      "          1 :     0 :  None :  None : False :  True : PositiveReals\n",
      "          2 :     0 :  None :  None : False :  True : PositiveReals\n",
      "          3 :     0 :  None :  None : False :  True : PositiveReals\n",
      "          4 :     0 :  None :  None : False :  True : PositiveReals\n",
      "          5 :     0 :  None :  None : False :  True : PositiveReals\n",
      "          6 :     0 :  None :  None : False :  True : PositiveReals\n",
      "          7 :     0 :  None :  None : False :  True : PositiveReals\n",
      "          8 :     0 :  None :  None : False :  True : PositiveReals\n",
      "          9 :     0 :  None :  None : False :  True : PositiveReals\n",
      "         10 :     0 :  None :  None : False :  True : PositiveReals\n",
      "         11 :     0 :  None :  None : False :  True : PositiveReals\n",
      "         12 :     0 :  None :  None : False :  True : PositiveReals\n",
      "         13 :     0 :  None :  None : False :  True : PositiveReals\n",
      "         14 :     0 :  None :  None : False :  True : PositiveReals\n",
      "         15 :     0 :  None :  None : False :  True : PositiveReals\n",
      "         16 :     0 :  None :  None : False :  True : PositiveReals\n",
      "         17 :     0 :  None :  None : False :  True : PositiveReals\n",
      "         18 :     0 :  None :  None : False :  True : PositiveReals\n",
      "         19 :     0 :  None :  None : False :  True : PositiveReals\n",
      "         20 :     0 :  None :  None : False :  True : PositiveReals\n",
      "         21 :     0 :  None :  None : False :  True : PositiveReals\n",
      "         22 :     0 :  None :  None : False :  True : PositiveReals\n",
      "         23 :     0 :  None :  None : False :  True : PositiveReals\n",
      "         24 :     0 :  None :  None : False :  True : PositiveReals\n",
      "    Ps : Size=24, Index=Ps_index\n",
      "        Key : Lower : Value : Upper : Fixed : Stale : Domain\n",
      "          1 :     0 :  None :  None : False :  True : PositiveReals\n",
      "          2 :     0 :  None :  None : False :  True : PositiveReals\n",
      "          3 :     0 :  None :  None : False :  True : PositiveReals\n",
      "          4 :     0 :  None :  None : False :  True : PositiveReals\n",
      "          5 :     0 :  None :  None : False :  True : PositiveReals\n",
      "          6 :     0 :  None :  None : False :  True : PositiveReals\n",
      "          7 :     0 :  None :  None : False :  True : PositiveReals\n",
      "          8 :     0 :  None :  None : False :  True : PositiveReals\n",
      "          9 :     0 :  None :  None : False :  True : PositiveReals\n",
      "         10 :     0 :  None :  None : False :  True : PositiveReals\n",
      "         11 :     0 :  None :  None : False :  True : PositiveReals\n",
      "         12 :     0 :  None :  None : False :  True : PositiveReals\n",
      "         13 :     0 :  None :  None : False :  True : PositiveReals\n",
      "         14 :     0 :  None :  None : False :  True : PositiveReals\n",
      "         15 :     0 :  None :  None : False :  True : PositiveReals\n",
      "         16 :     0 :  None :  None : False :  True : PositiveReals\n",
      "         17 :     0 :  None :  None : False :  True : PositiveReals\n",
      "         18 :     0 :  None :  None : False :  True : PositiveReals\n",
      "         19 :     0 :  None :  None : False :  True : PositiveReals\n",
      "         20 :     0 :  None :  None : False :  True : PositiveReals\n",
      "         21 :     0 :  None :  None : False :  True : PositiveReals\n",
      "         22 :     0 :  None :  None : False :  True : PositiveReals\n",
      "         23 :     0 :  None :  None : False :  True : PositiveReals\n",
      "         24 :     0 :  None :  None : False :  True : PositiveReals\n",
      "    Pv : Size=24, Index=Pv_index\n",
      "        Key : Lower : Value : Upper : Fixed : Stale : Domain\n",
      "          1 :     0 :  None :  None : False :  True : PositiveReals\n",
      "          2 :     0 :  None :  None : False :  True : PositiveReals\n",
      "          3 :     0 :  None :  None : False :  True : PositiveReals\n",
      "          4 :     0 :  None :  None : False :  True : PositiveReals\n",
      "          5 :     0 :  None :  None : False :  True : PositiveReals\n",
      "          6 :     0 :  None :  None : False :  True : PositiveReals\n",
      "          7 :     0 :  None :  None : False :  True : PositiveReals\n",
      "          8 :     0 :  None :  None : False :  True : PositiveReals\n",
      "          9 :     0 :  None :  None : False :  True : PositiveReals\n",
      "         10 :     0 :  None :  None : False :  True : PositiveReals\n",
      "         11 :     0 :  None :  None : False :  True : PositiveReals\n",
      "         12 :     0 :  None :  None : False :  True : PositiveReals\n",
      "         13 :     0 :  None :  None : False :  True : PositiveReals\n",
      "         14 :     0 :  None :  None : False :  True : PositiveReals\n",
      "         15 :     0 :  None :  None : False :  True : PositiveReals\n",
      "         16 :     0 :  None :  None : False :  True : PositiveReals\n",
      "         17 :     0 :  None :  None : False :  True : PositiveReals\n",
      "         18 :     0 :  None :  None : False :  True : PositiveReals\n",
      "         19 :     0 :  None :  None : False :  True : PositiveReals\n",
      "         20 :     0 :  None :  None : False :  True : PositiveReals\n",
      "         21 :     0 :  None :  None : False :  True : PositiveReals\n",
      "         22 :     0 :  None :  None : False :  True : PositiveReals\n",
      "         23 :     0 :  None :  None : False :  True : PositiveReals\n",
      "         24 :     0 :  None :  None : False :  True : PositiveReals\n",
      "    eAE : Size=24, Index=eAE_index\n",
      "        Key : Lower : Value : Upper : Fixed : Stale : Domain\n",
      "          1 :     0 :  None :     1 : False :  True : Binary\n",
      "          2 :     0 :  None :     1 : False :  True : Binary\n",
      "          3 :     0 :  None :     1 : False :  True : Binary\n",
      "          4 :     0 :  None :     1 : False :  True : Binary\n",
      "          5 :     0 :  None :     1 : False :  True : Binary\n",
      "          6 :     0 :  None :     1 : False :  True : Binary\n",
      "          7 :     0 :  None :     1 : False :  True : Binary\n",
      "          8 :     0 :  None :     1 : False :  True : Binary\n",
      "          9 :     0 :  None :     1 : False :  True : Binary\n",
      "         10 :     0 :  None :     1 : False :  True : Binary\n",
      "         11 :     0 :  None :     1 : False :  True : Binary\n",
      "         12 :     0 :  None :     1 : False :  True : Binary\n",
      "         13 :     0 :  None :     1 : False :  True : Binary\n",
      "         14 :     0 :  None :     1 : False :  True : Binary\n",
      "         15 :     0 :  None :     1 : False :  True : Binary\n",
      "         16 :     0 :  None :     1 : False :  True : Binary\n",
      "         17 :     0 :  None :     1 : False :  True : Binary\n",
      "         18 :     0 :  None :     1 : False :  True : Binary\n",
      "         19 :     0 :  None :     1 : False :  True : Binary\n",
      "         20 :     0 :  None :     1 : False :  True : Binary\n",
      "         21 :     0 :  None :     1 : False :  True : Binary\n",
      "         22 :     0 :  None :     1 : False :  True : Binary\n",
      "         23 :     0 :  None :     1 : False :  True : Binary\n",
      "         24 :     0 :  None :     1 : False :  True : Binary\n",
      "\n",
      "12 Declarations: Ps_index Ps Pv_index Pv PAEi_index PAEi PAEe_index PAEe EAE_index EAE eAE_index eAE\n"
     ]
    }
   ],
   "source": [
    "model.pprint()"
   ]
  },
  {
   "cell_type": "markdown",
   "metadata": {},
   "source": [
    "### Função objetivo \n",
    "\n",
    "- $ \\mathrm{Min} : \\text{Custo total} = \\delta \\sum\\limits_{t \\in T} c_{t}  P_{t}^{S}$"
   ]
  },
  {
   "cell_type": "code",
   "execution_count": 7,
   "metadata": {},
   "outputs": [],
   "source": [
    "model.custo_total = Objective(expr= sum(model.Ps[t] * costs[str(t)] for t in tempo), sense=minimize)"
   ]
  },
  {
   "cell_type": "markdown",
   "metadata": {},
   "source": [
    "### Restrições \n",
    "\n",
    "- $ P_{t}^{S} + P_{t}^{GD} - P_{t}^{V} = P_{t}^{D} + P_{t}^{AEe} - P_{t}^{AEi} \\;\\;\\;\\;\\;\\; \\forall t \\in T $\n",
    "- $E_{t}^{AE} =  E_{t-1}^{AE} + \\alpha\\delta P_{t}^{AEe} - \\delta P_{t}^{AEi}/\\alpha  \\;\\;\\;\\;\\;\\; \\forall t \\in T /t > 1 $\n",
    "- $E_{t}^{AE} =  E^{AE0} + \\alpha\\delta P_{t}^{AEe} - \\delta P_{t}^{AEi}/\\alpha  \\;\\;\\;\\;\\;\\; \\forall t \\in T /t = 1 $\n",
    "- $0 \\leq P_{t}^{AEi} \\leq \\overline{P}^{AE} e_{t}^{AE}\\;\\;\\;\\;\\;\\; ;\\forall t \\in T$\n",
    "- $0 \\leq P_{t}^{AEi} \\leq \\overline{P}^{AE} (1 - e_{t}^{AE}) \\;\\;\\;\\;\\;\\; ;\\forall t \\in T$\n",
    "- $0 \\leq E_{t}^{AEe} \\leq \\overline{E}^{AE}  \\;\\;\\;\\;\\;\\; ;\\forall t \\in T $\n",
    "\n",
    "- $ P_{t}^{S}, P_{t}^{V} \\geq 0 \\;\\;\\;\\;\\;\\; ;\\forall t \\in T $\n",
    "- $ e_{t}^{AE} \\in {0,1} \\;\\;\\;\\;\\;\\; ;\\forall t \\in T$"
   ]
  },
  {
   "cell_type": "code",
   "execution_count": 8,
   "metadata": {},
   "outputs": [],
   "source": [
    "model.constraint_balanco = Constraint(tempo, rule=lambda model, t: \n",
    "    model.Ps[t] + GD[str(t)] - model.Pv[t] == dem[str(t)] + model.PAEe[t] - model.PAEi[t])"
   ]
  },
  {
   "cell_type": "code",
   "execution_count": 9,
   "metadata": {},
   "outputs": [],
   "source": [
    "model.constraint_EA = Constraint(tempo[1:], rule=lambda model, t: \n",
    "    model.EAE[t] == model.EAE[t-1] + alpha[0] * delta[0] * model.PAEe[t] - delta[0] * model.PAEi[t] / alpha[0] - delta[0] * beta[0] * model.EAE[t] )"
   ]
  },
  {
   "cell_type": "code",
   "execution_count": 10,
   "metadata": {},
   "outputs": [],
   "source": [
    "\n",
    "model.constraint_EAini = Constraint([tempo[0]], rule=lambda model, t: \n",
    "    model.EAE[t] == E_ini_AE[0] + alpha[0] * delta[0] * model.PAEe[t] - delta[0] * model.PAEi[t] / alpha[0] - delta[0] * beta[0] * model.EAE[t])\n"
   ]
  },
  {
   "cell_type": "code",
   "execution_count": 11,
   "metadata": {},
   "outputs": [],
   "source": [
    "model.constraint_pmaxi = Constraint(tempo, rule=lambda model, t: \n",
    "    model.PAEi[t] <= P_max_AE[0] * model.eAE[t])\n"
   ]
  },
  {
   "cell_type": "code",
   "execution_count": 12,
   "metadata": {},
   "outputs": [],
   "source": [
    "model.constraint_pmaxe = Constraint(tempo, rule=lambda model, t: \n",
    "    model.PAEe[t] <= P_max_AE[0] * (1 - model.eAE[t]))"
   ]
  },
  {
   "cell_type": "code",
   "execution_count": 13,
   "metadata": {},
   "outputs": [],
   "source": [
    "model.constraint_cmaxEA= Constraint(tempo, rule=lambda model, t: \n",
    "    model.EAE[t] <= E_max_AE[0])"
   ]
  },
  {
   "cell_type": "markdown",
   "metadata": {},
   "source": [
    "### Solução"
   ]
  },
  {
   "cell_type": "code",
   "execution_count": 14,
   "metadata": {},
   "outputs": [],
   "source": [
    "Resultado = SolverFactory('knitroampl', executable='C:/Solvers/knitroampl.exe').solve(model)"
   ]
  },
  {
   "cell_type": "code",
   "execution_count": 15,
   "metadata": {},
   "outputs": [
    {
     "name": "stdout",
     "output_type": "stream",
     "text": [
      "# ==========================================================\n",
      "# = Solver Results                                         =\n",
      "# ==========================================================\n",
      "# ----------------------------------------------------------\n",
      "#   Problem Information\n",
      "# ----------------------------------------------------------\n",
      "Problem: \n",
      "- Lower bound: -inf\n",
      "  Upper bound: inf\n",
      "  Number of objectives: 1\n",
      "  Number of constraints: 120\n",
      "  Number of variables: 144\n",
      "  Sense: unknown\n",
      "# ----------------------------------------------------------\n",
      "#   Solver Information\n",
      "# ----------------------------------------------------------\n",
      "Solver: \n",
      "- Status: ok\n",
      "  Message: Knitro 13.2.0\\x3a Locally optimal or satisfactory solution.; objective 8.222603300170523; optimality gap 0; 1 nodes; 0 subproblem solves\n",
      "  Termination condition: optimal\n",
      "  Id: 0\n",
      "  Error rc: 0\n",
      "  Time: 0.3446385860443115\n",
      "# ----------------------------------------------------------\n",
      "#   Solution Information\n",
      "# ----------------------------------------------------------\n",
      "Solution: \n",
      "- number of solutions: 0\n",
      "  number of solutions displayed: 0\n"
     ]
    }
   ],
   "source": [
    "Resultado.write()"
   ]
  },
  {
   "cell_type": "code",
   "execution_count": 16,
   "metadata": {},
   "outputs": [
    {
     "data": {
      "application/vnd.plotly.v1+json": {
       "config": {
        "plotlyServerURL": "https://plot.ly"
       },
       "data": [
        {
         "hovertemplate": "variable=Demanda<br>Tempo=%{x}<br>value=%{y}<extra></extra>",
         "legendgroup": "Demanda",
         "line": {
          "color": "#636efa",
          "dash": "solid"
         },
         "marker": {
          "symbol": "circle"
         },
         "mode": "lines+markers",
         "name": "Demanda",
         "orientation": "v",
         "showlegend": true,
         "type": "scatter",
         "x": [
          1,
          2,
          3,
          4,
          5,
          6,
          7,
          8,
          9,
          10,
          11,
          12,
          13,
          14,
          15,
          16,
          17,
          18,
          19,
          20,
          21,
          22,
          23,
          24
         ],
         "xaxis": "x",
         "y": [
          1.9317,
          1.609,
          1.4079,
          1.3281,
          1.3834,
          1.6413,
          1.9395,
          1.7383,
          1.8341,
          1.8354,
          1.9312,
          2.3645,
          2.2038,
          2.2997,
          2.1659,
          2.5046,
          2.749,
          4.0597,
          4.9924,
          5.4257,
          5.0491,
          4.4294,
          3.7692,
          2.7716
         ],
         "yaxis": "y"
        },
        {
         "hovertemplate": "variable=GD<br>Tempo=%{x}<br>value=%{y}<extra></extra>",
         "legendgroup": "GD",
         "line": {
          "color": "#EF553B",
          "dash": "solid"
         },
         "marker": {
          "symbol": "diamond"
         },
         "mode": "lines+markers",
         "name": "GD",
         "orientation": "v",
         "showlegend": true,
         "type": "scatter",
         "x": [
          1,
          2,
          3,
          4,
          5,
          6,
          7,
          8,
          9,
          10,
          11,
          12,
          13,
          14,
          15,
          16,
          17,
          18,
          19,
          20,
          21,
          22,
          23,
          24
         ],
         "xaxis": "x",
         "y": [
          0,
          0,
          0,
          0,
          0.0796,
          0.4565,
          1.0742,
          1.579,
          2.4343,
          2.7488,
          3.5092,
          3.8988,
          3.9734,
          3.7105,
          3.1671,
          2.7282,
          2.3926,
          2.1764,
          1.9083,
          1.4257,
          0.0034,
          0,
          0,
          0
         ],
         "yaxis": "y"
        },
        {
         "hovertemplate": "variable=Ps<br>Tempo=%{x}<br>value=%{y}<extra></extra>",
         "legendgroup": "Ps",
         "line": {
          "color": "#00cc96",
          "dash": "solid"
         },
         "marker": {
          "symbol": "square"
         },
         "mode": "lines+markers",
         "name": "Ps",
         "orientation": "v",
         "showlegend": true,
         "type": "scatter",
         "x": [
          1,
          2,
          3,
          4,
          5,
          6,
          7,
          8,
          9,
          10,
          11,
          12,
          13,
          14,
          15,
          16,
          17,
          18,
          19,
          20,
          21,
          22,
          23,
          24
         ],
         "xaxis": "x",
         "y": [
          1.9317,
          1.609,
          1.4079,
          1.3281,
          1.3037999999999998,
          1.1848,
          0.8653,
          0.1593,
          0,
          0,
          0,
          0,
          0,
          0,
          0,
          0.574437879180538,
          0.6004925925925979,
          0,
          1.0840999999999998,
          2,
          5.0457,
          4.4294,
          3.7692,
          2.7716
         ],
         "yaxis": "y"
        },
        {
         "hovertemplate": "variable=Pv<br>Tempo=%{x}<br>value=%{y}<extra></extra>",
         "legendgroup": "Pv",
         "line": {
          "color": "#ab63fa",
          "dash": "solid"
         },
         "marker": {
          "symbol": "x"
         },
         "mode": "lines+markers",
         "name": "Pv",
         "orientation": "v",
         "showlegend": true,
         "type": "scatter",
         "x": [
          1,
          2,
          3,
          4,
          5,
          6,
          7,
          8,
          9,
          10,
          11,
          12,
          13,
          14,
          15,
          16,
          17,
          18,
          19,
          20,
          21,
          22,
          23,
          24
         ],
         "xaxis": "x",
         "y": [
          0,
          0,
          0,
          0,
          0,
          0,
          0,
          0,
          0,
          0,
          0,
          0,
          0,
          0,
          0,
          0,
          0,
          0,
          0,
          0,
          0,
          0,
          0,
          0
         ],
         "yaxis": "y"
        },
        {
         "hovertemplate": "variable=PAEi<br>Tempo=%{x}<br>value=%{y}<extra></extra>",
         "legendgroup": "PAEi",
         "line": {
          "color": "#FFA15A",
          "dash": "solid"
         },
         "marker": {
          "symbol": "cross"
         },
         "mode": "lines+markers",
         "name": "PAEi",
         "orientation": "v",
         "showlegend": true,
         "type": "scatter",
         "x": [
          1,
          2,
          3,
          4,
          5,
          6,
          7,
          8,
          9,
          10,
          11,
          12,
          13,
          14,
          15,
          16,
          17,
          18,
          19,
          20,
          21,
          22,
          23,
          24
         ],
         "xaxis": "x",
         "y": [
          0,
          0,
          0,
          0,
          0,
          0,
          0,
          0,
          0,
          0,
          0,
          0,
          0,
          0,
          0,
          0,
          0,
          1.8833000000000002,
          2,
          2,
          0,
          0,
          0,
          0
         ],
         "yaxis": "y"
        },
        {
         "hovertemplate": "variable=PAEe<br>Tempo=%{x}<br>value=%{y}<extra></extra>",
         "legendgroup": "PAEe",
         "line": {
          "color": "#19d3f3",
          "dash": "solid"
         },
         "marker": {
          "symbol": "circle"
         },
         "mode": "lines+markers",
         "name": "PAEe",
         "orientation": "v",
         "showlegend": true,
         "type": "scatter",
         "x": [
          1,
          2,
          3,
          4,
          5,
          6,
          7,
          8,
          9,
          10,
          11,
          12,
          13,
          14,
          15,
          16,
          17,
          18,
          19,
          20,
          21,
          22,
          23,
          24
         ],
         "xaxis": "x",
         "y": [
          0,
          0,
          0,
          0,
          0,
          0,
          0,
          0,
          0.6001999999999998,
          0.9134000000000002,
          1.5779999999999998,
          1.5343,
          1.7695999999999996,
          1.4108,
          1.0011999999999999,
          0.7980378791805383,
          0.24409259259259766,
          0,
          0,
          0,
          0,
          0,
          0,
          0
         ],
         "yaxis": "y"
        }
       ],
       "layout": {
        "hovermode": "x unified",
        "legend": {
         "title": {
          "text": "variable"
         },
         "tracegroupgap": 0
        },
        "margin": {
         "t": 60
        },
        "template": {
         "data": {
          "bar": [
           {
            "error_x": {
             "color": "#2a3f5f"
            },
            "error_y": {
             "color": "#2a3f5f"
            },
            "marker": {
             "line": {
              "color": "#E5ECF6",
              "width": 0.5
             },
             "pattern": {
              "fillmode": "overlay",
              "size": 10,
              "solidity": 0.2
             }
            },
            "type": "bar"
           }
          ],
          "barpolar": [
           {
            "marker": {
             "line": {
              "color": "#E5ECF6",
              "width": 0.5
             },
             "pattern": {
              "fillmode": "overlay",
              "size": 10,
              "solidity": 0.2
             }
            },
            "type": "barpolar"
           }
          ],
          "carpet": [
           {
            "aaxis": {
             "endlinecolor": "#2a3f5f",
             "gridcolor": "white",
             "linecolor": "white",
             "minorgridcolor": "white",
             "startlinecolor": "#2a3f5f"
            },
            "baxis": {
             "endlinecolor": "#2a3f5f",
             "gridcolor": "white",
             "linecolor": "white",
             "minorgridcolor": "white",
             "startlinecolor": "#2a3f5f"
            },
            "type": "carpet"
           }
          ],
          "choropleth": [
           {
            "colorbar": {
             "outlinewidth": 0,
             "ticks": ""
            },
            "type": "choropleth"
           }
          ],
          "contour": [
           {
            "colorbar": {
             "outlinewidth": 0,
             "ticks": ""
            },
            "colorscale": [
             [
              0,
              "#0d0887"
             ],
             [
              0.1111111111111111,
              "#46039f"
             ],
             [
              0.2222222222222222,
              "#7201a8"
             ],
             [
              0.3333333333333333,
              "#9c179e"
             ],
             [
              0.4444444444444444,
              "#bd3786"
             ],
             [
              0.5555555555555556,
              "#d8576b"
             ],
             [
              0.6666666666666666,
              "#ed7953"
             ],
             [
              0.7777777777777778,
              "#fb9f3a"
             ],
             [
              0.8888888888888888,
              "#fdca26"
             ],
             [
              1,
              "#f0f921"
             ]
            ],
            "type": "contour"
           }
          ],
          "contourcarpet": [
           {
            "colorbar": {
             "outlinewidth": 0,
             "ticks": ""
            },
            "type": "contourcarpet"
           }
          ],
          "heatmap": [
           {
            "colorbar": {
             "outlinewidth": 0,
             "ticks": ""
            },
            "colorscale": [
             [
              0,
              "#0d0887"
             ],
             [
              0.1111111111111111,
              "#46039f"
             ],
             [
              0.2222222222222222,
              "#7201a8"
             ],
             [
              0.3333333333333333,
              "#9c179e"
             ],
             [
              0.4444444444444444,
              "#bd3786"
             ],
             [
              0.5555555555555556,
              "#d8576b"
             ],
             [
              0.6666666666666666,
              "#ed7953"
             ],
             [
              0.7777777777777778,
              "#fb9f3a"
             ],
             [
              0.8888888888888888,
              "#fdca26"
             ],
             [
              1,
              "#f0f921"
             ]
            ],
            "type": "heatmap"
           }
          ],
          "heatmapgl": [
           {
            "colorbar": {
             "outlinewidth": 0,
             "ticks": ""
            },
            "colorscale": [
             [
              0,
              "#0d0887"
             ],
             [
              0.1111111111111111,
              "#46039f"
             ],
             [
              0.2222222222222222,
              "#7201a8"
             ],
             [
              0.3333333333333333,
              "#9c179e"
             ],
             [
              0.4444444444444444,
              "#bd3786"
             ],
             [
              0.5555555555555556,
              "#d8576b"
             ],
             [
              0.6666666666666666,
              "#ed7953"
             ],
             [
              0.7777777777777778,
              "#fb9f3a"
             ],
             [
              0.8888888888888888,
              "#fdca26"
             ],
             [
              1,
              "#f0f921"
             ]
            ],
            "type": "heatmapgl"
           }
          ],
          "histogram": [
           {
            "marker": {
             "pattern": {
              "fillmode": "overlay",
              "size": 10,
              "solidity": 0.2
             }
            },
            "type": "histogram"
           }
          ],
          "histogram2d": [
           {
            "colorbar": {
             "outlinewidth": 0,
             "ticks": ""
            },
            "colorscale": [
             [
              0,
              "#0d0887"
             ],
             [
              0.1111111111111111,
              "#46039f"
             ],
             [
              0.2222222222222222,
              "#7201a8"
             ],
             [
              0.3333333333333333,
              "#9c179e"
             ],
             [
              0.4444444444444444,
              "#bd3786"
             ],
             [
              0.5555555555555556,
              "#d8576b"
             ],
             [
              0.6666666666666666,
              "#ed7953"
             ],
             [
              0.7777777777777778,
              "#fb9f3a"
             ],
             [
              0.8888888888888888,
              "#fdca26"
             ],
             [
              1,
              "#f0f921"
             ]
            ],
            "type": "histogram2d"
           }
          ],
          "histogram2dcontour": [
           {
            "colorbar": {
             "outlinewidth": 0,
             "ticks": ""
            },
            "colorscale": [
             [
              0,
              "#0d0887"
             ],
             [
              0.1111111111111111,
              "#46039f"
             ],
             [
              0.2222222222222222,
              "#7201a8"
             ],
             [
              0.3333333333333333,
              "#9c179e"
             ],
             [
              0.4444444444444444,
              "#bd3786"
             ],
             [
              0.5555555555555556,
              "#d8576b"
             ],
             [
              0.6666666666666666,
              "#ed7953"
             ],
             [
              0.7777777777777778,
              "#fb9f3a"
             ],
             [
              0.8888888888888888,
              "#fdca26"
             ],
             [
              1,
              "#f0f921"
             ]
            ],
            "type": "histogram2dcontour"
           }
          ],
          "mesh3d": [
           {
            "colorbar": {
             "outlinewidth": 0,
             "ticks": ""
            },
            "type": "mesh3d"
           }
          ],
          "parcoords": [
           {
            "line": {
             "colorbar": {
              "outlinewidth": 0,
              "ticks": ""
             }
            },
            "type": "parcoords"
           }
          ],
          "pie": [
           {
            "automargin": true,
            "type": "pie"
           }
          ],
          "scatter": [
           {
            "fillpattern": {
             "fillmode": "overlay",
             "size": 10,
             "solidity": 0.2
            },
            "type": "scatter"
           }
          ],
          "scatter3d": [
           {
            "line": {
             "colorbar": {
              "outlinewidth": 0,
              "ticks": ""
             }
            },
            "marker": {
             "colorbar": {
              "outlinewidth": 0,
              "ticks": ""
             }
            },
            "type": "scatter3d"
           }
          ],
          "scattercarpet": [
           {
            "marker": {
             "colorbar": {
              "outlinewidth": 0,
              "ticks": ""
             }
            },
            "type": "scattercarpet"
           }
          ],
          "scattergeo": [
           {
            "marker": {
             "colorbar": {
              "outlinewidth": 0,
              "ticks": ""
             }
            },
            "type": "scattergeo"
           }
          ],
          "scattergl": [
           {
            "marker": {
             "colorbar": {
              "outlinewidth": 0,
              "ticks": ""
             }
            },
            "type": "scattergl"
           }
          ],
          "scattermapbox": [
           {
            "marker": {
             "colorbar": {
              "outlinewidth": 0,
              "ticks": ""
             }
            },
            "type": "scattermapbox"
           }
          ],
          "scatterpolar": [
           {
            "marker": {
             "colorbar": {
              "outlinewidth": 0,
              "ticks": ""
             }
            },
            "type": "scatterpolar"
           }
          ],
          "scatterpolargl": [
           {
            "marker": {
             "colorbar": {
              "outlinewidth": 0,
              "ticks": ""
             }
            },
            "type": "scatterpolargl"
           }
          ],
          "scatterternary": [
           {
            "marker": {
             "colorbar": {
              "outlinewidth": 0,
              "ticks": ""
             }
            },
            "type": "scatterternary"
           }
          ],
          "surface": [
           {
            "colorbar": {
             "outlinewidth": 0,
             "ticks": ""
            },
            "colorscale": [
             [
              0,
              "#0d0887"
             ],
             [
              0.1111111111111111,
              "#46039f"
             ],
             [
              0.2222222222222222,
              "#7201a8"
             ],
             [
              0.3333333333333333,
              "#9c179e"
             ],
             [
              0.4444444444444444,
              "#bd3786"
             ],
             [
              0.5555555555555556,
              "#d8576b"
             ],
             [
              0.6666666666666666,
              "#ed7953"
             ],
             [
              0.7777777777777778,
              "#fb9f3a"
             ],
             [
              0.8888888888888888,
              "#fdca26"
             ],
             [
              1,
              "#f0f921"
             ]
            ],
            "type": "surface"
           }
          ],
          "table": [
           {
            "cells": {
             "fill": {
              "color": "#EBF0F8"
             },
             "line": {
              "color": "white"
             }
            },
            "header": {
             "fill": {
              "color": "#C8D4E3"
             },
             "line": {
              "color": "white"
             }
            },
            "type": "table"
           }
          ]
         },
         "layout": {
          "annotationdefaults": {
           "arrowcolor": "#2a3f5f",
           "arrowhead": 0,
           "arrowwidth": 1
          },
          "autotypenumbers": "strict",
          "coloraxis": {
           "colorbar": {
            "outlinewidth": 0,
            "ticks": ""
           }
          },
          "colorscale": {
           "diverging": [
            [
             0,
             "#8e0152"
            ],
            [
             0.1,
             "#c51b7d"
            ],
            [
             0.2,
             "#de77ae"
            ],
            [
             0.3,
             "#f1b6da"
            ],
            [
             0.4,
             "#fde0ef"
            ],
            [
             0.5,
             "#f7f7f7"
            ],
            [
             0.6,
             "#e6f5d0"
            ],
            [
             0.7,
             "#b8e186"
            ],
            [
             0.8,
             "#7fbc41"
            ],
            [
             0.9,
             "#4d9221"
            ],
            [
             1,
             "#276419"
            ]
           ],
           "sequential": [
            [
             0,
             "#0d0887"
            ],
            [
             0.1111111111111111,
             "#46039f"
            ],
            [
             0.2222222222222222,
             "#7201a8"
            ],
            [
             0.3333333333333333,
             "#9c179e"
            ],
            [
             0.4444444444444444,
             "#bd3786"
            ],
            [
             0.5555555555555556,
             "#d8576b"
            ],
            [
             0.6666666666666666,
             "#ed7953"
            ],
            [
             0.7777777777777778,
             "#fb9f3a"
            ],
            [
             0.8888888888888888,
             "#fdca26"
            ],
            [
             1,
             "#f0f921"
            ]
           ],
           "sequentialminus": [
            [
             0,
             "#0d0887"
            ],
            [
             0.1111111111111111,
             "#46039f"
            ],
            [
             0.2222222222222222,
             "#7201a8"
            ],
            [
             0.3333333333333333,
             "#9c179e"
            ],
            [
             0.4444444444444444,
             "#bd3786"
            ],
            [
             0.5555555555555556,
             "#d8576b"
            ],
            [
             0.6666666666666666,
             "#ed7953"
            ],
            [
             0.7777777777777778,
             "#fb9f3a"
            ],
            [
             0.8888888888888888,
             "#fdca26"
            ],
            [
             1,
             "#f0f921"
            ]
           ]
          },
          "colorway": [
           "#636efa",
           "#EF553B",
           "#00cc96",
           "#ab63fa",
           "#FFA15A",
           "#19d3f3",
           "#FF6692",
           "#B6E880",
           "#FF97FF",
           "#FECB52"
          ],
          "font": {
           "color": "#2a3f5f"
          },
          "geo": {
           "bgcolor": "white",
           "lakecolor": "white",
           "landcolor": "#E5ECF6",
           "showlakes": true,
           "showland": true,
           "subunitcolor": "white"
          },
          "hoverlabel": {
           "align": "left"
          },
          "hovermode": "closest",
          "mapbox": {
           "style": "light"
          },
          "paper_bgcolor": "white",
          "plot_bgcolor": "#E5ECF6",
          "polar": {
           "angularaxis": {
            "gridcolor": "white",
            "linecolor": "white",
            "ticks": ""
           },
           "bgcolor": "#E5ECF6",
           "radialaxis": {
            "gridcolor": "white",
            "linecolor": "white",
            "ticks": ""
           }
          },
          "scene": {
           "xaxis": {
            "backgroundcolor": "#E5ECF6",
            "gridcolor": "white",
            "gridwidth": 2,
            "linecolor": "white",
            "showbackground": true,
            "ticks": "",
            "zerolinecolor": "white"
           },
           "yaxis": {
            "backgroundcolor": "#E5ECF6",
            "gridcolor": "white",
            "gridwidth": 2,
            "linecolor": "white",
            "showbackground": true,
            "ticks": "",
            "zerolinecolor": "white"
           },
           "zaxis": {
            "backgroundcolor": "#E5ECF6",
            "gridcolor": "white",
            "gridwidth": 2,
            "linecolor": "white",
            "showbackground": true,
            "ticks": "",
            "zerolinecolor": "white"
           }
          },
          "shapedefaults": {
           "line": {
            "color": "#2a3f5f"
           }
          },
          "ternary": {
           "aaxis": {
            "gridcolor": "white",
            "linecolor": "white",
            "ticks": ""
           },
           "baxis": {
            "gridcolor": "white",
            "linecolor": "white",
            "ticks": ""
           },
           "bgcolor": "#E5ECF6",
           "caxis": {
            "gridcolor": "white",
            "linecolor": "white",
            "ticks": ""
           }
          },
          "title": {
           "x": 0.05
          },
          "xaxis": {
           "automargin": true,
           "gridcolor": "white",
           "linecolor": "white",
           "ticks": "",
           "title": {
            "standoff": 15
           },
           "zerolinecolor": "white",
           "zerolinewidth": 2
          },
          "yaxis": {
           "automargin": true,
           "gridcolor": "white",
           "linecolor": "white",
           "ticks": "",
           "title": {
            "standoff": 15
           },
           "zerolinecolor": "white",
           "zerolinewidth": 2
          }
         }
        },
        "xaxis": {
         "anchor": "y",
         "domain": [
          0,
          1
         ],
         "title": {
          "text": "Time [h]"
         }
        },
        "yaxis": {
         "anchor": "x",
         "domain": [
          0,
          1
         ],
         "title": {
          "text": "Power [kW]"
         }
        }
       }
      }
     },
     "metadata": {},
     "output_type": "display_data"
    }
   ],
   "source": [
    "import plotly.express as px\n",
    "import pandas as pd\n",
    "\n",
    "df = pd.DataFrame({'Tempo': tempo, 'Demanda': list(dem.values()), 'GD': list(GD.values()), 'Ps': [model.Ps[t]() for t in tempo], 'Pv': [model.Pv[t]() for t in tempo], 'PAEi': [model.PAEi[t]() for t in tempo], 'PAEe': [model.PAEe[t]() for t in tempo], 'EAE': [model.EAE[t]() for t in tempo], 'eAE': [model.eAE[t]() for t in tempo]})\n",
    "fig = px.line(df, x='Tempo', y=['Demanda', 'GD', 'Ps', 'Pv', 'PAEi', 'PAEe'] , symbol = 'variable')\n",
    "fig.update_layout(hovermode=\"x unified\", xaxis_title='Time [h]', yaxis_title='Power [kW]')\n",
    "fig.show()"
   ]
  },
  {
   "cell_type": "code",
   "execution_count": 19,
   "metadata": {},
   "outputs": [
    {
     "data": {
      "text/html": [
       "<div>\n",
       "<style scoped>\n",
       "    .dataframe tbody tr th:only-of-type {\n",
       "        vertical-align: middle;\n",
       "    }\n",
       "\n",
       "    .dataframe tbody tr th {\n",
       "        vertical-align: top;\n",
       "    }\n",
       "\n",
       "    .dataframe thead th {\n",
       "        text-align: right;\n",
       "    }\n",
       "</style>\n",
       "<table border=\"1\" class=\"dataframe\">\n",
       "  <thead>\n",
       "    <tr style=\"text-align: right;\">\n",
       "      <th></th>\n",
       "      <th>Tempo</th>\n",
       "      <th>Demanda</th>\n",
       "      <th>GD</th>\n",
       "      <th>Ps</th>\n",
       "      <th>Pv</th>\n",
       "      <th>PAEi</th>\n",
       "      <th>PAEe</th>\n",
       "      <th>EAE</th>\n",
       "      <th>eAE</th>\n",
       "    </tr>\n",
       "  </thead>\n",
       "  <tbody>\n",
       "    <tr>\n",
       "      <th>0</th>\n",
       "      <td>1</td>\n",
       "      <td>1.9317</td>\n",
       "      <td>0.0000</td>\n",
       "      <td>1.931700</td>\n",
       "      <td>0.0</td>\n",
       "      <td>0.0000</td>\n",
       "      <td>0.000000</td>\n",
       "      <td>0.000000</td>\n",
       "      <td>0.0</td>\n",
       "    </tr>\n",
       "    <tr>\n",
       "      <th>1</th>\n",
       "      <td>2</td>\n",
       "      <td>1.6090</td>\n",
       "      <td>0.0000</td>\n",
       "      <td>1.609000</td>\n",
       "      <td>0.0</td>\n",
       "      <td>0.0000</td>\n",
       "      <td>0.000000</td>\n",
       "      <td>0.000000</td>\n",
       "      <td>0.0</td>\n",
       "    </tr>\n",
       "    <tr>\n",
       "      <th>2</th>\n",
       "      <td>3</td>\n",
       "      <td>1.4079</td>\n",
       "      <td>0.0000</td>\n",
       "      <td>1.407900</td>\n",
       "      <td>0.0</td>\n",
       "      <td>0.0000</td>\n",
       "      <td>0.000000</td>\n",
       "      <td>0.000000</td>\n",
       "      <td>0.0</td>\n",
       "    </tr>\n",
       "    <tr>\n",
       "      <th>3</th>\n",
       "      <td>4</td>\n",
       "      <td>1.3281</td>\n",
       "      <td>0.0000</td>\n",
       "      <td>1.328100</td>\n",
       "      <td>0.0</td>\n",
       "      <td>0.0000</td>\n",
       "      <td>0.000000</td>\n",
       "      <td>0.000000</td>\n",
       "      <td>0.0</td>\n",
       "    </tr>\n",
       "    <tr>\n",
       "      <th>4</th>\n",
       "      <td>5</td>\n",
       "      <td>1.3834</td>\n",
       "      <td>0.0796</td>\n",
       "      <td>1.303800</td>\n",
       "      <td>0.0</td>\n",
       "      <td>0.0000</td>\n",
       "      <td>0.000000</td>\n",
       "      <td>0.000000</td>\n",
       "      <td>0.0</td>\n",
       "    </tr>\n",
       "    <tr>\n",
       "      <th>5</th>\n",
       "      <td>6</td>\n",
       "      <td>1.6413</td>\n",
       "      <td>0.4565</td>\n",
       "      <td>1.184800</td>\n",
       "      <td>0.0</td>\n",
       "      <td>0.0000</td>\n",
       "      <td>0.000000</td>\n",
       "      <td>0.000000</td>\n",
       "      <td>0.0</td>\n",
       "    </tr>\n",
       "    <tr>\n",
       "      <th>6</th>\n",
       "      <td>7</td>\n",
       "      <td>1.9395</td>\n",
       "      <td>1.0742</td>\n",
       "      <td>0.865300</td>\n",
       "      <td>0.0</td>\n",
       "      <td>0.0000</td>\n",
       "      <td>0.000000</td>\n",
       "      <td>0.000000</td>\n",
       "      <td>0.0</td>\n",
       "    </tr>\n",
       "    <tr>\n",
       "      <th>7</th>\n",
       "      <td>8</td>\n",
       "      <td>1.7383</td>\n",
       "      <td>1.5790</td>\n",
       "      <td>0.159300</td>\n",
       "      <td>0.0</td>\n",
       "      <td>0.0000</td>\n",
       "      <td>0.000000</td>\n",
       "      <td>0.000000</td>\n",
       "      <td>0.0</td>\n",
       "    </tr>\n",
       "    <tr>\n",
       "      <th>8</th>\n",
       "      <td>9</td>\n",
       "      <td>1.8341</td>\n",
       "      <td>2.4343</td>\n",
       "      <td>0.000000</td>\n",
       "      <td>0.0</td>\n",
       "      <td>0.0000</td>\n",
       "      <td>0.600200</td>\n",
       "      <td>0.514457</td>\n",
       "      <td>0.0</td>\n",
       "    </tr>\n",
       "    <tr>\n",
       "      <th>9</th>\n",
       "      <td>10</td>\n",
       "      <td>1.8354</td>\n",
       "      <td>2.7488</td>\n",
       "      <td>0.000000</td>\n",
       "      <td>0.0</td>\n",
       "      <td>0.0000</td>\n",
       "      <td>0.913400</td>\n",
       "      <td>1.272873</td>\n",
       "      <td>0.0</td>\n",
       "    </tr>\n",
       "    <tr>\n",
       "      <th>10</th>\n",
       "      <td>11</td>\n",
       "      <td>1.9312</td>\n",
       "      <td>3.5092</td>\n",
       "      <td>0.000000</td>\n",
       "      <td>0.0</td>\n",
       "      <td>0.0000</td>\n",
       "      <td>1.578000</td>\n",
       "      <td>2.564832</td>\n",
       "      <td>0.0</td>\n",
       "    </tr>\n",
       "    <tr>\n",
       "      <th>11</th>\n",
       "      <td>12</td>\n",
       "      <td>2.3645</td>\n",
       "      <td>3.8988</td>\n",
       "      <td>0.000000</td>\n",
       "      <td>0.0</td>\n",
       "      <td>0.0000</td>\n",
       "      <td>1.534300</td>\n",
       "      <td>3.757811</td>\n",
       "      <td>0.0</td>\n",
       "    </tr>\n",
       "    <tr>\n",
       "      <th>12</th>\n",
       "      <td>13</td>\n",
       "      <td>2.2038</td>\n",
       "      <td>3.9734</td>\n",
       "      <td>0.000000</td>\n",
       "      <td>0.0</td>\n",
       "      <td>0.0000</td>\n",
       "      <td>1.769600</td>\n",
       "      <td>5.095668</td>\n",
       "      <td>0.0</td>\n",
       "    </tr>\n",
       "    <tr>\n",
       "      <th>13</th>\n",
       "      <td>14</td>\n",
       "      <td>2.2997</td>\n",
       "      <td>3.7105</td>\n",
       "      <td>0.000000</td>\n",
       "      <td>0.0</td>\n",
       "      <td>0.0000</td>\n",
       "      <td>1.410800</td>\n",
       "      <td>6.062274</td>\n",
       "      <td>0.0</td>\n",
       "    </tr>\n",
       "    <tr>\n",
       "      <th>14</th>\n",
       "      <td>15</td>\n",
       "      <td>2.1659</td>\n",
       "      <td>3.1671</td>\n",
       "      <td>0.000000</td>\n",
       "      <td>0.0</td>\n",
       "      <td>0.0000</td>\n",
       "      <td>1.001200</td>\n",
       "      <td>6.631766</td>\n",
       "      <td>0.0</td>\n",
       "    </tr>\n",
       "    <tr>\n",
       "      <th>15</th>\n",
       "      <td>16</td>\n",
       "      <td>2.5046</td>\n",
       "      <td>2.7282</td>\n",
       "      <td>0.574438</td>\n",
       "      <td>0.0</td>\n",
       "      <td>0.0000</td>\n",
       "      <td>0.798038</td>\n",
       "      <td>7.000000</td>\n",
       "      <td>0.0</td>\n",
       "    </tr>\n",
       "    <tr>\n",
       "      <th>16</th>\n",
       "      <td>17</td>\n",
       "      <td>2.7490</td>\n",
       "      <td>2.3926</td>\n",
       "      <td>0.600493</td>\n",
       "      <td>0.0</td>\n",
       "      <td>0.0000</td>\n",
       "      <td>0.244093</td>\n",
       "      <td>6.875889</td>\n",
       "      <td>0.0</td>\n",
       "    </tr>\n",
       "    <tr>\n",
       "      <th>17</th>\n",
       "      <td>18</td>\n",
       "      <td>4.0597</td>\n",
       "      <td>2.1764</td>\n",
       "      <td>0.000000</td>\n",
       "      <td>0.0</td>\n",
       "      <td>1.8833</td>\n",
       "      <td>0.000000</td>\n",
       "      <td>4.555556</td>\n",
       "      <td>1.0</td>\n",
       "    </tr>\n",
       "    <tr>\n",
       "      <th>18</th>\n",
       "      <td>19</td>\n",
       "      <td>4.9924</td>\n",
       "      <td>1.9083</td>\n",
       "      <td>1.084100</td>\n",
       "      <td>0.0</td>\n",
       "      <td>2.0000</td>\n",
       "      <td>0.000000</td>\n",
       "      <td>2.222222</td>\n",
       "      <td>1.0</td>\n",
       "    </tr>\n",
       "    <tr>\n",
       "      <th>19</th>\n",
       "      <td>20</td>\n",
       "      <td>5.4257</td>\n",
       "      <td>1.4257</td>\n",
       "      <td>2.000000</td>\n",
       "      <td>0.0</td>\n",
       "      <td>2.0000</td>\n",
       "      <td>0.000000</td>\n",
       "      <td>0.000000</td>\n",
       "      <td>1.0</td>\n",
       "    </tr>\n",
       "    <tr>\n",
       "      <th>20</th>\n",
       "      <td>21</td>\n",
       "      <td>5.0491</td>\n",
       "      <td>0.0034</td>\n",
       "      <td>5.045700</td>\n",
       "      <td>0.0</td>\n",
       "      <td>0.0000</td>\n",
       "      <td>0.000000</td>\n",
       "      <td>0.000000</td>\n",
       "      <td>0.0</td>\n",
       "    </tr>\n",
       "    <tr>\n",
       "      <th>21</th>\n",
       "      <td>22</td>\n",
       "      <td>4.4294</td>\n",
       "      <td>0.0000</td>\n",
       "      <td>4.429400</td>\n",
       "      <td>0.0</td>\n",
       "      <td>0.0000</td>\n",
       "      <td>0.000000</td>\n",
       "      <td>0.000000</td>\n",
       "      <td>0.0</td>\n",
       "    </tr>\n",
       "    <tr>\n",
       "      <th>22</th>\n",
       "      <td>23</td>\n",
       "      <td>3.7692</td>\n",
       "      <td>0.0000</td>\n",
       "      <td>3.769200</td>\n",
       "      <td>0.0</td>\n",
       "      <td>0.0000</td>\n",
       "      <td>0.000000</td>\n",
       "      <td>0.000000</td>\n",
       "      <td>0.0</td>\n",
       "    </tr>\n",
       "    <tr>\n",
       "      <th>23</th>\n",
       "      <td>24</td>\n",
       "      <td>2.7716</td>\n",
       "      <td>0.0000</td>\n",
       "      <td>2.771600</td>\n",
       "      <td>0.0</td>\n",
       "      <td>0.0000</td>\n",
       "      <td>0.000000</td>\n",
       "      <td>0.000000</td>\n",
       "      <td>0.0</td>\n",
       "    </tr>\n",
       "  </tbody>\n",
       "</table>\n",
       "</div>"
      ],
      "text/plain": [
       "    Tempo  Demanda      GD        Ps   Pv    PAEi      PAEe       EAE  eAE\n",
       "0       1   1.9317  0.0000  1.931700  0.0  0.0000  0.000000  0.000000  0.0\n",
       "1       2   1.6090  0.0000  1.609000  0.0  0.0000  0.000000  0.000000  0.0\n",
       "2       3   1.4079  0.0000  1.407900  0.0  0.0000  0.000000  0.000000  0.0\n",
       "3       4   1.3281  0.0000  1.328100  0.0  0.0000  0.000000  0.000000  0.0\n",
       "4       5   1.3834  0.0796  1.303800  0.0  0.0000  0.000000  0.000000  0.0\n",
       "5       6   1.6413  0.4565  1.184800  0.0  0.0000  0.000000  0.000000  0.0\n",
       "6       7   1.9395  1.0742  0.865300  0.0  0.0000  0.000000  0.000000  0.0\n",
       "7       8   1.7383  1.5790  0.159300  0.0  0.0000  0.000000  0.000000  0.0\n",
       "8       9   1.8341  2.4343  0.000000  0.0  0.0000  0.600200  0.514457  0.0\n",
       "9      10   1.8354  2.7488  0.000000  0.0  0.0000  0.913400  1.272873  0.0\n",
       "10     11   1.9312  3.5092  0.000000  0.0  0.0000  1.578000  2.564832  0.0\n",
       "11     12   2.3645  3.8988  0.000000  0.0  0.0000  1.534300  3.757811  0.0\n",
       "12     13   2.2038  3.9734  0.000000  0.0  0.0000  1.769600  5.095668  0.0\n",
       "13     14   2.2997  3.7105  0.000000  0.0  0.0000  1.410800  6.062274  0.0\n",
       "14     15   2.1659  3.1671  0.000000  0.0  0.0000  1.001200  6.631766  0.0\n",
       "15     16   2.5046  2.7282  0.574438  0.0  0.0000  0.798038  7.000000  0.0\n",
       "16     17   2.7490  2.3926  0.600493  0.0  0.0000  0.244093  6.875889  0.0\n",
       "17     18   4.0597  2.1764  0.000000  0.0  1.8833  0.000000  4.555556  1.0\n",
       "18     19   4.9924  1.9083  1.084100  0.0  2.0000  0.000000  2.222222  1.0\n",
       "19     20   5.4257  1.4257  2.000000  0.0  2.0000  0.000000  0.000000  1.0\n",
       "20     21   5.0491  0.0034  5.045700  0.0  0.0000  0.000000  0.000000  0.0\n",
       "21     22   4.4294  0.0000  4.429400  0.0  0.0000  0.000000  0.000000  0.0\n",
       "22     23   3.7692  0.0000  3.769200  0.0  0.0000  0.000000  0.000000  0.0\n",
       "23     24   2.7716  0.0000  2.771600  0.0  0.0000  0.000000  0.000000  0.0"
      ]
     },
     "execution_count": 19,
     "metadata": {},
     "output_type": "execute_result"
    }
   ],
   "source": [
    "df"
   ]
  },
  {
   "cell_type": "code",
   "execution_count": 18,
   "metadata": {},
   "outputs": [
    {
     "name": "stdout",
     "output_type": "stream",
     "text": [
      "custo_total : Size=1, Index=None, Active=True\n",
      "    Key  : Active : Value\n",
      "    None :   True : 8.222603300170523\n"
     ]
    }
   ],
   "source": [
    "model.custo_total.display()"
   ]
  }
 ],
 "metadata": {
  "kernelspec": {
   "display_name": "Python 3",
   "language": "python",
   "name": "python3"
  },
  "language_info": {
   "codemirror_mode": {
    "name": "ipython",
    "version": 3
   },
   "file_extension": ".py",
   "mimetype": "text/x-python",
   "name": "python",
   "nbconvert_exporter": "python",
   "pygments_lexer": "ipython3",
   "version": "3.11.4"
  }
 },
 "nbformat": 4,
 "nbformat_minor": 2
}
