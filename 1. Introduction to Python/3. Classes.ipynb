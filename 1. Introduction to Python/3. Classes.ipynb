{
 "cells": [
  {
   "cell_type": "markdown",
   "metadata": {},
   "source": [
    "## Classes"
   ]
  },
  {
   "cell_type": "markdown",
   "metadata": {},
   "source": [
    "### Creating and Using a Class "
   ]
  },
  {
   "cell_type": "markdown",
   "metadata": {},
   "source": [
    "#### The __init__() Method\n",
    "\n",
    "- We define the __init__() method to have a three parameters: self, name and age. The $\\text{self}$ parameter is required in the method definition, and it must come first, before the other parameters. "
   ]
  },
  {
   "cell_type": "code",
   "execution_count": 1,
   "metadata": {},
   "outputs": [],
   "source": [
    "class Dog:\n",
    "    '''A simple attempt to model a dog.'''\n",
    "    def __init__(self, name, age):  # A function that's part of a class is a method.\n",
    "        '''Initialize name and age attributes.'''\n",
    "        self.name = name # Any variable prefixed with self is available to every method in the class.\n",
    "        self.age = age   # Variables like these are called attributes.\n",
    "    def sit(self):       #Methods are functions that are part of a class.\n",
    "        '''Simulate a dog sitting in response to a command.'''\n",
    "        print(f\"{self.name} is now sitting.\")\n",
    "    def roll_over(self): #Methods are functions that are part of a class.\n",
    "        '''Simulate a dog rolling over in response to a command.'''\n",
    "        print(f\"{self.name} rolled over!\")"
   ]
  },
  {
   "cell_type": "code",
   "execution_count": 10,
   "metadata": {},
   "outputs": [
    {
     "name": "stdout",
     "output_type": "stream",
     "text": [
      "My dog's name is Pepe.\n",
      "My dog is 10 years old.\n"
     ]
    }
   ],
   "source": [
    "# Creating an instance from a class\n",
    "my_dog = Dog('Pepe', 10)\n",
    "print(f\"My dog's name is {my_dog.name}.\")\n",
    "print(f\"My dog is {my_dog.age} years old.\")"
   ]
  },
  {
   "cell_type": "code",
   "execution_count": 14,
   "metadata": {},
   "outputs": [
    {
     "name": "stdout",
     "output_type": "stream",
     "text": [
      "Pepe\n",
      "10\n"
     ]
    }
   ],
   "source": [
    "# Accessing attributes\n",
    "print(my_dog.name)\n",
    "print(my_dog.age)"
   ]
  },
  {
   "cell_type": "code",
   "execution_count": 11,
   "metadata": {},
   "outputs": [
    {
     "name": "stdout",
     "output_type": "stream",
     "text": [
      "Pepe is now sitting.\n",
      "Pepe rolled over!\n"
     ]
    }
   ],
   "source": [
    "# Calling methods\n",
    "my_dog.sit()\n",
    "my_dog.roll_over()"
   ]
  },
  {
   "cell_type": "code",
   "execution_count": 15,
   "metadata": {},
   "outputs": [
    {
     "name": "stdout",
     "output_type": "stream",
     "text": [
      "\n",
      "Your dog's name is Lucy.\n",
      "Your dog is 3 years old.\n",
      "Lucy is now sitting.\n"
     ]
    }
   ],
   "source": [
    "# Creating multiple instances\n",
    "your_dog = Dog('Lucy', 3)\n",
    "print(f\"\\nYour dog's name is {your_dog.name}.\")\n",
    "print(f\"Your dog is {your_dog.age} years old.\")\n",
    "your_dog.sit()"
   ]
  },
  {
   "cell_type": "code",
   "execution_count": 16,
   "metadata": {},
   "outputs": [
    {
     "name": "stdout",
     "output_type": "stream",
     "text": [
      "\n",
      "Our dog's name is Lucy.\n",
      "Our dog is 3 years old.\n"
     ]
    }
   ],
   "source": [
    "our_dog = Dog('Lucy', 3)\n",
    "print(f\"\\nOur dog's name is {our_dog.name}.\")\n",
    "print(f\"Our dog is {our_dog.age} years old.\")"
   ]
  },
  {
   "cell_type": "code",
   "execution_count": 17,
   "metadata": {},
   "outputs": [
    {
     "data": {
      "text/plain": [
       "'Lucy'"
      ]
     },
     "execution_count": 17,
     "metadata": {},
     "output_type": "execute_result"
    }
   ],
   "source": [
    "our_dog.name"
   ]
  },
  {
   "cell_type": "code",
   "execution_count": 18,
   "metadata": {},
   "outputs": [
    {
     "data": {
      "text/plain": [
       "'Lucy'"
      ]
     },
     "execution_count": 18,
     "metadata": {},
     "output_type": "execute_result"
    }
   ],
   "source": [
    "your_dog.name"
   ]
  },
  {
   "cell_type": "markdown",
   "metadata": {},
   "source": [
    "#### Try It Yourself"
   ]
  },
  {
   "cell_type": "code",
   "execution_count": 8,
   "metadata": {},
   "outputs": [],
   "source": [
    "class Restaurant:\n",
    "    def __init__(self, restaurant_name, cuisine_type):\n",
    "        self.restaurant_name = restaurant_name.title()\n",
    "        self.cuisine_type = cuisine_type.title()\n",
    "    def describe_restaurant(self):\n",
    "        print(f'The name of the restaurant is: {self.restaurant_name}')\n",
    "        print(f'The cuisine type of the restaurant is: {self.cuisine_type}')\n",
    "    def open_restaurant(self):\n",
    "        print(f'\\n The {self.restaurant_name} is open')\n"
   ]
  },
  {
   "cell_type": "code",
   "execution_count": 9,
   "metadata": {},
   "outputs": [],
   "source": [
    "my_restaurant = Restaurant('micaela', 'andean food')"
   ]
  },
  {
   "cell_type": "code",
   "execution_count": 10,
   "metadata": {},
   "outputs": [
    {
     "data": {
      "text/plain": [
       "'Micaela'"
      ]
     },
     "execution_count": 10,
     "metadata": {},
     "output_type": "execute_result"
    }
   ],
   "source": [
    "my_restaurant.restaurant_name"
   ]
  },
  {
   "cell_type": "code",
   "execution_count": 11,
   "metadata": {},
   "outputs": [
    {
     "data": {
      "text/plain": [
       "'Andean Food'"
      ]
     },
     "execution_count": 11,
     "metadata": {},
     "output_type": "execute_result"
    }
   ],
   "source": [
    "my_restaurant.cuisine_type"
   ]
  },
  {
   "cell_type": "code",
   "execution_count": 12,
   "metadata": {},
   "outputs": [
    {
     "name": "stdout",
     "output_type": "stream",
     "text": [
      "The name of the restaurant is: Micaela\n",
      "The cuisine type of the restaurant is: Andean Food\n"
     ]
    }
   ],
   "source": [
    "my_restaurant.describe_restaurant()"
   ]
  },
  {
   "cell_type": "code",
   "execution_count": 13,
   "metadata": {},
   "outputs": [
    {
     "name": "stdout",
     "output_type": "stream",
     "text": [
      "\n",
      " The Micaela is open\n"
     ]
    }
   ],
   "source": [
    "my_restaurant.open_restaurant()"
   ]
  },
  {
   "cell_type": "code",
   "execution_count": 14,
   "metadata": {},
   "outputs": [],
   "source": [
    "your_restaurant = Restaurant('hanaq pacha', 'andean food')"
   ]
  },
  {
   "cell_type": "code",
   "execution_count": 15,
   "metadata": {},
   "outputs": [
    {
     "name": "stdout",
     "output_type": "stream",
     "text": [
      "The name of the restaurant is: Hanaq Pacha\n",
      "The cuisine type of the restaurant is: Andean Food\n",
      "\n",
      " The Hanaq Pacha is open\n"
     ]
    }
   ],
   "source": [
    "your_restaurant.describe_restaurant()\n",
    "your_restaurant.open_restaurant()"
   ]
  },
  {
   "cell_type": "code",
   "execution_count": 1,
   "metadata": {},
   "outputs": [],
   "source": [
    "class User:\n",
    "    def __init__(self, first_name, last_name):\n",
    "        self.first_name = first_name.title()\n",
    "        self.last_name = last_name.title()\n",
    "    def describe_user(self):\n",
    "        print(f'The name of the user is: {self.first_name} {self.last_name}')\n",
    "    def greet_user(self):\n",
    "        print(f'Hello {self.first_name} {self.last_name}')"
   ]
  },
  {
   "cell_type": "code",
   "execution_count": 3,
   "metadata": {},
   "outputs": [
    {
     "name": "stdout",
     "output_type": "stream",
     "text": [
      "The name of the user is: Derian Tairo\n",
      "Hello Derian Tairo\n"
     ]
    }
   ],
   "source": [
    "user_1 = User('derian', 'tairo')\n",
    "user_1.describe_user()\n",
    "user_1.greet_user()\n"
   ]
  },
  {
   "cell_type": "code",
   "execution_count": 4,
   "metadata": {},
   "outputs": [
    {
     "name": "stdout",
     "output_type": "stream",
     "text": [
      "The name of the user is: Micaela Tairo\n",
      "Hello Micaela Tairo\n"
     ]
    }
   ],
   "source": [
    "user_2 = User('micaela', 'tairo')\n",
    "user_2.describe_user()\n",
    "user_2.greet_user()"
   ]
  },
  {
   "cell_type": "markdown",
   "metadata": {},
   "source": [
    "### Working with Class and Instances"
   ]
  },
  {
   "cell_type": "markdown",
   "metadata": {},
   "source": [
    "#### Setting a Default Value for an Attribute"
   ]
  },
  {
   "cell_type": "code",
   "execution_count": 14,
   "metadata": {},
   "outputs": [],
   "source": [
    "class Car:\n",
    "    '''A simple attempt to represent a car.'''\n",
    "    def __init__(self, make, model, year):\n",
    "        '''Initialize attributes to describe a car.'''\n",
    "        self.make = make\n",
    "        self.model = model\n",
    "        self.year = year\n",
    "        self.odometer_reading = 0\n",
    "    \n",
    "    def get_descriptive_name(self):\n",
    "        '''Return a neatly formatted descriptive name.'''\n",
    "        long_name = f\"{self.year} {self.make} {self.model}\"\n",
    "        return long_name.title()\n",
    "    \n",
    "    def read_odometer(self):\n",
    "        '''Print a statement showing the car's mileage.'''\n",
    "        print(f\"This car has {self.odometer_reading} miles on it.\")"
   ]
  },
  {
   "cell_type": "code",
   "execution_count": 16,
   "metadata": {},
   "outputs": [
    {
     "name": "stdout",
     "output_type": "stream",
     "text": [
      "2019 Audi A4\n",
      "This car has 0 miles on it.\n"
     ]
    }
   ],
   "source": [
    "\n",
    "my_new_car = Car('audi', 'a4', 2019)\n",
    "print(my_new_car.get_descriptive_name())\n",
    "my_new_car.read_odometer()"
   ]
  },
  {
   "cell_type": "markdown",
   "metadata": {},
   "source": [
    "#### Modifying Attribute Values"
   ]
  },
  {
   "cell_type": "code",
   "execution_count": 17,
   "metadata": {},
   "outputs": [
    {
     "name": "stdout",
     "output_type": "stream",
     "text": [
      "This car has 23 miles on it.\n"
     ]
    }
   ],
   "source": [
    "# Modifying an attribute's value directly\n",
    "my_new_car.odometer_reading = 23 # Attribute from the method __init__\n",
    "my_new_car.read_odometer()"
   ]
  },
  {
   "cell_type": "code",
   "execution_count": 18,
   "metadata": {},
   "outputs": [
    {
     "data": {
      "text/plain": [
       "23"
      ]
     },
     "execution_count": 18,
     "metadata": {},
     "output_type": "execute_result"
    }
   ],
   "source": [
    "my_new_car.odometer_reading"
   ]
  },
  {
   "cell_type": "code",
   "execution_count": 19,
   "metadata": {},
   "outputs": [],
   "source": [
    "# Modifying an attribute's value through a method\n",
    "class Car:\n",
    "    '''A simple attempt to represent a car.'''\n",
    "    def __init__(self, make, model, year):\n",
    "        '''Initialize attributes to describe a car.'''\n",
    "        self.make = make\n",
    "        self.model = model\n",
    "        self.year = year\n",
    "        self.odometer_reading = 0\n",
    "    \n",
    "    def get_descriptive_name(self):\n",
    "        '''Return a neatly formatted descriptive name.'''\n",
    "        long_name = f\"{self.year} {self.make} {self.model}\"\n",
    "        return long_name.title()\n",
    "    \n",
    "    def read_odometer(self):\n",
    "        '''Print a statement showing the car's mileage.'''\n",
    "        print(f\"This car has {self.odometer_reading} miles on it.\")\n",
    "    \n",
    "    def update_odometer(self, mileage):\n",
    "        '''Set the odometer reading to the given value.'''\n",
    "        self.odometer_reading = mileage"
   ]
  },
  {
   "cell_type": "code",
   "execution_count": 20,
   "metadata": {},
   "outputs": [
    {
     "name": "stdout",
     "output_type": "stream",
     "text": [
      "2019 Audi A4\n",
      "This car has 23 miles on it.\n"
     ]
    }
   ],
   "source": [
    "my_new_car = Car('audi', 'a4', 2019)\n",
    "print(my_new_car.get_descriptive_name())\n",
    "\n",
    "my_new_car.update_odometer(23)\n",
    "my_new_car.read_odometer()"
   ]
  },
  {
   "cell_type": "code",
   "execution_count": 1,
   "metadata": {},
   "outputs": [],
   "source": [
    "class Car:\n",
    "    '''A simple attempt to represent a car.'''\n",
    "    def __init__(self, make, model, year):\n",
    "        '''Initialize attributes to describe a car.'''\n",
    "        self.make = make\n",
    "        self.model = model\n",
    "        self.year = year\n",
    "        self.odometer_reading = 0\n",
    "    \n",
    "    def get_descriptive_name(self):\n",
    "        '''Return a neatly formatted descriptive name.'''\n",
    "        long_name = f\"{self.year} {self.make} {self.model}\"\n",
    "        return long_name.title()\n",
    "    \n",
    "    def read_odometer(self):\n",
    "        '''Print a statement showing the car's mileage.'''\n",
    "        print(f\"This car has {self.odometer_reading} miles on it.\")\n",
    "    \n",
    "    def update_odometer(self, mileage):\n",
    "        '''Set the odometer reading to the given value.\n",
    "           Reject the change if it attempts to roll the odometer back.'''\n",
    "        if mileage >= self.odometer_reading:\n",
    "            self.odometer_reading = mileage\n",
    "        else:\n",
    "            print(\"You can't roll back an odometer!\")"
   ]
  },
  {
   "cell_type": "code",
   "execution_count": 3,
   "metadata": {},
   "outputs": [
    {
     "name": "stdout",
     "output_type": "stream",
     "text": [
      "2019 Audi A4\n",
      "This car has 20 miles on it.\n"
     ]
    }
   ],
   "source": [
    "my_new_car = Car('audi', 'a4', 2019)\n",
    "print(my_new_car.get_descriptive_name())\n",
    "\n",
    "my_new_car.update_odometer(20)\n",
    "my_new_car.read_odometer()"
   ]
  },
  {
   "cell_type": "code",
   "execution_count": 4,
   "metadata": {},
   "outputs": [
    {
     "name": "stdout",
     "output_type": "stream",
     "text": [
      "You can't roll back an odometer!\n",
      "This car has 20 miles on it.\n"
     ]
    }
   ],
   "source": [
    "my_new_car.update_odometer(10)\n",
    "my_new_car.read_odometer()"
   ]
  },
  {
   "cell_type": "code",
   "execution_count": 8,
   "metadata": {},
   "outputs": [],
   "source": [
    "# Incrementing an attribute's value through a method\n",
    "\n",
    "class Car:\n",
    "    '''A simple attempt to represent a car.'''\n",
    "    def __init__(self, make, model, year):\n",
    "        '''Initialize attributes to describe a car.'''\n",
    "        self.make = make\n",
    "        self.model = model\n",
    "        self.year = year\n",
    "        self.odometer_reading = 0\n",
    "    \n",
    "    def get_descriptive_name(self):\n",
    "        '''Return a neatly formatted descriptive name.'''\n",
    "        long_name = f\"{self.year} {self.make} {self.model}\"\n",
    "        return long_name.title()\n",
    "    \n",
    "    def read_odometer(self):\n",
    "        '''Print a statement showing the car's mileage.'''\n",
    "        print(f\"This car has {self.odometer_reading} miles on it.\")\n",
    "    \n",
    "    def update_odometer(self, mileage):\n",
    "        '''Set the odometer reading to the given value.\n",
    "           Reject the change if it attempts to roll the odometer back.'''\n",
    "        if mileage >= self.odometer_reading:\n",
    "            self.odometer_reading = mileage\n",
    "        else:\n",
    "            print(\"You can't roll back an odometer!\")\n",
    "    \n",
    "    def increment_odometer(self, miles):\n",
    "        '''Add the given amount to the odometer reading.'''\n",
    "        self.odometer_reading += miles"
   ]
  },
  {
   "cell_type": "code",
   "execution_count": 11,
   "metadata": {},
   "outputs": [
    {
     "name": "stdout",
     "output_type": "stream",
     "text": [
      "2019 Subaru Outback\n",
      "This car has 23500 miles on it.\n",
      "This car has 23600 miles on it.\n"
     ]
    }
   ],
   "source": [
    "my_used_car = Car('subaru', 'outback', 2019)\n",
    "print(my_used_car.get_descriptive_name())\n",
    "\n",
    "my_used_car.update_odometer(23_500)\n",
    "my_used_car.read_odometer()\n",
    "\n",
    "my_used_car.increment_odometer(100)\n",
    "my_used_car.read_odometer()"
   ]
  },
  {
   "cell_type": "code",
   "execution_count": 12,
   "metadata": {},
   "outputs": [
    {
     "name": "stdout",
     "output_type": "stream",
     "text": [
      "This car has 23800 miles on it.\n"
     ]
    }
   ],
   "source": [
    "my_used_car.increment_odometer(200)\n",
    "my_used_car.read_odometer()"
   ]
  },
  {
   "cell_type": "code",
   "execution_count": 13,
   "metadata": {},
   "outputs": [
    {
     "name": "stdout",
     "output_type": "stream",
     "text": [
      "You can't roll back an odometer!\n",
      "This car has 23800 miles on it.\n"
     ]
    }
   ],
   "source": [
    "my_used_car.update_odometer(23_500)\n",
    "my_used_car.read_odometer()"
   ]
  },
  {
   "cell_type": "markdown",
   "metadata": {},
   "source": [
    "#### Try It Yourself"
   ]
  },
  {
   "cell_type": "code",
   "execution_count": 22,
   "metadata": {},
   "outputs": [],
   "source": [
    "class Restaurant:\n",
    "    def __init__(self, restaurant_name, cuisine_type):\n",
    "        self.restaurant_name = restaurant_name.title()\n",
    "        self.cuisine_type = cuisine_type.title()\n",
    "        self.number_served = 0\n",
    "    def describe_restaurant(self):\n",
    "        print(f'The name of the restaurant is: {self.restaurant_name}')\n",
    "        print(f'The cuisine type of the restaurant is: {self.cuisine_type}')\n",
    "        print(f'The restaurant {self.restaurant_name} have {self.number_served} served')\n",
    "    def set_number_served(self, n_served):\n",
    "        self.number_served = n_served\n",
    "    "
   ]
  },
  {
   "cell_type": "code",
   "execution_count": 23,
   "metadata": {},
   "outputs": [
    {
     "name": "stdout",
     "output_type": "stream",
     "text": [
      "The name of the restaurant is: Micaela\n",
      "The cuisine type of the restaurant is: Andean Food\n",
      "The restaurant Micaela have 0 served\n"
     ]
    }
   ],
   "source": [
    "restaurant_1 = Restaurant('Micaela', 'Andean food')\n",
    "restaurant_1.describe_restaurant()"
   ]
  },
  {
   "cell_type": "code",
   "execution_count": 24,
   "metadata": {},
   "outputs": [
    {
     "name": "stdout",
     "output_type": "stream",
     "text": [
      "The name of the restaurant is: Micaela\n",
      "The cuisine type of the restaurant is: Andean Food\n",
      "The restaurant Micaela have 10 served\n"
     ]
    }
   ],
   "source": [
    "restaurant_1.number_served = 10\n",
    "restaurant_1.describe_restaurant()"
   ]
  },
  {
   "cell_type": "code",
   "execution_count": 25,
   "metadata": {},
   "outputs": [
    {
     "name": "stdout",
     "output_type": "stream",
     "text": [
      "The name of the restaurant is: Micaela\n",
      "The cuisine type of the restaurant is: Andean Food\n",
      "The restaurant Micaela have 15 served\n"
     ]
    }
   ],
   "source": [
    "restaurant_1.set_number_served(15)\n",
    "restaurant_1.describe_restaurant()"
   ]
  },
  {
   "cell_type": "code",
   "execution_count": 21,
   "metadata": {},
   "outputs": [],
   "source": [
    "class Restaurant:\n",
    "    def __init__(self, restaurant_name, cuisine_type):\n",
    "        self.restaurant_name = restaurant_name.title()\n",
    "        self.cuisine_type = cuisine_type.title()\n",
    "        self.number_served = 0\n",
    "    def describe_restaurant(self):\n",
    "        print(f'The name of the restaurant is: {self.restaurant_name}')\n",
    "        print(f'The cuisine type of the restaurant is: {self.cuisine_type}')\n",
    "        print(f'\\nThe restaurant {self.restaurant_name} have {self.number_served} customers served')\n",
    "    def set_number_served(self, n_served):\n",
    "        self.number_served = n_served\n",
    "    def increment_number_served(self, increment):\n",
    "        self.number_served += increment\n"
   ]
  },
  {
   "cell_type": "code",
   "execution_count": 22,
   "metadata": {},
   "outputs": [
    {
     "name": "stdout",
     "output_type": "stream",
     "text": [
      "The name of the restaurant is: Camila\n",
      "The cuisine type of the restaurant is: Peruvian Food\n",
      "\n",
      "The restaurant Camila have 0 customers served\n"
     ]
    }
   ],
   "source": [
    "restaurant_1 = Restaurant('Camila', 'Peruvian food')\n",
    "restaurant_1.describe_restaurant()"
   ]
  },
  {
   "cell_type": "code",
   "execution_count": 23,
   "metadata": {},
   "outputs": [
    {
     "name": "stdout",
     "output_type": "stream",
     "text": [
      "The name of the restaurant is: Camila\n",
      "The cuisine type of the restaurant is: Peruvian Food\n",
      "\n",
      "The restaurant Camila have 5 customers served\n"
     ]
    }
   ],
   "source": [
    "restaurant_1.set_number_served(5)\n",
    "restaurant_1.describe_restaurant()"
   ]
  },
  {
   "cell_type": "code",
   "execution_count": 24,
   "metadata": {},
   "outputs": [
    {
     "name": "stdout",
     "output_type": "stream",
     "text": [
      "The name of the restaurant is: Camila\n",
      "The cuisine type of the restaurant is: Peruvian Food\n",
      "\n",
      "The restaurant Camila have 7 customers served\n"
     ]
    }
   ],
   "source": [
    "restaurant_1.increment_number_served(2)\n",
    "restaurant_1.describe_restaurant()"
   ]
  },
  {
   "cell_type": "code",
   "execution_count": null,
   "metadata": {},
   "outputs": [],
   "source": [
    "class User:\n",
    "    def __init__(self, first_name, last_name):\n",
    "        self.first_name = first_name.title()\n",
    "        self.last_name = last_name.title()\n",
    "        self.login_attempts = 0\n",
    "    def describe_user(self):\n",
    "        print(f'The name of the user is: {self.first_name} {self.last_name}')\n",
    "    def greet_user(self):\n",
    "        print(f'Hello {self.first_name} {self.last_name}')\n",
    "    def increment_user(self, increment):\n",
    "        self.last_name += increment"
   ]
  },
  {
   "cell_type": "markdown",
   "metadata": {},
   "source": [
    "#### Bibliography\n",
    "\n",
    "Python Crash Course, Third Edition. \n",
    "\n",
    "- [Link](https://nostarch.com/python-crash-course-3rd-edition) \n",
    "\n",
    "- [Link 2](https://ehmatthes.github.io/pcc_3e/)\n",
    "\n",
    "- [GitHub](https://github.com/ehmatthes/pcc_3e/)"
   ]
  }
 ],
 "metadata": {
  "kernelspec": {
   "display_name": "Python 3",
   "language": "python",
   "name": "python3"
  },
  "language_info": {
   "codemirror_mode": {
    "name": "ipython",
    "version": 3
   },
   "file_extension": ".py",
   "mimetype": "text/x-python",
   "name": "python",
   "nbconvert_exporter": "python",
   "pygments_lexer": "ipython3",
   "version": "3.12.2"
  }
 },
 "nbformat": 4,
 "nbformat_minor": 2
}
